{
 "cells": [
  {
   "cell_type": "code",
   "execution_count": 5,
   "metadata": {},
   "outputs": [],
   "source": [
    "import pandas as pd"
   ]
  },
  {
   "cell_type": "code",
   "execution_count": 6,
   "metadata": {},
   "outputs": [],
   "source": [
    "from sklearn.linear_model import LogisticRegression\n",
    "from sklearn.model_selection import cross_val_score\n",
    "from sklearn.feature_extraction.text import TfidfVectorizer\n",
    "from nltk.corpus import stopwords \n",
    "import re"
   ]
  },
  {
   "cell_type": "code",
   "execution_count": 7,
   "metadata": {},
   "outputs": [],
   "source": [
    "from fuzzywuzzy import fuzz\n",
    "from fuzzywuzzy import process"
   ]
  },
  {
   "cell_type": "markdown",
   "metadata": {},
   "source": [
    "#### Загружаем тренировочные данные"
   ]
  },
  {
   "cell_type": "code",
   "execution_count": 8,
   "metadata": {},
   "outputs": [],
   "source": [
    "train = pd.read_parquet('data_fusion_train.parquet')"
   ]
  },
  {
   "cell_type": "code",
   "execution_count": 308,
   "metadata": {},
   "outputs": [
    {
     "data": {
      "text/html": [
       "<div>\n",
       "<style scoped>\n",
       "    .dataframe tbody tr th:only-of-type {\n",
       "        vertical-align: middle;\n",
       "    }\n",
       "\n",
       "    .dataframe tbody tr th {\n",
       "        vertical-align: top;\n",
       "    }\n",
       "\n",
       "    .dataframe thead th {\n",
       "        text-align: right;\n",
       "    }\n",
       "</style>\n",
       "<table border=\"1\" class=\"dataframe\">\n",
       "  <thead>\n",
       "    <tr style=\"text-align: right;\">\n",
       "      <th></th>\n",
       "      <th>receipt_id</th>\n",
       "      <th>receipt_dayofweek</th>\n",
       "      <th>receipt_time</th>\n",
       "      <th>item_name</th>\n",
       "      <th>item_quantity</th>\n",
       "      <th>item_price</th>\n",
       "      <th>item_nds_rate</th>\n",
       "      <th>category_id</th>\n",
       "      <th>brands</th>\n",
       "    </tr>\n",
       "  </thead>\n",
       "  <tbody>\n",
       "    <tr>\n",
       "      <th>1</th>\n",
       "      <td>11</td>\n",
       "      <td>6</td>\n",
       "      <td>20:34</td>\n",
       "      <td>Молоко 3,2%,шт</td>\n",
       "      <td>2.0</td>\n",
       "      <td>8</td>\n",
       "      <td>2</td>\n",
       "      <td>78</td>\n",
       "      <td>None</td>\n",
       "    </tr>\n",
       "    <tr>\n",
       "      <th>3</th>\n",
       "      <td>39</td>\n",
       "      <td>4</td>\n",
       "      <td>11:28</td>\n",
       "      <td>Компот из изюма, 114 ккал</td>\n",
       "      <td>1.0</td>\n",
       "      <td>4</td>\n",
       "      <td>1</td>\n",
       "      <td>71</td>\n",
       "      <td>None</td>\n",
       "    </tr>\n",
       "    <tr>\n",
       "      <th>4</th>\n",
       "      <td>39</td>\n",
       "      <td>4</td>\n",
       "      <td>11:28</td>\n",
       "      <td>Макаронные изделия отварные (масло сливочное),...</td>\n",
       "      <td>1.0</td>\n",
       "      <td>4</td>\n",
       "      <td>1</td>\n",
       "      <td>71</td>\n",
       "      <td>None</td>\n",
       "    </tr>\n",
       "    <tr>\n",
       "      <th>17</th>\n",
       "      <td>56</td>\n",
       "      <td>5</td>\n",
       "      <td>11:42</td>\n",
       "      <td>Кофе Капучино Большой Эден 18</td>\n",
       "      <td>1.0</td>\n",
       "      <td>12</td>\n",
       "      <td>1</td>\n",
       "      <td>70</td>\n",
       "      <td>None</td>\n",
       "    </tr>\n",
       "    <tr>\n",
       "      <th>40</th>\n",
       "      <td>105</td>\n",
       "      <td>3</td>\n",
       "      <td>01:53</td>\n",
       "      <td>Хлеб на СЫВОРОТКЕ 350г</td>\n",
       "      <td>1.0</td>\n",
       "      <td>7</td>\n",
       "      <td>-1</td>\n",
       "      <td>84</td>\n",
       "      <td>None</td>\n",
       "    </tr>\n",
       "  </tbody>\n",
       "</table>\n",
       "</div>"
      ],
      "text/plain": [
       "    receipt_id  receipt_dayofweek receipt_time  \\\n",
       "1           11                  6        20:34   \n",
       "3           39                  4        11:28   \n",
       "4           39                  4        11:28   \n",
       "17          56                  5        11:42   \n",
       "40         105                  3        01:53   \n",
       "\n",
       "                                            item_name  item_quantity  \\\n",
       "1                                      Молоко 3,2%,шт            2.0   \n",
       "3                           Компот из изюма, 114 ккал            1.0   \n",
       "4   Макаронные изделия отварные (масло сливочное),...            1.0   \n",
       "17                      Кофе Капучино Большой Эден 18            1.0   \n",
       "40                             Хлеб на СЫВОРОТКЕ 350г            1.0   \n",
       "\n",
       "    item_price  item_nds_rate  category_id brands  \n",
       "1            8              2           78   None  \n",
       "3            4              1           71   None  \n",
       "4            4              1           71   None  \n",
       "17          12              1           70   None  \n",
       "40           7             -1           84   None  "
      ]
     },
     "execution_count": 308,
     "metadata": {},
     "output_type": "execute_result"
    }
   ],
   "source": [
    "train.head()"
   ]
  },
  {
   "cell_type": "markdown",
   "metadata": {},
   "source": [
    "- **receipt_id** —  id чека;\n",
    "- **receipt_dayofweek** — день недели;\n",
    "- **receipt_time** — время создания чека;\n",
    "- **item_name** — наименование товара;\n",
    "- **item_quantity** — количество товара;\n",
    "- **item_price** — цена товара;\n",
    "- **item_nds_rate** — ставка НДС;\n",
    "- **category_id** — категория товара. "
   ]
  },
  {
   "cell_type": "markdown",
   "metadata": {},
   "source": [
    "**Найдем 5 наиболее частых item_name**"
   ]
  },
  {
   "cell_type": "code",
   "execution_count": 395,
   "metadata": {},
   "outputs": [
    {
     "data": {
      "text/plain": [
       "Пакет                  1266157\n",
       "ЗЕЛПМ-КА32Х62Х17         59320\n",
       "Доставка                 55346\n",
       "Станд Картофель фри      19634\n",
       "БАНАНЫ КНОПКА 18         16736\n",
       "Name: item_name, dtype: int64"
      ]
     },
     "execution_count": 395,
     "metadata": {},
     "output_type": "execute_result"
    }
   ],
   "source": [
    "train['item_name'].value_counts().head()"
   ]
  },
  {
   "cell_type": "markdown",
   "metadata": {},
   "source": [
    "**Удалим данные без категории (-1)**"
   ]
  },
  {
   "cell_type": "code",
   "execution_count": 9,
   "metadata": {},
   "outputs": [],
   "source": [
    "train = train[train.category_id != -1]"
   ]
  },
  {
   "cell_type": "code",
   "execution_count": 383,
   "metadata": {},
   "outputs": [
    {
     "data": {
      "text/plain": [
       "array([203,  78,  79,  40, 103,  80, 139, 204,  84, 143,  85, 133,  30,\n",
       "        77,  76,  73,  70, 114,  83, 164,  81,  11,  75, 140, 130, 150,\n",
       "        38,  82, 145, 121, 117,  74, 167], dtype=int64)"
      ]
     },
     "execution_count": 383,
     "metadata": {},
     "output_type": "execute_result"
    }
   ],
   "source": [
    "train[(train['item_name'] == 'Пакет')]['category_id'].unique()"
   ]
  },
  {
   "cell_type": "markdown",
   "metadata": {},
   "source": [
    "**Товар \"Пакет\" самый популярный и попал в разные категории. Его посмотрим позже отдельно.**"
   ]
  },
  {
   "cell_type": "code",
   "execution_count": 385,
   "metadata": {},
   "outputs": [
    {
     "data": {
      "text/plain": [
       "array([203], dtype=int64)"
      ]
     },
     "execution_count": 385,
     "metadata": {},
     "output_type": "execute_result"
    }
   ],
   "source": [
    "train[(train['item_name'] == 'ЗЕЛПМ-КА32Х62Х17')]['category_id'].unique()"
   ]
  },
  {
   "cell_type": "code",
   "execution_count": 386,
   "metadata": {},
   "outputs": [
    {
     "data": {
      "text/plain": [
       "array([204], dtype=int64)"
      ]
     },
     "execution_count": 386,
     "metadata": {},
     "output_type": "execute_result"
    }
   ],
   "source": [
    "train[(train['item_name'] == 'Доставка')]['category_id'].unique()"
   ]
  },
  {
   "cell_type": "code",
   "execution_count": 396,
   "metadata": {},
   "outputs": [
    {
     "data": {
      "text/plain": [
       "array([69], dtype=int64)"
      ]
     },
     "execution_count": 396,
     "metadata": {},
     "output_type": "execute_result"
    }
   ],
   "source": [
    "train[(train['item_name'] == 'Станд Картофель фри')]['category_id'].unique()"
   ]
  },
  {
   "cell_type": "code",
   "execution_count": 397,
   "metadata": {},
   "outputs": [
    {
     "data": {
      "text/plain": [
       "array([80], dtype=int64)"
      ]
     },
     "execution_count": 397,
     "metadata": {},
     "output_type": "execute_result"
    }
   ],
   "source": [
    "train[(train['item_name'] == 'БАНАНЫ КНОПКА 18')]['category_id'].unique()"
   ]
  },
  {
   "cell_type": "markdown",
   "metadata": {},
   "source": [
    "**Остальные товары из ТОП-5 в одной категории**"
   ]
  },
  {
   "cell_type": "code",
   "execution_count": 10,
   "metadata": {},
   "outputs": [],
   "source": [
    "train = train[train.category_id != -1].drop_duplicates('item_name').reset_index(drop=True)"
   ]
  },
  {
   "cell_type": "code",
   "execution_count": 334,
   "metadata": {},
   "outputs": [],
   "source": [
    "train = train.drop('brands', axis=1)"
   ]
  },
  {
   "cell_type": "code",
   "execution_count": 297,
   "metadata": {},
   "outputs": [
    {
     "data": {
      "text/plain": [
       "(26094077, 8)"
      ]
     },
     "execution_count": 297,
     "metadata": {},
     "output_type": "execute_result"
    }
   ],
   "source": [
    "train.shape"
   ]
  },
  {
   "cell_type": "code",
   "execution_count": 8,
   "metadata": {},
   "outputs": [
    {
     "data": {
      "text/html": [
       "<div>\n",
       "<style scoped>\n",
       "    .dataframe tbody tr th:only-of-type {\n",
       "        vertical-align: middle;\n",
       "    }\n",
       "\n",
       "    .dataframe tbody tr th {\n",
       "        vertical-align: top;\n",
       "    }\n",
       "\n",
       "    .dataframe thead th {\n",
       "        text-align: right;\n",
       "    }\n",
       "</style>\n",
       "<table border=\"1\" class=\"dataframe\">\n",
       "  <thead>\n",
       "    <tr style=\"text-align: right;\">\n",
       "      <th></th>\n",
       "      <th>receipt_id</th>\n",
       "      <th>receipt_dayofweek</th>\n",
       "      <th>receipt_time</th>\n",
       "      <th>item_name</th>\n",
       "      <th>item_quantity</th>\n",
       "      <th>item_price</th>\n",
       "      <th>item_nds_rate</th>\n",
       "      <th>category_id</th>\n",
       "    </tr>\n",
       "  </thead>\n",
       "  <tbody>\n",
       "    <tr>\n",
       "      <th>2</th>\n",
       "      <td>39</td>\n",
       "      <td>4</td>\n",
       "      <td>11:28</td>\n",
       "      <td>Макаронные изделия отварные (масло сливочное),...</td>\n",
       "      <td>1.0</td>\n",
       "      <td>4</td>\n",
       "      <td>1</td>\n",
       "      <td>71</td>\n",
       "    </tr>\n",
       "    <tr>\n",
       "      <th>7</th>\n",
       "      <td>129</td>\n",
       "      <td>3</td>\n",
       "      <td>15:17</td>\n",
       "      <td>Станд Картофель фри</td>\n",
       "      <td>2.0</td>\n",
       "      <td>8</td>\n",
       "      <td>6</td>\n",
       "      <td>69</td>\n",
       "    </tr>\n",
       "    <tr>\n",
       "      <th>8</th>\n",
       "      <td>129</td>\n",
       "      <td>3</td>\n",
       "      <td>15:17</td>\n",
       "      <td>Хот-дог Куриный СБ</td>\n",
       "      <td>1.0</td>\n",
       "      <td>9</td>\n",
       "      <td>2</td>\n",
       "      <td>69</td>\n",
       "    </tr>\n",
       "    <tr>\n",
       "      <th>9</th>\n",
       "      <td>129</td>\n",
       "      <td>3</td>\n",
       "      <td>15:17</td>\n",
       "      <td>Чизбургер с луком СБ</td>\n",
       "      <td>1.0</td>\n",
       "      <td>9</td>\n",
       "      <td>2</td>\n",
       "      <td>68</td>\n",
       "    </tr>\n",
       "    <tr>\n",
       "      <th>11</th>\n",
       "      <td>131</td>\n",
       "      <td>1</td>\n",
       "      <td>08:21</td>\n",
       "      <td>Молоко пастерилиз. т/рекс 2,5 %  1 л. 1/8 БМК</td>\n",
       "      <td>1.0</td>\n",
       "      <td>8</td>\n",
       "      <td>2</td>\n",
       "      <td>78</td>\n",
       "    </tr>\n",
       "  </tbody>\n",
       "</table>\n",
       "</div>"
      ],
      "text/plain": [
       "    receipt_id  receipt_dayofweek receipt_time  \\\n",
       "2           39                  4        11:28   \n",
       "7          129                  3        15:17   \n",
       "8          129                  3        15:17   \n",
       "9          129                  3        15:17   \n",
       "11         131                  1        08:21   \n",
       "\n",
       "                                            item_name  item_quantity  \\\n",
       "2   Макаронные изделия отварные (масло сливочное),...            1.0   \n",
       "7                                 Станд Картофель фри            2.0   \n",
       "8                                  Хот-дог Куриный СБ            1.0   \n",
       "9                                Чизбургер с луком СБ            1.0   \n",
       "11      Молоко пастерилиз. т/рекс 2,5 %  1 л. 1/8 БМК            1.0   \n",
       "\n",
       "    item_price  item_nds_rate  category_id  \n",
       "2            4              1           71  \n",
       "7            8              6           69  \n",
       "8            9              2           69  \n",
       "9            9              2           68  \n",
       "11           8              2           78  "
      ]
     },
     "execution_count": 8,
     "metadata": {},
     "output_type": "execute_result"
    }
   ],
   "source": [
    "train[train['receipt_id'].duplicated()].head()"
   ]
  },
  {
   "cell_type": "markdown",
   "metadata": {},
   "source": [
    "#### В одном чеке несколько товаров"
   ]
  },
  {
   "cell_type": "code",
   "execution_count": 317,
   "metadata": {},
   "outputs": [
    {
     "name": "stdout",
     "output_type": "stream",
     "text": [
      "[ 78  71  70  84  69  68  40 203  79   7 117  80  83  53  73  81   0  12\n",
      "  85  77 145   2 204 139  38  74 130  75  49  45 133  76  82  19  43  51\n",
      "  61 177 118  92  36  30 167  66  52 107  37   3  72  62  50 120  42 150\n",
      "  57   6 140 101 163  20 103   4  31  67  27  29 114 102 115  26  35  39\n",
      "  13   9 128  60  41 138  11 100  24  96 109 106  56 143 105  90   1 108\n",
      " 164  55 111  58  54  97  46 121]\n"
     ]
    },
    {
     "data": {
      "text/plain": [
       "(98,)"
      ]
     },
     "execution_count": 317,
     "metadata": {},
     "output_type": "execute_result"
    }
   ],
   "source": [
    "print(train['category_id'].unique())\n",
    "train['category_id'].unique().shape"
   ]
  },
  {
   "cell_type": "code",
   "execution_count": 330,
   "metadata": {},
   "outputs": [
    {
     "name": "stdout",
     "output_type": "stream",
     "text": [
      "[ 78  71  70  84  69  68  40 203  79   7 117  80  83  53  73  81   0  12\n",
      "  85  77 145   2 204 139  38  74 130  75  49  45 133  76  82  19  43  51\n",
      "  61 177 118  92  36  30 167  66  52 107  37   3  72  62  50 120  42 150\n",
      "  57   6 140 101 163  20   4  31  67  27  29 114 102 115  26  35  39 103\n",
      "  13   9 128  60  41 138  11 100  24  96 109 106  56 105  90   1 108 164\n",
      "  55 111  58  54  97  46]\n"
     ]
    },
    {
     "data": {
      "text/plain": [
       "(96,)"
      ]
     },
     "execution_count": 330,
     "metadata": {},
     "output_type": "execute_result"
    }
   ],
   "source": [
    "print(train['category_id'].unique())\n",
    "train['category_id'].unique().shape"
   ]
  },
  {
   "cell_type": "code",
   "execution_count": 300,
   "metadata": {},
   "outputs": [
    {
     "data": {
      "text/plain": [
       "receipt_id           0\n",
       "receipt_dayofweek    0\n",
       "receipt_time         0\n",
       "item_name            0\n",
       "item_quantity        0\n",
       "item_price           0\n",
       "item_nds_rate        0\n",
       "category_id          0\n",
       "dtype: int64"
      ]
     },
     "execution_count": 300,
     "metadata": {},
     "output_type": "execute_result"
    }
   ],
   "source": [
    "train.isnull().sum()"
   ]
  },
  {
   "cell_type": "code",
   "execution_count": 318,
   "metadata": {},
   "outputs": [
    {
     "data": {
      "text/plain": [
       "34917"
      ]
     },
     "execution_count": 318,
     "metadata": {},
     "output_type": "execute_result"
    }
   ],
   "source": [
    "train.duplicated().sum()"
   ]
  },
  {
   "cell_type": "code",
   "execution_count": 313,
   "metadata": {},
   "outputs": [],
   "source": [
    "gr_train = train[train['item_name'].duplicated()].groupby('item_name')"
   ]
  },
  {
   "cell_type": "code",
   "execution_count": 321,
   "metadata": {},
   "outputs": [
    {
     "data": {
      "text/plain": [
       "item_name\n",
       "                                                    [71, 84, 204, 74]\n",
       "                                КАРТОФЕЛЬ ВЕС                    [80]\n",
       "                             МИСКА                              [130]\n",
       "                             НОСКИ                               [61]\n",
       "                            БАНАНЫ кг                            [80]\n",
       "                                                          ...        \n",
       "яйцо куриное С1 10 шт бокс ИП Мусиенко                           [78]\n",
       "яйцо под майонезом 90г  1 порц.                                  [71]\n",
       "якобс монарх 1.8gr                                               [85]\n",
       "ярина плюс таб п/об пленочной 3мг+0.03мг+0.451мг                 [38]\n",
       "№1 с люля-кебаб (фри) 1  порц                                    [71]\n",
       "Name: category_id, Length: 40093, dtype: object"
      ]
     },
     "execution_count": 321,
     "metadata": {},
     "output_type": "execute_result"
    }
   ],
   "source": [
    "gr_train['category_id'].unique()"
   ]
  },
  {
   "cell_type": "code",
   "execution_count": null,
   "metadata": {},
   "outputs": [],
   "source": []
  },
  {
   "cell_type": "code",
   "execution_count": 11,
   "metadata": {},
   "outputs": [
    {
     "data": {
      "text/plain": [
       "category_id\n",
       "0      2356\n",
       "1        28\n",
       "2       316\n",
       "3       109\n",
       "4       225\n",
       "       ... \n",
       "164      74\n",
       "167      91\n",
       "177     119\n",
       "203      59\n",
       "204    1146\n",
       "Name: category_id, Length: 96, dtype: int64"
      ]
     },
     "execution_count": 11,
     "metadata": {},
     "output_type": "execute_result"
    }
   ],
   "source": [
    "train.groupby('category_id')['category_id'].count()"
   ]
  },
  {
   "cell_type": "code",
   "execution_count": 12,
   "metadata": {},
   "outputs": [
    {
     "data": {
      "text/plain": [
       "7094"
      ]
     },
     "execution_count": 12,
     "metadata": {},
     "output_type": "execute_result"
    }
   ],
   "source": [
    "train.groupby('category_id')['category_id'].count().max()"
   ]
  },
  {
   "cell_type": "code",
   "execution_count": 13,
   "metadata": {},
   "outputs": [
    {
     "data": {
      "text/plain": [
       "13"
      ]
     },
     "execution_count": 13,
     "metadata": {},
     "output_type": "execute_result"
    }
   ],
   "source": [
    "train.groupby('category_id')['category_id'].count().min()"
   ]
  },
  {
   "cell_type": "code",
   "execution_count": 82,
   "metadata": {},
   "outputs": [
    {
     "data": {
      "text/html": [
       "<div>\n",
       "<style scoped>\n",
       "    .dataframe tbody tr th:only-of-type {\n",
       "        vertical-align: middle;\n",
       "    }\n",
       "\n",
       "    .dataframe tbody tr th {\n",
       "        vertical-align: top;\n",
       "    }\n",
       "\n",
       "    .dataframe thead th {\n",
       "        text-align: right;\n",
       "    }\n",
       "</style>\n",
       "<table border=\"1\" class=\"dataframe\">\n",
       "  <thead>\n",
       "    <tr style=\"text-align: right;\">\n",
       "      <th></th>\n",
       "      <th>receipt_id</th>\n",
       "      <th>receipt_dayofweek</th>\n",
       "      <th>receipt_time</th>\n",
       "      <th>item_name</th>\n",
       "      <th>item_quantity</th>\n",
       "      <th>item_price</th>\n",
       "      <th>item_nds_rate</th>\n",
       "      <th>category_id</th>\n",
       "    </tr>\n",
       "  </thead>\n",
       "  <tbody>\n",
       "    <tr>\n",
       "      <th>20</th>\n",
       "      <td>491</td>\n",
       "      <td>1</td>\n",
       "      <td>17:36</td>\n",
       "      <td>Вафли с топленым молоком вес. 1кг Тортугалия</td>\n",
       "      <td>0.354</td>\n",
       "      <td>11</td>\n",
       "      <td>1</td>\n",
       "      <td>84</td>\n",
       "    </tr>\n",
       "    <tr>\n",
       "      <th>21</th>\n",
       "      <td>558</td>\n",
       "      <td>1</td>\n",
       "      <td>13:55</td>\n",
       "      <td>Сметана  Кубанский  Молочник  20%  180гр шт</td>\n",
       "      <td>1.000</td>\n",
       "      <td>7</td>\n",
       "      <td>6</td>\n",
       "      <td>78</td>\n",
       "    </tr>\n",
       "    <tr>\n",
       "      <th>22</th>\n",
       "      <td>607</td>\n",
       "      <td>6</td>\n",
       "      <td>10:35</td>\n",
       "      <td>Баклажаны 1кг</td>\n",
       "      <td>0.173</td>\n",
       "      <td>8</td>\n",
       "      <td>2</td>\n",
       "      <td>80</td>\n",
       "    </tr>\n",
       "    <tr>\n",
       "      <th>23</th>\n",
       "      <td>615</td>\n",
       "      <td>3</td>\n",
       "      <td>20:35</td>\n",
       "      <td>НЕКТАР МУЛЬТИФРУК КД</td>\n",
       "      <td>1.000</td>\n",
       "      <td>4</td>\n",
       "      <td>2</td>\n",
       "      <td>83</td>\n",
       "    </tr>\n",
       "    <tr>\n",
       "      <th>24</th>\n",
       "      <td>615</td>\n",
       "      <td>3</td>\n",
       "      <td>20:35</td>\n",
       "      <td>СМЕТАНА 20% 300Г</td>\n",
       "      <td>1.000</td>\n",
       "      <td>8</td>\n",
       "      <td>2</td>\n",
       "      <td>78</td>\n",
       "    </tr>\n",
       "    <tr>\n",
       "      <th>25</th>\n",
       "      <td>629</td>\n",
       "      <td>3</td>\n",
       "      <td>13:18</td>\n",
       "      <td>Брюки трик. женские</td>\n",
       "      <td>1.000</td>\n",
       "      <td>14</td>\n",
       "      <td>1</td>\n",
       "      <td>53</td>\n",
       "    </tr>\n",
       "    <tr>\n",
       "      <th>26</th>\n",
       "      <td>677</td>\n",
       "      <td>1</td>\n",
       "      <td>09:39</td>\n",
       "      <td>РОЖОК ЛАК.КОЛИБР100Г</td>\n",
       "      <td>1.000</td>\n",
       "      <td>6</td>\n",
       "      <td>2</td>\n",
       "      <td>73</td>\n",
       "    </tr>\n",
       "    <tr>\n",
       "      <th>27</th>\n",
       "      <td>677</td>\n",
       "      <td>1</td>\n",
       "      <td>09:39</td>\n",
       "      <td>ЧИПСЫ КАРТОФЕЛЬНЫЕ</td>\n",
       "      <td>0.087</td>\n",
       "      <td>13</td>\n",
       "      <td>2</td>\n",
       "      <td>81</td>\n",
       "    </tr>\n",
       "    <tr>\n",
       "      <th>28</th>\n",
       "      <td>699</td>\n",
       "      <td>4</td>\n",
       "      <td>20:20</td>\n",
       "      <td>КОКА-КОЛА СТД. СКОМБО</td>\n",
       "      <td>2.000</td>\n",
       "      <td>8</td>\n",
       "      <td>1</td>\n",
       "      <td>83</td>\n",
       "    </tr>\n",
       "    <tr>\n",
       "      <th>29</th>\n",
       "      <td>706</td>\n",
       "      <td>0</td>\n",
       "      <td>00:32</td>\n",
       "      <td>Кф.Золотой Степ 50г с орехом</td>\n",
       "      <td>3.000</td>\n",
       "      <td>5</td>\n",
       "      <td>1</td>\n",
       "      <td>84</td>\n",
       "    </tr>\n",
       "  </tbody>\n",
       "</table>\n",
       "</div>"
      ],
      "text/plain": [
       "    receipt_id  receipt_dayofweek receipt_time  \\\n",
       "20         491                  1        17:36   \n",
       "21         558                  1        13:55   \n",
       "22         607                  6        10:35   \n",
       "23         615                  3        20:35   \n",
       "24         615                  3        20:35   \n",
       "25         629                  3        13:18   \n",
       "26         677                  1        09:39   \n",
       "27         677                  1        09:39   \n",
       "28         699                  4        20:20   \n",
       "29         706                  0        00:32   \n",
       "\n",
       "                                       item_name  item_quantity  item_price  \\\n",
       "20  Вафли с топленым молоком вес. 1кг Тортугалия          0.354          11   \n",
       "21   Сметана  Кубанский  Молочник  20%  180гр шт          1.000           7   \n",
       "22                                 Баклажаны 1кг          0.173           8   \n",
       "23                          НЕКТАР МУЛЬТИФРУК КД          1.000           4   \n",
       "24                              СМЕТАНА 20% 300Г          1.000           8   \n",
       "25                           Брюки трик. женские          1.000          14   \n",
       "26                          РОЖОК ЛАК.КОЛИБР100Г          1.000           6   \n",
       "27                            ЧИПСЫ КАРТОФЕЛЬНЫЕ          0.087          13   \n",
       "28                         КОКА-КОЛА СТД. СКОМБО          2.000           8   \n",
       "29                  Кф.Золотой Степ 50г с орехом          3.000           5   \n",
       "\n",
       "    item_nds_rate  category_id  \n",
       "20              1           84  \n",
       "21              6           78  \n",
       "22              2           80  \n",
       "23              2           83  \n",
       "24              2           78  \n",
       "25              1           53  \n",
       "26              2           73  \n",
       "27              2           81  \n",
       "28              1           83  \n",
       "29              1           84  "
      ]
     },
     "execution_count": 82,
     "metadata": {},
     "output_type": "execute_result"
    }
   ],
   "source": [
    "train[20:30]"
   ]
  },
  {
   "cell_type": "code",
   "execution_count": 113,
   "metadata": {},
   "outputs": [
    {
     "data": {
      "text/html": [
       "<div>\n",
       "<style scoped>\n",
       "    .dataframe tbody tr th:only-of-type {\n",
       "        vertical-align: middle;\n",
       "    }\n",
       "\n",
       "    .dataframe tbody tr th {\n",
       "        vertical-align: top;\n",
       "    }\n",
       "\n",
       "    .dataframe thead th {\n",
       "        text-align: right;\n",
       "    }\n",
       "</style>\n",
       "<table border=\"1\" class=\"dataframe\">\n",
       "  <thead>\n",
       "    <tr style=\"text-align: right;\">\n",
       "      <th></th>\n",
       "      <th>receipt_id</th>\n",
       "      <th>receipt_dayofweek</th>\n",
       "      <th>receipt_time</th>\n",
       "      <th>item_name</th>\n",
       "      <th>item_quantity</th>\n",
       "      <th>item_price</th>\n",
       "      <th>item_nds_rate</th>\n",
       "      <th>category_id</th>\n",
       "      <th>brands</th>\n",
       "    </tr>\n",
       "  </thead>\n",
       "  <tbody>\n",
       "    <tr>\n",
       "      <th>43</th>\n",
       "      <td>940</td>\n",
       "      <td>1</td>\n",
       "      <td>09:02</td>\n",
       "      <td>200Г ЧАЙ ГРИНФИЛД ИНГЛИШ ЭДИШН</td>\n",
       "      <td>1.0</td>\n",
       "      <td>12</td>\n",
       "      <td>1</td>\n",
       "      <td>85</td>\n",
       "      <td>гринфилд</td>\n",
       "    </tr>\n",
       "    <tr>\n",
       "      <th>171</th>\n",
       "      <td>3240</td>\n",
       "      <td>2</td>\n",
       "      <td>16:28</td>\n",
       "      <td>Кофе растворимый Маккофе Original 3в1 20г</td>\n",
       "      <td>2.0</td>\n",
       "      <td>4</td>\n",
       "      <td>1</td>\n",
       "      <td>85</td>\n",
       "      <td>None</td>\n",
       "    </tr>\n",
       "    <tr>\n",
       "      <th>241</th>\n",
       "      <td>4531</td>\n",
       "      <td>6</td>\n",
       "      <td>13:10</td>\n",
       "      <td>Каркаде</td>\n",
       "      <td>2.0</td>\n",
       "      <td>6</td>\n",
       "      <td>-1</td>\n",
       "      <td>85</td>\n",
       "      <td>None</td>\n",
       "    </tr>\n",
       "    <tr>\n",
       "      <th>338</th>\n",
       "      <td>6618</td>\n",
       "      <td>3</td>\n",
       "      <td>12:40</td>\n",
       "      <td>Нап.коф. Cappuccino DI TORINO 5шт*25,5г</td>\n",
       "      <td>1.0</td>\n",
       "      <td>9</td>\n",
       "      <td>1</td>\n",
       "      <td>85</td>\n",
       "      <td>None</td>\n",
       "    </tr>\n",
       "    <tr>\n",
       "      <th>372</th>\n",
       "      <td>6939</td>\n",
       "      <td>5</td>\n",
       "      <td>23:04</td>\n",
       "      <td>ЧАЙ ЧЕР. ЭРЛ ГРЕЙ БОЛ</td>\n",
       "      <td>1.0</td>\n",
       "      <td>9</td>\n",
       "      <td>1</td>\n",
       "      <td>85</td>\n",
       "      <td>None</td>\n",
       "    </tr>\n",
       "    <tr>\n",
       "      <th>433</th>\n",
       "      <td>8190</td>\n",
       "      <td>6</td>\n",
       "      <td>09:29</td>\n",
       "      <td>ЦИКОРИЙ НАТ.СУБЛ.85Г</td>\n",
       "      <td>1.0</td>\n",
       "      <td>13</td>\n",
       "      <td>1</td>\n",
       "      <td>85</td>\n",
       "      <td>None</td>\n",
       "    </tr>\n",
       "    <tr>\n",
       "      <th>534</th>\n",
       "      <td>10468</td>\n",
       "      <td>0</td>\n",
       "      <td>13:57</td>\n",
       "      <td>Чай черн. Принцесса ГИТА 1,2гХ100пак</td>\n",
       "      <td>1.0</td>\n",
       "      <td>9</td>\n",
       "      <td>-1</td>\n",
       "      <td>85</td>\n",
       "      <td>принцесса гита</td>\n",
       "    </tr>\n",
       "    <tr>\n",
       "      <th>604</th>\n",
       "      <td>12412</td>\n",
       "      <td>6</td>\n",
       "      <td>10:52</td>\n",
       "      <td>1,8Г*25 ЧАЙ ГРИНФ. ПИЧ МЭЛЛОУ</td>\n",
       "      <td>1.0</td>\n",
       "      <td>9</td>\n",
       "      <td>1</td>\n",
       "      <td>85</td>\n",
       "      <td>None</td>\n",
       "    </tr>\n",
       "    <tr>\n",
       "      <th>676</th>\n",
       "      <td>14031</td>\n",
       "      <td>2</td>\n",
       "      <td>15:33</td>\n",
       "      <td>Кофе  NESCAFE CLASSIK Стекло 47.5г</td>\n",
       "      <td>1.0</td>\n",
       "      <td>8</td>\n",
       "      <td>-1</td>\n",
       "      <td>85</td>\n",
       "      <td>nescafe</td>\n",
       "    </tr>\n",
       "    <tr>\n",
       "      <th>760</th>\n",
       "      <td>16294</td>\n",
       "      <td>0</td>\n",
       "      <td>09:15</td>\n",
       "      <td>Чай</td>\n",
       "      <td>3.0</td>\n",
       "      <td>6</td>\n",
       "      <td>6</td>\n",
       "      <td>85</td>\n",
       "      <td>None</td>\n",
       "    </tr>\n",
       "  </tbody>\n",
       "</table>\n",
       "</div>"
      ],
      "text/plain": [
       "     receipt_id  receipt_dayofweek receipt_time  \\\n",
       "43          940                  1        09:02   \n",
       "171        3240                  2        16:28   \n",
       "241        4531                  6        13:10   \n",
       "338        6618                  3        12:40   \n",
       "372        6939                  5        23:04   \n",
       "433        8190                  6        09:29   \n",
       "534       10468                  0        13:57   \n",
       "604       12412                  6        10:52   \n",
       "676       14031                  2        15:33   \n",
       "760       16294                  0        09:15   \n",
       "\n",
       "                                     item_name  item_quantity  item_price  \\\n",
       "43              200Г ЧАЙ ГРИНФИЛД ИНГЛИШ ЭДИШН            1.0          12   \n",
       "171  Кофе растворимый Маккофе Original 3в1 20г            2.0           4   \n",
       "241                                    Каркаде            2.0           6   \n",
       "338    Нап.коф. Cappuccino DI TORINO 5шт*25,5г            1.0           9   \n",
       "372                      ЧАЙ ЧЕР. ЭРЛ ГРЕЙ БОЛ            1.0           9   \n",
       "433                       ЦИКОРИЙ НАТ.СУБЛ.85Г            1.0          13   \n",
       "534       Чай черн. Принцесса ГИТА 1,2гХ100пак            1.0           9   \n",
       "604              1,8Г*25 ЧАЙ ГРИНФ. ПИЧ МЭЛЛОУ            1.0           9   \n",
       "676         Кофе  NESCAFE CLASSIK Стекло 47.5г            1.0           8   \n",
       "760                                        Чай            3.0           6   \n",
       "\n",
       "     item_nds_rate  category_id          brands  \n",
       "43               1           85        гринфилд  \n",
       "171              1           85            None  \n",
       "241             -1           85            None  \n",
       "338              1           85            None  \n",
       "372              1           85            None  \n",
       "433              1           85            None  \n",
       "534             -1           85  принцесса гита  \n",
       "604              1           85            None  \n",
       "676             -1           85         nescafe  \n",
       "760              6           85            None  "
      ]
     },
     "execution_count": 113,
     "metadata": {},
     "output_type": "execute_result"
    }
   ],
   "source": [
    "train[train['category_id'] == 85].head(10)"
   ]
  },
  {
   "cell_type": "code",
   "execution_count": 177,
   "metadata": {},
   "outputs": [
    {
     "data": {
      "text/html": [
       "<div>\n",
       "<style scoped>\n",
       "    .dataframe tbody tr th:only-of-type {\n",
       "        vertical-align: middle;\n",
       "    }\n",
       "\n",
       "    .dataframe tbody tr th {\n",
       "        vertical-align: top;\n",
       "    }\n",
       "\n",
       "    .dataframe thead th {\n",
       "        text-align: right;\n",
       "    }\n",
       "</style>\n",
       "<table border=\"1\" class=\"dataframe\">\n",
       "  <thead>\n",
       "    <tr style=\"text-align: right;\">\n",
       "      <th></th>\n",
       "      <th>receipt_id</th>\n",
       "      <th>receipt_dayofweek</th>\n",
       "      <th>receipt_time</th>\n",
       "      <th>item_name</th>\n",
       "      <th>item_quantity</th>\n",
       "      <th>item_price</th>\n",
       "      <th>item_nds_rate</th>\n",
       "      <th>category_id</th>\n",
       "      <th>brands</th>\n",
       "    </tr>\n",
       "  </thead>\n",
       "  <tbody>\n",
       "    <tr>\n",
       "      <th>777</th>\n",
       "      <td>16835</td>\n",
       "      <td>0</td>\n",
       "      <td>15:30</td>\n",
       "      <td>КП/СТЕКЛООЧИСТИТЕЛЬ</td>\n",
       "      <td>1.0</td>\n",
       "      <td>10</td>\n",
       "      <td>1</td>\n",
       "      <td>6</td>\n",
       "      <td>None</td>\n",
       "    </tr>\n",
       "    <tr>\n",
       "      <th>1141</th>\n",
       "      <td>25540</td>\n",
       "      <td>1</td>\n",
       "      <td>20:34</td>\n",
       "      <td>ЩЕТКА СТЕКЛООЧИС BOSCH  ECO 60</td>\n",
       "      <td>1.0</td>\n",
       "      <td>13</td>\n",
       "      <td>1</td>\n",
       "      <td>6</td>\n",
       "      <td>eco</td>\n",
       "    </tr>\n",
       "    <tr>\n",
       "      <th>2160</th>\n",
       "      <td>55113</td>\n",
       "      <td>3</td>\n",
       "      <td>11:50</td>\n",
       "      <td>Держатель для тел в салон авто ИМП</td>\n",
       "      <td>1.0</td>\n",
       "      <td>12</td>\n",
       "      <td>1</td>\n",
       "      <td>6</td>\n",
       "      <td>None</td>\n",
       "    </tr>\n",
       "    <tr>\n",
       "      <th>3765</th>\n",
       "      <td>109746</td>\n",
       "      <td>1</td>\n",
       "      <td>14:39</td>\n",
       "      <td>КД/ЗИМ. СТЕКЛООЧ.-30</td>\n",
       "      <td>1.0</td>\n",
       "      <td>12</td>\n",
       "      <td>1</td>\n",
       "      <td>6</td>\n",
       "      <td>None</td>\n",
       "    </tr>\n",
       "    <tr>\n",
       "      <th>4503</th>\n",
       "      <td>141325</td>\n",
       "      <td>3</td>\n",
       "      <td>19:49</td>\n",
       "      <td>Скребок 52,5 см для очистки от снега ИМП</td>\n",
       "      <td>1.0</td>\n",
       "      <td>9</td>\n",
       "      <td>1</td>\n",
       "      <td>6</td>\n",
       "      <td>None</td>\n",
       "    </tr>\n",
       "    <tr>\n",
       "      <th>5594</th>\n",
       "      <td>193154</td>\n",
       "      <td>3</td>\n",
       "      <td>16:49</td>\n",
       "      <td>Щетка стеклоочистителя ИМП</td>\n",
       "      <td>2.0</td>\n",
       "      <td>10</td>\n",
       "      <td>1</td>\n",
       "      <td>6</td>\n",
       "      <td>None</td>\n",
       "    </tr>\n",
       "    <tr>\n",
       "      <th>6066</th>\n",
       "      <td>216579</td>\n",
       "      <td>2</td>\n",
       "      <td>13:03</td>\n",
       "      <td>Коврик антискользящ.д/авто ИМП</td>\n",
       "      <td>1.0</td>\n",
       "      <td>8</td>\n",
       "      <td>1</td>\n",
       "      <td>6</td>\n",
       "      <td>None</td>\n",
       "    </tr>\n",
       "    <tr>\n",
       "      <th>13319</th>\n",
       "      <td>859665</td>\n",
       "      <td>0</td>\n",
       "      <td>17:25</td>\n",
       "      <td>ЩЕТКА СТ/ОЧИСТИТЕЛЯ BOSCH C50 50СМ</td>\n",
       "      <td>1.0</td>\n",
       "      <td>13</td>\n",
       "      <td>1</td>\n",
       "      <td>6</td>\n",
       "      <td>bosch</td>\n",
       "    </tr>\n",
       "    <tr>\n",
       "      <th>15068</th>\n",
       "      <td>1146037</td>\n",
       "      <td>6</td>\n",
       "      <td>14:45</td>\n",
       "      <td>ШТЕКЕР В ПРИКУРИВАТЕЛЬ ( ПРЕДОХРАНИТЕЛЬ) ПРОВО...</td>\n",
       "      <td>1.0</td>\n",
       "      <td>10</td>\n",
       "      <td>1</td>\n",
       "      <td>6</td>\n",
       "      <td>None</td>\n",
       "    </tr>\n",
       "    <tr>\n",
       "      <th>16155</th>\n",
       "      <td>1360372</td>\n",
       "      <td>0</td>\n",
       "      <td>16:24</td>\n",
       "      <td>РАМКА ПОД НОМЕР КАМУФЛЯЖ ОСКОЛКИ</td>\n",
       "      <td>1.0</td>\n",
       "      <td>10</td>\n",
       "      <td>1</td>\n",
       "      <td>6</td>\n",
       "      <td>None</td>\n",
       "    </tr>\n",
       "    <tr>\n",
       "      <th>17167</th>\n",
       "      <td>1582940</td>\n",
       "      <td>5</td>\n",
       "      <td>20:26</td>\n",
       "      <td>ШТОРКА PROF AUT СОЛНЦЕЗАЩ АВТО</td>\n",
       "      <td>1.0</td>\n",
       "      <td>10</td>\n",
       "      <td>1</td>\n",
       "      <td>6</td>\n",
       "      <td>prof</td>\n",
       "    </tr>\n",
       "    <tr>\n",
       "      <th>17219</th>\n",
       "      <td>1595337</td>\n",
       "      <td>5</td>\n",
       "      <td>16:16</td>\n",
       "      <td>щетка со скребком, 38,5см</td>\n",
       "      <td>1.0</td>\n",
       "      <td>10</td>\n",
       "      <td>1</td>\n",
       "      <td>6</td>\n",
       "      <td>None</td>\n",
       "    </tr>\n",
       "    <tr>\n",
       "      <th>19817</th>\n",
       "      <td>2355034</td>\n",
       "      <td>5</td>\n",
       "      <td>15:35</td>\n",
       "      <td>Ароматизатор д/авто Гель под сиденье Boss</td>\n",
       "      <td>1.0</td>\n",
       "      <td>12</td>\n",
       "      <td>1</td>\n",
       "      <td>6</td>\n",
       "      <td>boss</td>\n",
       "    </tr>\n",
       "    <tr>\n",
       "      <th>20503</th>\n",
       "      <td>2591747</td>\n",
       "      <td>5</td>\n",
       "      <td>17:17</td>\n",
       "      <td>РУЧКА КПП С ЧЕХЛОМ ХРОМ</td>\n",
       "      <td>1.0</td>\n",
       "      <td>16</td>\n",
       "      <td>1</td>\n",
       "      <td>6</td>\n",
       "      <td>None</td>\n",
       "    </tr>\n",
       "    <tr>\n",
       "      <th>21731</th>\n",
       "      <td>3082806</td>\n",
       "      <td>0</td>\n",
       "      <td>20:29</td>\n",
       "      <td>СОЛНЦЕЗАЩ.ПЛЕНКА</td>\n",
       "      <td>1.0</td>\n",
       "      <td>6</td>\n",
       "      <td>1</td>\n",
       "      <td>6</td>\n",
       "      <td>None</td>\n",
       "    </tr>\n",
       "    <tr>\n",
       "      <th>23234</th>\n",
       "      <td>3819015</td>\n",
       "      <td>2</td>\n",
       "      <td>11:31</td>\n",
       "      <td>УПЛОТНИТЕЛЬ БАГАЖНИКА</td>\n",
       "      <td>1.0</td>\n",
       "      <td>13</td>\n",
       "      <td>1</td>\n",
       "      <td>6</td>\n",
       "      <td>None</td>\n",
       "    </tr>\n",
       "    <tr>\n",
       "      <th>23982</th>\n",
       "      <td>4239263</td>\n",
       "      <td>4</td>\n",
       "      <td>09:52</td>\n",
       "      <td>ЩЕТКА СТ/ОЧИСТИТЕЛЯ Б/КАРКАС AUTOVIRAZH C50 50СМ</td>\n",
       "      <td>2.0</td>\n",
       "      <td>10</td>\n",
       "      <td>1</td>\n",
       "      <td>6</td>\n",
       "      <td>autovirazh</td>\n",
       "    </tr>\n",
       "    <tr>\n",
       "      <th>24627</th>\n",
       "      <td>4641986</td>\n",
       "      <td>5</td>\n",
       "      <td>16:19</td>\n",
       "      <td>ОПЛЕТКА РУЛЯ  (ПЕРФ) 37-39</td>\n",
       "      <td>1.0</td>\n",
       "      <td>15</td>\n",
       "      <td>1</td>\n",
       "      <td>6</td>\n",
       "      <td>None</td>\n",
       "    </tr>\n",
       "    <tr>\n",
       "      <th>25953</th>\n",
       "      <td>5602946</td>\n",
       "      <td>0</td>\n",
       "      <td>17:25</td>\n",
       "      <td>ЩЕТКА С/О ХОРС 45 СМ</td>\n",
       "      <td>2.0</td>\n",
       "      <td>10</td>\n",
       "      <td>1</td>\n",
       "      <td>6</td>\n",
       "      <td>хорс</td>\n",
       "    </tr>\n",
       "    <tr>\n",
       "      <th>26343</th>\n",
       "      <td>5917779</td>\n",
       "      <td>6</td>\n",
       "      <td>13:29</td>\n",
       "      <td>ЛЕНТА СТ/ОЧИСТИТЕЛЯ УНИВЕРСАЛЬНАЯ SIGER</td>\n",
       "      <td>1.0</td>\n",
       "      <td>12</td>\n",
       "      <td>1</td>\n",
       "      <td>6</td>\n",
       "      <td>siger</td>\n",
       "    </tr>\n",
       "  </tbody>\n",
       "</table>\n",
       "</div>"
      ],
      "text/plain": [
       "       receipt_id  receipt_dayofweek receipt_time  \\\n",
       "777         16835                  0        15:30   \n",
       "1141        25540                  1        20:34   \n",
       "2160        55113                  3        11:50   \n",
       "3765       109746                  1        14:39   \n",
       "4503       141325                  3        19:49   \n",
       "5594       193154                  3        16:49   \n",
       "6066       216579                  2        13:03   \n",
       "13319      859665                  0        17:25   \n",
       "15068     1146037                  6        14:45   \n",
       "16155     1360372                  0        16:24   \n",
       "17167     1582940                  5        20:26   \n",
       "17219     1595337                  5        16:16   \n",
       "19817     2355034                  5        15:35   \n",
       "20503     2591747                  5        17:17   \n",
       "21731     3082806                  0        20:29   \n",
       "23234     3819015                  2        11:31   \n",
       "23982     4239263                  4        09:52   \n",
       "24627     4641986                  5        16:19   \n",
       "25953     5602946                  0        17:25   \n",
       "26343     5917779                  6        13:29   \n",
       "\n",
       "                                               item_name  item_quantity  \\\n",
       "777                                  КП/СТЕКЛООЧИСТИТЕЛЬ            1.0   \n",
       "1141                      ЩЕТКА СТЕКЛООЧИС BOSCH  ECO 60            1.0   \n",
       "2160                  Держатель для тел в салон авто ИМП            1.0   \n",
       "3765                                КД/ЗИМ. СТЕКЛООЧ.-30            1.0   \n",
       "4503            Скребок 52,5 см для очистки от снега ИМП            1.0   \n",
       "5594                          Щетка стеклоочистителя ИМП            2.0   \n",
       "6066                      Коврик антискользящ.д/авто ИМП            1.0   \n",
       "13319                 ЩЕТКА СТ/ОЧИСТИТЕЛЯ BOSCH C50 50СМ            1.0   \n",
       "15068  ШТЕКЕР В ПРИКУРИВАТЕЛЬ ( ПРЕДОХРАНИТЕЛЬ) ПРОВО...            1.0   \n",
       "16155                   РАМКА ПОД НОМЕР КАМУФЛЯЖ ОСКОЛКИ            1.0   \n",
       "17167                     ШТОРКА PROF AUT СОЛНЦЕЗАЩ АВТО            1.0   \n",
       "17219                          щетка со скребком, 38,5см            1.0   \n",
       "19817          Ароматизатор д/авто Гель под сиденье Boss            1.0   \n",
       "20503                            РУЧКА КПП С ЧЕХЛОМ ХРОМ            1.0   \n",
       "21731                                   СОЛНЦЕЗАЩ.ПЛЕНКА            1.0   \n",
       "23234                              УПЛОТНИТЕЛЬ БАГАЖНИКА            1.0   \n",
       "23982   ЩЕТКА СТ/ОЧИСТИТЕЛЯ Б/КАРКАС AUTOVIRAZH C50 50СМ            2.0   \n",
       "24627                         ОПЛЕТКА РУЛЯ  (ПЕРФ) 37-39            1.0   \n",
       "25953                               ЩЕТКА С/О ХОРС 45 СМ            2.0   \n",
       "26343            ЛЕНТА СТ/ОЧИСТИТЕЛЯ УНИВЕРСАЛЬНАЯ SIGER            1.0   \n",
       "\n",
       "       item_price  item_nds_rate  category_id      brands  \n",
       "777            10              1            6        None  \n",
       "1141           13              1            6         eco  \n",
       "2160           12              1            6        None  \n",
       "3765           12              1            6        None  \n",
       "4503            9              1            6        None  \n",
       "5594           10              1            6        None  \n",
       "6066            8              1            6        None  \n",
       "13319          13              1            6       bosch  \n",
       "15068          10              1            6        None  \n",
       "16155          10              1            6        None  \n",
       "17167          10              1            6        prof  \n",
       "17219          10              1            6        None  \n",
       "19817          12              1            6        boss  \n",
       "20503          16              1            6        None  \n",
       "21731           6              1            6        None  \n",
       "23234          13              1            6        None  \n",
       "23982          10              1            6  autovirazh  \n",
       "24627          15              1            6        None  \n",
       "25953          10              1            6        хорс  \n",
       "26343          12              1            6       siger  "
      ]
     },
     "execution_count": 177,
     "metadata": {},
     "output_type": "execute_result"
    }
   ],
   "source": [
    "train[train['category_id'] == 6].head(20)"
   ]
  },
  {
   "cell_type": "code",
   "execution_count": null,
   "metadata": {},
   "outputs": [],
   "source": []
  },
  {
   "cell_type": "code",
   "execution_count": null,
   "metadata": {},
   "outputs": [],
   "source": []
  },
  {
   "cell_type": "code",
   "execution_count": null,
   "metadata": {},
   "outputs": [],
   "source": []
  },
  {
   "cell_type": "markdown",
   "metadata": {},
   "source": [
    "**Проанализаруем товар с названием \"Пакет\"**"
   ]
  },
  {
   "cell_type": "code",
   "execution_count": 6,
   "metadata": {},
   "outputs": [],
   "source": [
    "df_paket = train[(train['item_name'] == 'Пакет')]"
   ]
  },
  {
   "cell_type": "code",
   "execution_count": 7,
   "metadata": {},
   "outputs": [
    {
     "data": {
      "text/plain": [
       "(1266157, 9)"
      ]
     },
     "execution_count": 7,
     "metadata": {},
     "output_type": "execute_result"
    }
   ],
   "source": [
    "df_paket.shape"
   ]
  },
  {
   "cell_type": "code",
   "execution_count": 8,
   "metadata": {},
   "outputs": [
    {
     "data": {
      "text/plain": [
       "array([203,  78,  79,  40, 103,  80, 139, 204,  84, 143,  85, 133,  30,\n",
       "        77,  76,  73,  70, 114,  83, 164,  81,  11,  75, 140, 130, 150,\n",
       "        38,  82, 145, 121, 117,  74, 167], dtype=int64)"
      ]
     },
     "execution_count": 8,
     "metadata": {},
     "output_type": "execute_result"
    }
   ],
   "source": [
    "df_paket['category_id'].unique()"
   ]
  },
  {
   "cell_type": "code",
   "execution_count": 9,
   "metadata": {},
   "outputs": [
    {
     "name": "stdout",
     "output_type": "stream",
     "text": [
      "<class 'pandas.core.frame.DataFrame'>\n",
      "Int64Index: 1266157 entries, 71 to 45729277\n",
      "Data columns (total 9 columns):\n",
      " #   Column             Non-Null Count    Dtype  \n",
      "---  ------             --------------    -----  \n",
      " 0   receipt_id         1266157 non-null  int64  \n",
      " 1   receipt_dayofweek  1266157 non-null  int32  \n",
      " 2   receipt_time       1266157 non-null  object \n",
      " 3   item_name          1266157 non-null  object \n",
      " 4   item_quantity      1266157 non-null  float64\n",
      " 5   item_price         1266157 non-null  int64  \n",
      " 6   item_nds_rate      1266157 non-null  int32  \n",
      " 7   category_id        1266157 non-null  int64  \n",
      " 8   brands             0 non-null        object \n",
      "dtypes: float64(1), int32(2), int64(3), object(3)\n",
      "memory usage: 86.9+ MB\n"
     ]
    }
   ],
   "source": [
    "df_paket.info()"
   ]
  },
  {
   "cell_type": "code",
   "execution_count": 10,
   "metadata": {},
   "outputs": [
    {
     "data": {
      "text/html": [
       "<div>\n",
       "<style scoped>\n",
       "    .dataframe tbody tr th:only-of-type {\n",
       "        vertical-align: middle;\n",
       "    }\n",
       "\n",
       "    .dataframe tbody tr th {\n",
       "        vertical-align: top;\n",
       "    }\n",
       "\n",
       "    .dataframe thead th {\n",
       "        text-align: right;\n",
       "    }\n",
       "</style>\n",
       "<table border=\"1\" class=\"dataframe\">\n",
       "  <thead>\n",
       "    <tr style=\"text-align: right;\">\n",
       "      <th></th>\n",
       "      <th>receipt_id</th>\n",
       "      <th>receipt_dayofweek</th>\n",
       "      <th>item_quantity</th>\n",
       "      <th>item_price</th>\n",
       "      <th>item_nds_rate</th>\n",
       "      <th>category_id</th>\n",
       "    </tr>\n",
       "  </thead>\n",
       "  <tbody>\n",
       "    <tr>\n",
       "      <th>receipt_id</th>\n",
       "      <td>1.000000</td>\n",
       "      <td>0.000589</td>\n",
       "      <td>-0.001175</td>\n",
       "      <td>-0.000277</td>\n",
       "      <td>0.001594</td>\n",
       "      <td>0.000965</td>\n",
       "    </tr>\n",
       "    <tr>\n",
       "      <th>receipt_dayofweek</th>\n",
       "      <td>0.000589</td>\n",
       "      <td>1.000000</td>\n",
       "      <td>0.006355</td>\n",
       "      <td>0.020689</td>\n",
       "      <td>-0.003370</td>\n",
       "      <td>-0.004242</td>\n",
       "    </tr>\n",
       "    <tr>\n",
       "      <th>item_quantity</th>\n",
       "      <td>-0.001175</td>\n",
       "      <td>0.006355</td>\n",
       "      <td>1.000000</td>\n",
       "      <td>0.028493</td>\n",
       "      <td>-0.014266</td>\n",
       "      <td>-0.021520</td>\n",
       "    </tr>\n",
       "    <tr>\n",
       "      <th>item_price</th>\n",
       "      <td>-0.000277</td>\n",
       "      <td>0.020689</td>\n",
       "      <td>0.028493</td>\n",
       "      <td>1.000000</td>\n",
       "      <td>-0.011571</td>\n",
       "      <td>-0.550791</td>\n",
       "    </tr>\n",
       "    <tr>\n",
       "      <th>item_nds_rate</th>\n",
       "      <td>0.001594</td>\n",
       "      <td>-0.003370</td>\n",
       "      <td>-0.014266</td>\n",
       "      <td>-0.011571</td>\n",
       "      <td>1.000000</td>\n",
       "      <td>-0.011448</td>\n",
       "    </tr>\n",
       "    <tr>\n",
       "      <th>category_id</th>\n",
       "      <td>0.000965</td>\n",
       "      <td>-0.004242</td>\n",
       "      <td>-0.021520</td>\n",
       "      <td>-0.550791</td>\n",
       "      <td>-0.011448</td>\n",
       "      <td>1.000000</td>\n",
       "    </tr>\n",
       "  </tbody>\n",
       "</table>\n",
       "</div>"
      ],
      "text/plain": [
       "                   receipt_id  receipt_dayofweek  item_quantity  item_price  \\\n",
       "receipt_id           1.000000           0.000589      -0.001175   -0.000277   \n",
       "receipt_dayofweek    0.000589           1.000000       0.006355    0.020689   \n",
       "item_quantity       -0.001175           0.006355       1.000000    0.028493   \n",
       "item_price          -0.000277           0.020689       0.028493    1.000000   \n",
       "item_nds_rate        0.001594          -0.003370      -0.014266   -0.011571   \n",
       "category_id          0.000965          -0.004242      -0.021520   -0.550791   \n",
       "\n",
       "                   item_nds_rate  category_id  \n",
       "receipt_id              0.001594     0.000965  \n",
       "receipt_dayofweek      -0.003370    -0.004242  \n",
       "item_quantity          -0.014266    -0.021520  \n",
       "item_price             -0.011571    -0.550791  \n",
       "item_nds_rate           1.000000    -0.011448  \n",
       "category_id            -0.011448     1.000000  "
      ]
     },
     "execution_count": 10,
     "metadata": {},
     "output_type": "execute_result"
    }
   ],
   "source": [
    "df_paket.corr()"
   ]
  },
  {
   "cell_type": "markdown",
   "metadata": {},
   "source": [
    "**Возьмем только признаки item_price, item_quantity и item_nds_rate**"
   ]
  },
  {
   "cell_type": "code",
   "execution_count": 11,
   "metadata": {},
   "outputs": [
    {
     "data": {
      "text/plain": [
       "count    1.266157e+06\n",
       "mean     2.620295e+00\n",
       "std      1.527792e+00\n",
       "min      0.000000e+00\n",
       "25%      2.000000e+00\n",
       "50%      3.000000e+00\n",
       "75%      3.000000e+00\n",
       "max      2.900000e+01\n",
       "Name: item_price, dtype: float64"
      ]
     },
     "execution_count": 11,
     "metadata": {},
     "output_type": "execute_result"
    }
   ],
   "source": [
    "df_paket['item_price'].describe()"
   ]
  },
  {
   "cell_type": "code",
   "execution_count": 12,
   "metadata": {},
   "outputs": [
    {
     "data": {
      "text/plain": [
       "count    1.266157e+06\n",
       "mean     1.535099e+00\n",
       "std      1.832467e+00\n",
       "min     -1.000000e+00\n",
       "25%      1.000000e+00\n",
       "50%      1.000000e+00\n",
       "75%      1.000000e+00\n",
       "max      6.000000e+00\n",
       "Name: item_nds_rate, dtype: float64"
      ]
     },
     "execution_count": 12,
     "metadata": {},
     "output_type": "execute_result"
    }
   ],
   "source": [
    "df_paket['item_nds_rate'].describe()"
   ]
  },
  {
   "cell_type": "code",
   "execution_count": 13,
   "metadata": {},
   "outputs": [
    {
     "data": {
      "text/plain": [
       "count    1.266157e+06\n",
       "mean     1.267545e+00\n",
       "std      3.587968e+00\n",
       "min      1.000000e-03\n",
       "25%      1.000000e+00\n",
       "50%      1.000000e+00\n",
       "75%      1.000000e+00\n",
       "max      1.998000e+03\n",
       "Name: item_quantity, dtype: float64"
      ]
     },
     "execution_count": 13,
     "metadata": {},
     "output_type": "execute_result"
    }
   ],
   "source": [
    "df_paket['item_quantity'].describe()"
   ]
  },
  {
   "cell_type": "code",
   "execution_count": 14,
   "metadata": {},
   "outputs": [
    {
     "data": {
      "text/plain": [
       "203    1241807\n",
       "79        5346\n",
       "78        3738\n",
       "80        3670\n",
       "84        3399\n",
       "Name: category_id, dtype: int64"
      ]
     },
     "execution_count": 14,
     "metadata": {},
     "output_type": "execute_result"
    }
   ],
   "source": [
    "df_paket['category_id'].value_counts().head()"
   ]
  },
  {
   "cell_type": "markdown",
   "metadata": {},
   "source": [
    "**Чаще всего товар \"Пакет\" относится к 203-й категории**"
   ]
  },
  {
   "cell_type": "code",
   "execution_count": 15,
   "metadata": {},
   "outputs": [
    {
     "data": {
      "text/plain": [
       "24871"
      ]
     },
     "execution_count": 15,
     "metadata": {},
     "output_type": "execute_result"
    }
   ],
   "source": [
    "df_paket.duplicated().sum()"
   ]
  },
  {
   "cell_type": "code",
   "execution_count": 16,
   "metadata": {},
   "outputs": [],
   "source": [
    "df_paket = df_paket.drop_duplicates()"
   ]
  },
  {
   "cell_type": "code",
   "execution_count": 17,
   "metadata": {},
   "outputs": [
    {
     "data": {
      "text/plain": [
       "0"
      ]
     },
     "execution_count": 17,
     "metadata": {},
     "output_type": "execute_result"
    }
   ],
   "source": [
    "df_paket.duplicated().sum()"
   ]
  },
  {
   "cell_type": "code",
   "execution_count": 18,
   "metadata": {},
   "outputs": [
    {
     "data": {
      "text/plain": [
       "(1241286, 9)"
      ]
     },
     "execution_count": 18,
     "metadata": {},
     "output_type": "execute_result"
    }
   ],
   "source": [
    "df_paket.shape"
   ]
  },
  {
   "cell_type": "code",
   "execution_count": 19,
   "metadata": {},
   "outputs": [],
   "source": [
    "X_paket = df_paket[['item_price', 'item_quantity']].to_numpy()\n",
    "y_paket = df_paket['category_id'].to_numpy()"
   ]
  },
  {
   "cell_type": "code",
   "execution_count": 20,
   "metadata": {},
   "outputs": [],
   "source": [
    "from sklearn.svm import LinearSVC"
   ]
  },
  {
   "cell_type": "code",
   "execution_count": 21,
   "metadata": {},
   "outputs": [],
   "source": [
    "from sklearn.metrics import f1_score, make_scorer\n",
    "import numpy as np\n",
    "\n",
    "def f1_weighted(y, p):\n",
    "    resulted_f1 = []\n",
    "    for c in y.unique():\n",
    "        f1 = f1_score(y == c, p == c)\n",
    "        resulted_f1.append(f1 * class_weights[c])\n",
    "        \n",
    "    return np.sum(resulted_f1) \n",
    "\n",
    "f1_weighted_sc = make_scorer(f1_weighted)"
   ]
  },
  {
   "cell_type": "code",
   "execution_count": null,
   "metadata": {},
   "outputs": [
    {
     "name": "stderr",
     "output_type": "stream",
     "text": [
      "C:\\Users\\sypachev\\anaconda3\\lib\\site-packages\\sklearn\\model_selection\\_split.py:672: UserWarning: The least populated class in y has only 1 members, which is less than n_splits=3.\n",
      "  % (min_groups, self.n_splits)), UserWarning)\n"
     ]
    }
   ],
   "source": [
    "clf = LinearSVC()\n",
    "scores = cross_val_score(clf, X_paket, y_paket, cv=3, scoring=f1_weighted_sc)"
   ]
  },
  {
   "cell_type": "code",
   "execution_count": null,
   "metadata": {},
   "outputs": [],
   "source": [
    "np.mean(scores), np.std(scores)"
   ]
  },
  {
   "cell_type": "code",
   "execution_count": null,
   "metadata": {},
   "outputs": [],
   "source": []
  },
  {
   "cell_type": "code",
   "execution_count": null,
   "metadata": {},
   "outputs": [],
   "source": []
  },
  {
   "cell_type": "code",
   "execution_count": null,
   "metadata": {},
   "outputs": [],
   "source": []
  },
  {
   "cell_type": "code",
   "execution_count": null,
   "metadata": {},
   "outputs": [],
   "source": []
  },
  {
   "cell_type": "markdown",
   "metadata": {},
   "source": [
    "**Нормализуем данные**"
   ]
  },
  {
   "cell_type": "code",
   "execution_count": null,
   "metadata": {},
   "outputs": [],
   "source": [
    "mean = df_paket['item_price'].mean()\n",
    "std  = df_paket['item_price'].std()"
   ]
  },
  {
   "cell_type": "code",
   "execution_count": 427,
   "metadata": {},
   "outputs": [
    {
     "name": "stderr",
     "output_type": "stream",
     "text": [
      "C:\\Users\\sypachev\\anaconda3\\lib\\site-packages\\ipykernel_launcher.py:1: SettingWithCopyWarning: \n",
      "A value is trying to be set on a copy of a slice from a DataFrame.\n",
      "Try using .loc[row_indexer,col_indexer] = value instead\n",
      "\n",
      "See the caveats in the documentation: https://pandas.pydata.org/pandas-docs/stable/user_guide/indexing.html#returning-a-view-versus-a-copy\n",
      "  \"\"\"Entry point for launching an IPython kernel.\n"
     ]
    }
   ],
   "source": [
    "df_paket['item_price'] = (df_paket['item_price'] - df_paket['item_price'].mean()) / df_paket['item_price'].std()"
   ]
  },
  {
   "cell_type": "code",
   "execution_count": null,
   "metadata": {},
   "outputs": [],
   "source": []
  },
  {
   "cell_type": "code",
   "execution_count": 369,
   "metadata": {},
   "outputs": [
    {
     "data": {
      "text/html": [
       "<div>\n",
       "<style scoped>\n",
       "    .dataframe tbody tr th:only-of-type {\n",
       "        vertical-align: middle;\n",
       "    }\n",
       "\n",
       "    .dataframe tbody tr th {\n",
       "        vertical-align: top;\n",
       "    }\n",
       "\n",
       "    .dataframe thead th {\n",
       "        text-align: right;\n",
       "    }\n",
       "</style>\n",
       "<table border=\"1\" class=\"dataframe\">\n",
       "  <thead>\n",
       "    <tr style=\"text-align: right;\">\n",
       "      <th></th>\n",
       "      <th>receipt_id</th>\n",
       "      <th>receipt_dayofweek</th>\n",
       "      <th>receipt_time</th>\n",
       "      <th>item_name</th>\n",
       "      <th>item_quantity</th>\n",
       "      <th>item_price</th>\n",
       "      <th>item_nds_rate</th>\n",
       "      <th>category_id</th>\n",
       "    </tr>\n",
       "  </thead>\n",
       "  <tbody>\n",
       "    <tr>\n",
       "      <th>19557</th>\n",
       "      <td>42361</td>\n",
       "      <td>2</td>\n",
       "      <td>10:40</td>\n",
       "      <td>Лук репчатый нефасованный 1кг</td>\n",
       "      <td>1.131</td>\n",
       "      <td>5</td>\n",
       "      <td>2</td>\n",
       "      <td>80</td>\n",
       "    </tr>\n",
       "    <tr>\n",
       "      <th>19559</th>\n",
       "      <td>42361</td>\n",
       "      <td>2</td>\n",
       "      <td>10:40</td>\n",
       "      <td>Пакет</td>\n",
       "      <td>1.000</td>\n",
       "      <td>10</td>\n",
       "      <td>2</td>\n",
       "      <td>78</td>\n",
       "    </tr>\n",
       "    <tr>\n",
       "      <th>19560</th>\n",
       "      <td>42361</td>\n",
       "      <td>2</td>\n",
       "      <td>10:40</td>\n",
       "      <td>Хлебушек ржаной  \"Бабулин\" 300г</td>\n",
       "      <td>1.000</td>\n",
       "      <td>7</td>\n",
       "      <td>2</td>\n",
       "      <td>84</td>\n",
       "    </tr>\n",
       "  </tbody>\n",
       "</table>\n",
       "</div>"
      ],
      "text/plain": [
       "       receipt_id  receipt_dayofweek receipt_time  \\\n",
       "19557       42361                  2        10:40   \n",
       "19559       42361                  2        10:40   \n",
       "19560       42361                  2        10:40   \n",
       "\n",
       "                             item_name  item_quantity  item_price  \\\n",
       "19557    Лук репчатый нефасованный 1кг          1.131           5   \n",
       "19559                            Пакет          1.000          10   \n",
       "19560  Хлебушек ржаной  \"Бабулин\" 300г          1.000           7   \n",
       "\n",
       "       item_nds_rate  category_id  \n",
       "19557              2           80  \n",
       "19559              2           78  \n",
       "19560              2           84  "
      ]
     },
     "execution_count": 369,
     "metadata": {},
     "output_type": "execute_result"
    }
   ],
   "source": [
    "train[train['receipt_id'] == 42361]"
   ]
  },
  {
   "cell_type": "code",
   "execution_count": 370,
   "metadata": {},
   "outputs": [],
   "source": [
    "df_pivot = df_paket.pivot_table(index=['category_id', 'item_price'])"
   ]
  },
  {
   "cell_type": "code",
   "execution_count": 371,
   "metadata": {},
   "outputs": [
    {
     "data": {
      "text/html": [
       "<div>\n",
       "<style scoped>\n",
       "    .dataframe tbody tr th:only-of-type {\n",
       "        vertical-align: middle;\n",
       "    }\n",
       "\n",
       "    .dataframe tbody tr th {\n",
       "        vertical-align: top;\n",
       "    }\n",
       "\n",
       "    .dataframe thead th {\n",
       "        text-align: right;\n",
       "    }\n",
       "</style>\n",
       "<table border=\"1\" class=\"dataframe\">\n",
       "  <thead>\n",
       "    <tr style=\"text-align: right;\">\n",
       "      <th></th>\n",
       "      <th></th>\n",
       "      <th>item_nds_rate</th>\n",
       "      <th>item_quantity</th>\n",
       "      <th>receipt_dayofweek</th>\n",
       "      <th>receipt_id</th>\n",
       "    </tr>\n",
       "    <tr>\n",
       "      <th>category_id</th>\n",
       "      <th>item_price</th>\n",
       "      <th></th>\n",
       "      <th></th>\n",
       "      <th></th>\n",
       "      <th></th>\n",
       "    </tr>\n",
       "  </thead>\n",
       "  <tbody>\n",
       "    <tr>\n",
       "      <th rowspan=\"2\" valign=\"top\">11</th>\n",
       "      <th>3</th>\n",
       "      <td>6.0</td>\n",
       "      <td>2.250000</td>\n",
       "      <td>1.500000</td>\n",
       "      <td>4.102204e+06</td>\n",
       "    </tr>\n",
       "    <tr>\n",
       "      <th>4</th>\n",
       "      <td>6.0</td>\n",
       "      <td>23.333333</td>\n",
       "      <td>2.666667</td>\n",
       "      <td>6.303433e+06</td>\n",
       "    </tr>\n",
       "    <tr>\n",
       "      <th>30</th>\n",
       "      <th>7</th>\n",
       "      <td>6.0</td>\n",
       "      <td>1.000000</td>\n",
       "      <td>3.666667</td>\n",
       "      <td>3.610264e+06</td>\n",
       "    </tr>\n",
       "    <tr>\n",
       "      <th rowspan=\"2\" valign=\"top\">38</th>\n",
       "      <th>5</th>\n",
       "      <td>6.0</td>\n",
       "      <td>3.000000</td>\n",
       "      <td>5.000000</td>\n",
       "      <td>9.728760e+05</td>\n",
       "    </tr>\n",
       "    <tr>\n",
       "      <th>9</th>\n",
       "      <td>2.5</td>\n",
       "      <td>1.000000</td>\n",
       "      <td>3.000000</td>\n",
       "      <td>3.516204e+06</td>\n",
       "    </tr>\n",
       "    <tr>\n",
       "      <th>...</th>\n",
       "      <th>...</th>\n",
       "      <td>...</td>\n",
       "      <td>...</td>\n",
       "      <td>...</td>\n",
       "      <td>...</td>\n",
       "    </tr>\n",
       "    <tr>\n",
       "      <th rowspan=\"5\" valign=\"top\">204</th>\n",
       "      <th>3</th>\n",
       "      <td>6.0</td>\n",
       "      <td>1.000000</td>\n",
       "      <td>3.344828</td>\n",
       "      <td>5.080993e+06</td>\n",
       "    </tr>\n",
       "    <tr>\n",
       "      <th>6</th>\n",
       "      <td>-1.0</td>\n",
       "      <td>1.000000</td>\n",
       "      <td>2.500000</td>\n",
       "      <td>3.982236e+06</td>\n",
       "    </tr>\n",
       "    <tr>\n",
       "      <th>12</th>\n",
       "      <td>6.0</td>\n",
       "      <td>1.000000</td>\n",
       "      <td>3.000000</td>\n",
       "      <td>5.524249e+06</td>\n",
       "    </tr>\n",
       "    <tr>\n",
       "      <th>14</th>\n",
       "      <td>-1.0</td>\n",
       "      <td>1.000000</td>\n",
       "      <td>3.333333</td>\n",
       "      <td>4.542218e+06</td>\n",
       "    </tr>\n",
       "    <tr>\n",
       "      <th>19</th>\n",
       "      <td>-1.0</td>\n",
       "      <td>1.000000</td>\n",
       "      <td>5.000000</td>\n",
       "      <td>7.294920e+05</td>\n",
       "    </tr>\n",
       "  </tbody>\n",
       "</table>\n",
       "<p>151 rows × 4 columns</p>\n",
       "</div>"
      ],
      "text/plain": [
       "                        item_nds_rate  item_quantity  receipt_dayofweek  \\\n",
       "category_id item_price                                                    \n",
       "11          3                     6.0       2.250000           1.500000   \n",
       "            4                     6.0      23.333333           2.666667   \n",
       "30          7                     6.0       1.000000           3.666667   \n",
       "38          5                     6.0       3.000000           5.000000   \n",
       "            9                     2.5       1.000000           3.000000   \n",
       "...                               ...            ...                ...   \n",
       "204         3                     6.0       1.000000           3.344828   \n",
       "            6                    -1.0       1.000000           2.500000   \n",
       "            12                    6.0       1.000000           3.000000   \n",
       "            14                   -1.0       1.000000           3.333333   \n",
       "            19                   -1.0       1.000000           5.000000   \n",
       "\n",
       "                          receipt_id  \n",
       "category_id item_price                \n",
       "11          3           4.102204e+06  \n",
       "            4           6.303433e+06  \n",
       "30          7           3.610264e+06  \n",
       "38          5           9.728760e+05  \n",
       "            9           3.516204e+06  \n",
       "...                              ...  \n",
       "204         3           5.080993e+06  \n",
       "            6           3.982236e+06  \n",
       "            12          5.524249e+06  \n",
       "            14          4.542218e+06  \n",
       "            19          7.294920e+05  \n",
       "\n",
       "[151 rows x 4 columns]"
      ]
     },
     "execution_count": 371,
     "metadata": {},
     "output_type": "execute_result"
    }
   ],
   "source": [
    "df_pivot"
   ]
  },
  {
   "cell_type": "code",
   "execution_count": 20,
   "metadata": {},
   "outputs": [
    {
     "data": {
      "text/html": [
       "<div>\n",
       "<style scoped>\n",
       "    .dataframe tbody tr th:only-of-type {\n",
       "        vertical-align: middle;\n",
       "    }\n",
       "\n",
       "    .dataframe tbody tr th {\n",
       "        vertical-align: top;\n",
       "    }\n",
       "\n",
       "    .dataframe thead th {\n",
       "        text-align: right;\n",
       "    }\n",
       "</style>\n",
       "<table border=\"1\" class=\"dataframe\">\n",
       "  <thead>\n",
       "    <tr style=\"text-align: right;\">\n",
       "      <th></th>\n",
       "      <th>receipt_id</th>\n",
       "      <th>receipt_dayofweek</th>\n",
       "      <th>receipt_time</th>\n",
       "      <th>item_name</th>\n",
       "      <th>item_quantity</th>\n",
       "      <th>item_price</th>\n",
       "      <th>item_nds_rate</th>\n",
       "      <th>category_id</th>\n",
       "      <th>brands</th>\n",
       "    </tr>\n",
       "  </thead>\n",
       "  <tbody>\n",
       "    <tr>\n",
       "      <th>46851</th>\n",
       "      <td>4839232</td>\n",
       "      <td>1</td>\n",
       "      <td>15:22</td>\n",
       "      <td>Колодки</td>\n",
       "      <td>1.0</td>\n",
       "      <td>17</td>\n",
       "      <td>6</td>\n",
       "      <td>115</td>\n",
       "      <td>None</td>\n",
       "    </tr>\n",
       "  </tbody>\n",
       "</table>\n",
       "</div>"
      ],
      "text/plain": [
       "       receipt_id  receipt_dayofweek receipt_time item_name  item_quantity  \\\n",
       "46851     4839232                  1        15:22   Колодки            1.0   \n",
       "\n",
       "       item_price  item_nds_rate  category_id brands  \n",
       "46851          17              6          115   None  "
      ]
     },
     "execution_count": 20,
     "metadata": {},
     "output_type": "execute_result"
    }
   ],
   "source": [
    "train[(train['item_name'].str.contains('колодки', case=False)) & (train['category_id'] != 4)].head(10)"
   ]
  },
  {
   "cell_type": "code",
   "execution_count": 17,
   "metadata": {},
   "outputs": [],
   "source": [
    "# Список для замены слов/символов с целью нормализации текста. 1-е значение - что меняем, 2-е - на что меняем\n",
    "replace_words = [[',', '.']]"
   ]
  },
  {
   "cell_type": "code",
   "execution_count": 18,
   "metadata": {},
   "outputs": [],
   "source": [
    "for word in replace_words:\n",
    "    train['item_name'] = train['item_name'].str.replace(word[0], word[1], case = False)"
   ]
  },
  {
   "cell_type": "code",
   "execution_count": null,
   "metadata": {},
   "outputs": [],
   "source": [
    "stop = stopwords.words('russian')\n",
    "tfidf = TfidfVectorizer(stop_words=stop, min_df=5)\n",
    "tfidf.fit_transform(train.item_name)"
   ]
  },
  {
   "cell_type": "code",
   "execution_count": null,
   "metadata": {},
   "outputs": [],
   "source": [
    "X_words = list(tfidf.vocabulary_.keys())"
   ]
  },
  {
   "cell_type": "code",
   "execution_count": null,
   "metadata": {},
   "outputs": [],
   "source": [
    "# Функция преобразования текста в список слов, полученных способом вычисления расстояния Левенштейна\n",
    "def new_text_lev(text):\n",
    "    result = \"\"\n",
    "    for word in identity_tokenizer(text.lower()):\n",
    "        if word != \"\":\n",
    "            new_word = process.extractOne(word, X_words)\n",
    "            if new_word[1] > 90: # Задаем порог для включения слова\n",
    "                result = result + \" \" + new_word[0]\n",
    "    return result"
   ]
  },
  {
   "cell_type": "code",
   "execution_count": null,
   "metadata": {},
   "outputs": [],
   "source": [
    "train['new_item_name'] = train['item_name'].apply(new_text_lev)"
   ]
  },
  {
   "cell_type": "code",
   "execution_count": null,
   "metadata": {},
   "outputs": [],
   "source": [
    "import pickle"
   ]
  },
  {
   "cell_type": "code",
   "execution_count": null,
   "metadata": {},
   "outputs": [],
   "source": [
    "with open(\"train_ext\", \"wb\") as f:\n",
    "    pickle.dump(train, f)"
   ]
  },
  {
   "cell_type": "code",
   "execution_count": null,
   "metadata": {},
   "outputs": [],
   "source": []
  },
  {
   "cell_type": "code",
   "execution_count": null,
   "metadata": {},
   "outputs": [],
   "source": []
  },
  {
   "cell_type": "code",
   "execution_count": null,
   "metadata": {},
   "outputs": [],
   "source": [
    "# Что означает *?"
   ]
  },
  {
   "cell_type": "code",
   "execution_count": null,
   "metadata": {},
   "outputs": [],
   "source": [
    "tr = tfidf.transform(['пиво'])"
   ]
  },
  {
   "cell_type": "code",
   "execution_count": null,
   "metadata": {},
   "outputs": [],
   "source": [
    "tfidf.vocabulary_['пиво']"
   ]
  },
  {
   "cell_type": "code",
   "execution_count": null,
   "metadata": {},
   "outputs": [],
   "source": [
    "print(tr)"
   ]
  },
  {
   "cell_type": "code",
   "execution_count": null,
   "metadata": {},
   "outputs": [],
   "source": []
  },
  {
   "cell_type": "code",
   "execution_count": null,
   "metadata": {},
   "outputs": [],
   "source": [
    "# Создадим функцию, которая выберает все покупки одной категории и возвращает вектор слов\n",
    "# Не считать разделителями такие символы как (',', '/', )"
   ]
  },
  {
   "cell_type": "code",
   "execution_count": null,
   "metadata": {},
   "outputs": [],
   "source": [
    "# Функция получает номер категории и возвращает словарь слов, которые попадали в эту категрию\n",
    "def get_words_cat(cat):\n",
    "    df_cat = train[train['category_id'] == cat]\n",
    "    tfidf = TfidfVectorizer(tokenizer=identity_tokenizer, min_df=5)\n",
    "    tfidf.fit_transform(df_cat.item_name)\n",
    "    return tfidf.vocabulary_"
   ]
  },
  {
   "cell_type": "code",
   "execution_count": null,
   "metadata": {},
   "outputs": [],
   "source": [
    "# Функция получает номер категории и возвращает словарь слов из других категорий кроме этой\n",
    "def get_words_nocat(cat):\n",
    "    df_cat = train[train['category_id'] != cat]\n",
    "    tfidf = TfidfVectorizer(tokenizer=identity_tokenizer, min_df=5)\n",
    "    tfidf.fit_transform(df_cat.item_name)\n",
    "    return tfidf.vocabulary_"
   ]
  },
  {
   "cell_type": "code",
   "execution_count": null,
   "metadata": {},
   "outputs": [],
   "source": [
    "def dict_compare(d1, d2):\n",
    "    d1_keys = set(d1.keys())\n",
    "    d2_keys = set(d2.keys())\n",
    "    uniq_key = d1_keys - d2_keys\n",
    "    return uniq_key"
   ]
  },
  {
   "cell_type": "code",
   "execution_count": null,
   "metadata": {},
   "outputs": [],
   "source": [
    "# сравниваем словари и ищем совпадения. Интересуют совпадающие сокращения\n",
    "words = get_words_cat(0)\n",
    "nowords = get_words_nocat(0)"
   ]
  },
  {
   "cell_type": "code",
   "execution_count": null,
   "metadata": {},
   "outputs": [],
   "source": [
    "uniq_keys = dict_compare(words, nowords)"
   ]
  },
  {
   "cell_type": "code",
   "execution_count": null,
   "metadata": {},
   "outputs": [],
   "source": [
    "len(uniq_keys)"
   ]
  },
  {
   "cell_type": "code",
   "execution_count": null,
   "metadata": {},
   "outputs": [],
   "source": [
    "for pattern in uniq_keys:\n",
    "    for cur_key in words.keys():\n",
    "        if (re.match(pattern, cur_key)) and (pattern != cur_key):\n",
    "            print(pattern, cur_key)   "
   ]
  },
  {
   "cell_type": "code",
   "execution_count": null,
   "metadata": {},
   "outputs": [],
   "source": [
    "# Список для замены слов в тексте. Индекс 0 - что заменить, 1 - на что заменить\n",
    "replace_words_cat2 = [['com ', 'compakt'], ['папирос ', 'папиросы '], ['сиг. ', 'сигареты'], ['сигареты', 'сигареты '],\n",
    "    ['durex', 'Дюрекс'], ['CONTEX', 'Контекс'], ['Classic', 'КЛАССИК'], ['пурпур ', 'пурпурный '], [',', '.'],\n",
    "    ['сигар ', 'сигареты '], ['сиг-ты ', 'сигареты '], ['0,47 ', '0,47л '], ['нефильтр. ', 'нефильтрованное '], ['коньяке ', 'коньяк '],\n",
    "    ['игр. ', 'игристое '], ['игр ', 'игристое '], ['п/сл. ', 'полусладкое '], ['п/сл ', 'полусладкое '], ['п/слад ', 'полусладкое '],\n",
    "    ['крас ', 'красное '], ['фильт ', 'фильтрованное '], ['светл. ', 'светлое '], ['светл ', 'светлое ']]"
   ]
  },
  {
   "cell_type": "code",
   "execution_count": null,
   "metadata": {},
   "outputs": [],
   "source": []
  },
  {
   "cell_type": "code",
   "execution_count": null,
   "metadata": {},
   "outputs": [],
   "source": []
  },
  {
   "cell_type": "code",
   "execution_count": null,
   "metadata": {},
   "outputs": [],
   "source": []
  },
  {
   "cell_type": "code",
   "execution_count": null,
   "metadata": {},
   "outputs": [],
   "source": [
    "import nltk\n",
    "nltk.download('stopwords')"
   ]
  },
  {
   "cell_type": "code",
   "execution_count": 6,
   "metadata": {},
   "outputs": [],
   "source": [
    "tfidf = TfidfVectorizer(min_df=5)\n",
    "X_train = tfidf.fit_transform(train.item_name)"
   ]
  },
  {
   "cell_type": "code",
   "execution_count": 20,
   "metadata": {},
   "outputs": [
    {
     "data": {
      "text/plain": [
       "6474"
      ]
     },
     "execution_count": 20,
     "metadata": {},
     "output_type": "execute_result"
    }
   ],
   "source": [
    "len(tfidf.vocabulary_)"
   ]
  },
  {
   "cell_type": "code",
   "execution_count": null,
   "metadata": {},
   "outputs": [],
   "source": [
    "clf = LogisticRegression(max_iter=400)\n",
    "cross_val_score(clf, X_train, train.category_id, cv=3, scoring='f1_weighted')"
   ]
  },
  {
   "cell_type": "code",
   "execution_count": null,
   "metadata": {},
   "outputs": [],
   "source": [
    "X_train.shape"
   ]
  },
  {
   "cell_type": "markdown",
   "metadata": {},
   "source": [
    "min_df=5 удучшило качество модели по сравнению с max_features=1000"
   ]
  },
  {
   "cell_type": "code",
   "execution_count": null,
   "metadata": {},
   "outputs": [],
   "source": [
    "tfidf = TfidfVectorizer(min_df=5, tokenizer=identity_tokenizer)\n",
    "X_train = tfidf.fit_transform(train.item_name)"
   ]
  },
  {
   "cell_type": "code",
   "execution_count": null,
   "metadata": {},
   "outputs": [],
   "source": [
    "clf = LogisticRegression(max_iter=400)\n",
    "cross_val_score(clf, X_train, train.category_id, cv=3, scoring='f1_weighted')"
   ]
  },
  {
   "cell_type": "markdown",
   "metadata": {},
   "source": [
    "tokenizer=identity_tokenizer ухудшило модель"
   ]
  },
  {
   "cell_type": "code",
   "execution_count": null,
   "metadata": {},
   "outputs": [],
   "source": [
    "X_train.shape"
   ]
  },
  {
   "cell_type": "code",
   "execution_count": null,
   "metadata": {},
   "outputs": [],
   "source": [
    "import re"
   ]
  },
  {
   "cell_type": "code",
   "execution_count": null,
   "metadata": {},
   "outputs": [],
   "source": [
    "len(tfidf.vocabulary_)"
   ]
  },
  {
   "cell_type": "code",
   "execution_count": null,
   "metadata": {},
   "outputs": [],
   "source": []
  },
  {
   "cell_type": "code",
   "execution_count": null,
   "metadata": {},
   "outputs": [],
   "source": [
    "#Проверим fuzzy на наших данных\n",
    "train_fuzzy = train[:-5]['item_name'].tolist()"
   ]
  },
  {
   "cell_type": "code",
   "execution_count": null,
   "metadata": {},
   "outputs": [],
   "source": [
    "len(train_fuzzy)"
   ]
  },
  {
   "cell_type": "code",
   "execution_count": null,
   "metadata": {},
   "outputs": [],
   "source": [
    "test_fuzzy = train[-3:-2]['item_name'].tolist()[0]\n",
    "print(test_fuzzy)\n",
    "new_sent = []\n",
    "for word in identity_tokenizer(test_fuzzy.lower()):\n",
    "    if word in tfidf.vocabulary_:\n",
    "        new_sent.append(word)\n",
    "    else:\n",
    "        res = process.extractOne(word, X_words)\n",
    "        if res[1] > 90:\n",
    "            new_sent.append(res[0])\n",
    "print(new_sent)"
   ]
  },
  {
   "cell_type": "code",
   "execution_count": null,
   "metadata": {},
   "outputs": [],
   "source": [
    "process.extract(test_fuzzy, train_fuzzy, limit=10)"
   ]
  },
  {
   "cell_type": "code",
   "execution_count": null,
   "metadata": {},
   "outputs": [],
   "source": [
    "print(test_fuzzy)\n",
    "identity_tokenizer(test_fuzzy.lower())"
   ]
  },
  {
   "cell_type": "code",
   "execution_count": null,
   "metadata": {},
   "outputs": [],
   "source": []
  },
  {
   "cell_type": "code",
   "execution_count": null,
   "metadata": {},
   "outputs": [],
   "source": [
    "from Levenshtein import editops"
   ]
  },
  {
   "cell_type": "code",
   "execution_count": null,
   "metadata": {},
   "outputs": [],
   "source": [
    "!pip install python-Levenshtein "
   ]
  },
  {
   "cell_type": "code",
   "execution_count": null,
   "metadata": {},
   "outputs": [],
   "source": []
  },
  {
   "cell_type": "code",
   "execution_count": null,
   "metadata": {},
   "outputs": [],
   "source": [
    "clf.fit(X_train, train.category_id)"
   ]
  },
  {
   "cell_type": "code",
   "execution_count": null,
   "metadata": {},
   "outputs": [],
   "source": [
    "import pickle\n",
    "pickle.dump(tfidf, open('tfidf', 'wb'))\n",
    "pickle.dump(clf, open('clf_task1', 'wb'))"
   ]
  },
  {
   "cell_type": "code",
   "execution_count": null,
   "metadata": {},
   "outputs": [],
   "source": []
  },
  {
   "cell_type": "code",
   "execution_count": null,
   "metadata": {},
   "outputs": [],
   "source": []
  },
  {
   "cell_type": "code",
   "execution_count": null,
   "metadata": {},
   "outputs": [],
   "source": [
    "tfidf = TfidfVectorizer(min_df = 3)"
   ]
  },
  {
   "cell_type": "code",
   "execution_count": null,
   "metadata": {},
   "outputs": [],
   "source": [
    "tfidf.fit(train.item_name)"
   ]
  },
  {
   "cell_type": "code",
   "execution_count": null,
   "metadata": {},
   "outputs": [],
   "source": [
    "len(tfidf.vocabulary_)"
   ]
  },
  {
   "cell_type": "code",
   "execution_count": null,
   "metadata": {},
   "outputs": [],
   "source": [
    "X_words = list(tfidf.vocabulary_.keys())"
   ]
  },
  {
   "cell_type": "code",
   "execution_count": null,
   "metadata": {},
   "outputs": [],
   "source": [
    "# Функция преобразования текста в список слов, полученных способом вычисления расстояния Левенштейна\n",
    "def new_text_lev(text):\n",
    "    result = \"\"\n",
    "    for word in identity_tokenizer(text.lower()):\n",
    "        #word = translit(word, 'ru')\n",
    "        if word in X_words:\n",
    "            result = result + \" \" + word\n",
    "        else:\n",
    "            if word != \"\":\n",
    "                new_word = process.extractOne(word, X_words)\n",
    "                if new_word[1] > 90: # Задаем порог для включения слова\n",
    "                    result = result + \" \" + new_word[0]\n",
    "    return result"
   ]
  },
  {
   "cell_type": "code",
   "execution_count": null,
   "metadata": {},
   "outputs": [],
   "source": [
    "train['new_item_name'] = train['item_name'].apply(new_text_lev)"
   ]
  },
  {
   "cell_type": "code",
   "execution_count": null,
   "metadata": {},
   "outputs": [],
   "source": [
    "train['item_name'][10:20]"
   ]
  },
  {
   "cell_type": "code",
   "execution_count": null,
   "metadata": {},
   "outputs": [],
   "source": [
    "train['item_name'][10:20].apply(new_text_lev)"
   ]
  },
  {
   "cell_type": "code",
   "execution_count": null,
   "metadata": {},
   "outputs": [],
   "source": []
  },
  {
   "cell_type": "code",
   "execution_count": null,
   "metadata": {},
   "outputs": [],
   "source": [
    "identity_tokenizer(str(train['item_name'][:1]))"
   ]
  },
  {
   "cell_type": "code",
   "execution_count": null,
   "metadata": {},
   "outputs": [],
   "source": [
    "(train['item_name'][:1])"
   ]
  },
  {
   "cell_type": "code",
   "execution_count": null,
   "metadata": {},
   "outputs": [],
   "source": []
  },
  {
   "cell_type": "code",
   "execution_count": null,
   "metadata": {},
   "outputs": [],
   "source": []
  },
  {
   "cell_type": "code",
   "execution_count": null,
   "metadata": {},
   "outputs": [],
   "source": []
  },
  {
   "cell_type": "code",
   "execution_count": 56,
   "metadata": {},
   "outputs": [],
   "source": [
    "import numpy as np"
   ]
  },
  {
   "cell_type": "code",
   "execution_count": null,
   "metadata": {},
   "outputs": [],
   "source": [
    "# Функция для разделения текста\n",
    "def identity_tokenizer(text):\n",
    "    return re.findall('[А-яA-z]+', text)"
   ]
  },
  {
   "cell_type": "code",
   "execution_count": 69,
   "metadata": {},
   "outputs": [],
   "source": [
    "stop = stopwords.words('russian')\n",
    "tfidf = TfidfVectorizer(min_df = 6, ngram_range=(1,3))\n",
    "X_train = tfidf.fit_transform(train.item_name)"
   ]
  },
  {
   "cell_type": "code",
   "execution_count": 70,
   "metadata": {},
   "outputs": [
    {
     "data": {
      "text/plain": [
       "8146"
      ]
     },
     "execution_count": 70,
     "metadata": {},
     "output_type": "execute_result"
    }
   ],
   "source": [
    "len(tfidf.vocabulary_)"
   ]
  },
  {
   "cell_type": "code",
   "execution_count": 71,
   "metadata": {},
   "outputs": [
    {
     "data": {
      "text/plain": [
       "0.7131785515282553"
      ]
     },
     "execution_count": 71,
     "metadata": {},
     "output_type": "execute_result"
    }
   ],
   "source": [
    "clf = LogisticRegression(max_iter=400)\n",
    "np.array(cross_val_score(clf, X_train, train.category_id, cv=3, scoring='f1_weighted')).mean()"
   ]
  },
  {
   "cell_type": "code",
   "execution_count": null,
   "metadata": {},
   "outputs": [],
   "source": [
    "train.head()"
   ]
  },
  {
   "cell_type": "code",
   "execution_count": null,
   "metadata": {},
   "outputs": [],
   "source": [
    "from transliterate import translit"
   ]
  },
  {
   "cell_type": "code",
   "execution_count": null,
   "metadata": {},
   "outputs": [],
   "source": [
    "process.extractOne(translit('plus', 'ru'), ['пл'])"
   ]
  },
  {
   "cell_type": "code",
   "execution_count": null,
   "metadata": {},
   "outputs": [],
   "source": [
    "translit('plus', 'ru')"
   ]
  },
  {
   "cell_type": "code",
   "execution_count": 8,
   "metadata": {},
   "outputs": [],
   "source": [
    "clf = LogisticRegression(max_iter=400)"
   ]
  },
  {
   "cell_type": "code",
   "execution_count": 27,
   "metadata": {},
   "outputs": [],
   "source": [
    "X_train = tfidf.transform(train['item_name'][:45000])\n",
    "y_train = train['category_id'][:45000]"
   ]
  },
  {
   "cell_type": "code",
   "execution_count": 28,
   "metadata": {},
   "outputs": [],
   "source": [
    "X_test = tfidf.transform(train['item_name'][45000:])\n",
    "y_test = train['category_id'][45000:]"
   ]
  },
  {
   "cell_type": "code",
   "execution_count": 29,
   "metadata": {},
   "outputs": [
    {
     "data": {
      "text/plain": [
       "LogisticRegression(max_iter=400)"
      ]
     },
     "execution_count": 29,
     "metadata": {},
     "output_type": "execute_result"
    }
   ],
   "source": [
    "clf.fit(X_train, y_train)"
   ]
  },
  {
   "cell_type": "code",
   "execution_count": 30,
   "metadata": {},
   "outputs": [],
   "source": [
    "y_pred = clf.predict(X_test)"
   ]
  },
  {
   "cell_type": "code",
   "execution_count": null,
   "metadata": {},
   "outputs": [],
   "source": []
  },
  {
   "cell_type": "code",
   "execution_count": 37,
   "metadata": {},
   "outputs": [],
   "source": [
    "from keras.models import Sequential\n",
    "from keras.optimizers import RMSprop\n",
    "from keras.layers import Dense, Embedding, LSTM"
   ]
  },
  {
   "cell_type": "code",
   "execution_count": 38,
   "metadata": {},
   "outputs": [],
   "source": [
    "max_words = len(tfidf.vocabulary_)\n",
    "num_classes = 96\n",
    "maxSequenceLength = len(tfidf.vocabulary_)"
   ]
  },
  {
   "cell_type": "code",
   "execution_count": 44,
   "metadata": {},
   "outputs": [
    {
     "data": {
      "text/plain": [
       "6474"
      ]
     },
     "execution_count": 44,
     "metadata": {},
     "output_type": "execute_result"
    }
   ],
   "source": [
    "len(tfidf.vocabulary_)"
   ]
  },
  {
   "cell_type": "code",
   "execution_count": 52,
   "metadata": {},
   "outputs": [],
   "source": [
    "from keras.layers import Embedding\n",
    "from keras import preprocessing"
   ]
  },
  {
   "cell_type": "code",
   "execution_count": 43,
   "metadata": {},
   "outputs": [],
   "source": [
    "embedding_layer = Embedding(10000, 64)"
   ]
  },
  {
   "cell_type": "code",
   "execution_count": 45,
   "metadata": {},
   "outputs": [],
   "source": [
    "max_features = 10000\n",
    "maxlen = 5"
   ]
  },
  {
   "cell_type": "code",
   "execution_count": 76,
   "metadata": {},
   "outputs": [],
   "source": [
    "model = Sequential()\n",
    "model.add(Embedding(10000, 8, input_length=maxlen))\n",
    "model.add(Flatten())\n",
    "model.add(Dense(96, activation='softmax'))\n",
    "model.compile(optimizer='rmsprop', loss='categorical_crossentropy', metrics=['acc'])"
   ]
  },
  {
   "cell_type": "code",
   "execution_count": 7,
   "metadata": {},
   "outputs": [],
   "source": [
    "from sklearn.neural_network import MLPClassifier"
   ]
  },
  {
   "cell_type": "code",
   "execution_count": 8,
   "metadata": {},
   "outputs": [],
   "source": [
    "mlp = MLPClassifier(solver='lbfgs', random_state=0, max_iter=1000, hidden_layer_sizes=[1000, 100])"
   ]
  },
  {
   "cell_type": "code",
   "execution_count": 10,
   "metadata": {},
   "outputs": [
    {
     "name": "stderr",
     "output_type": "stream",
     "text": [
      "C:\\Users\\sypachev\\anaconda3\\lib\\site-packages\\sklearn\\neural_network\\_multilayer_perceptron.py:471: ConvergenceWarning: lbfgs failed to converge (status=1):\n",
      "STOP: TOTAL NO. of ITERATIONS REACHED LIMIT.\n",
      "\n",
      "Increase the number of iterations (max_iter) or scale the data as shown in:\n",
      "    https://scikit-learn.org/stable/modules/preprocessing.html\n",
      "  self.n_iter_ = _check_optimize_result(\"lbfgs\", opt_res, self.max_iter)\n"
     ]
    },
    {
     "data": {
      "text/plain": [
       "MLPClassifier(hidden_layer_sizes=[1000, 100], max_iter=1000, random_state=0,\n",
       "              solver='lbfgs')"
      ]
     },
     "execution_count": 10,
     "metadata": {},
     "output_type": "execute_result"
    }
   ],
   "source": [
    "mlp.fit(X_train, train.category_id)"
   ]
  },
  {
   "cell_type": "code",
   "execution_count": 11,
   "metadata": {},
   "outputs": [],
   "source": [
    "import pickle"
   ]
  },
  {
   "cell_type": "code",
   "execution_count": 12,
   "metadata": {},
   "outputs": [],
   "source": [
    "import pickle\n",
    "pickle.dump(tfidf, open('tfidf', 'wb'))\n",
    "pickle.dump(mlp, open('mlp_task1', 'wb'))"
   ]
  },
  {
   "cell_type": "code",
   "execution_count": null,
   "metadata": {},
   "outputs": [],
   "source": []
  },
  {
   "cell_type": "code",
   "execution_count": 82,
   "metadata": {},
   "outputs": [
    {
     "name": "stderr",
     "output_type": "stream",
     "text": [
      "C:\\Users\\sypachev\\anaconda3\\lib\\site-packages\\sklearn\\neural_network\\_multilayer_perceptron.py:471: ConvergenceWarning: lbfgs failed to converge (status=1):\n",
      "STOP: TOTAL NO. of ITERATIONS REACHED LIMIT.\n",
      "\n",
      "Increase the number of iterations (max_iter) or scale the data as shown in:\n",
      "    https://scikit-learn.org/stable/modules/preprocessing.html\n",
      "  self.n_iter_ = _check_optimize_result(\"lbfgs\", opt_res, self.max_iter)\n",
      "C:\\Users\\sypachev\\anaconda3\\lib\\site-packages\\sklearn\\neural_network\\_multilayer_perceptron.py:471: ConvergenceWarning: lbfgs failed to converge (status=1):\n",
      "STOP: TOTAL NO. of ITERATIONS REACHED LIMIT.\n",
      "\n",
      "Increase the number of iterations (max_iter) or scale the data as shown in:\n",
      "    https://scikit-learn.org/stable/modules/preprocessing.html\n",
      "  self.n_iter_ = _check_optimize_result(\"lbfgs\", opt_res, self.max_iter)\n",
      "C:\\Users\\sypachev\\anaconda3\\lib\\site-packages\\sklearn\\neural_network\\_multilayer_perceptron.py:471: ConvergenceWarning: lbfgs failed to converge (status=1):\n",
      "STOP: TOTAL NO. of ITERATIONS REACHED LIMIT.\n",
      "\n",
      "Increase the number of iterations (max_iter) or scale the data as shown in:\n",
      "    https://scikit-learn.org/stable/modules/preprocessing.html\n",
      "  self.n_iter_ = _check_optimize_result(\"lbfgs\", opt_res, self.max_iter)\n"
     ]
    },
    {
     "data": {
      "text/plain": [
       "array([0.75982965, 0.74151029, 0.69955346])"
      ]
     },
     "execution_count": 82,
     "metadata": {},
     "output_type": "execute_result"
    }
   ],
   "source": [
    "cross_val_score(mlp, X_train, train.category_id, cv=3, scoring='f1_weighted')"
   ]
  },
  {
   "cell_type": "code",
   "execution_count": 79,
   "metadata": {},
   "outputs": [
    {
     "data": {
      "text/plain": [
       "0.74338988"
      ]
     },
     "execution_count": 79,
     "metadata": {},
     "output_type": "execute_result"
    }
   ],
   "source": [
    "np.array([0.76546632, 0.7459006 , 0.71880272]).mean()"
   ]
  },
  {
   "cell_type": "code",
   "execution_count": 83,
   "metadata": {},
   "outputs": [
    {
     "data": {
      "text/plain": [
       "0.7336311333333333"
      ]
     },
     "execution_count": 83,
     "metadata": {},
     "output_type": "execute_result"
    }
   ],
   "source": [
    "np.array([0.75982965, 0.74151029, 0.69955346]).mean()"
   ]
  },
  {
   "cell_type": "code",
   "execution_count": 74,
   "metadata": {},
   "outputs": [],
   "source": [
    "import numpy as np"
   ]
  },
  {
   "cell_type": "code",
   "execution_count": null,
   "metadata": {},
   "outputs": [],
   "source": []
  },
  {
   "cell_type": "code",
   "execution_count": null,
   "metadata": {},
   "outputs": [],
   "source": []
  },
  {
   "cell_type": "code",
   "execution_count": 99,
   "metadata": {},
   "outputs": [],
   "source": [
    "import re"
   ]
  },
  {
   "cell_type": "code",
   "execution_count": 247,
   "metadata": {},
   "outputs": [],
   "source": [
    "ini_str = \"тестСлова АВС jhjhjhVgfgf 43.466 dfd/465g ghjGfgg JHGH\""
   ]
  },
  {
   "cell_type": "code",
   "execution_count": 291,
   "metadata": {},
   "outputs": [],
   "source": [
    "def repl_case(text):\n",
    "    text = re.sub(r'([а-я](?=[А-Я])|[А-Я](?=[А-Я][а-я]))', r'\\1 ', text)\n",
    "    text = re.sub(r'([a-z](?=[A-Z])|[A-Z](?=[A-Z][a-z]))', r'\\1 ', text)\n",
    "    return text"
   ]
  },
  {
   "cell_type": "code",
   "execution_count": 188,
   "metadata": {},
   "outputs": [
    {
     "data": {
      "text/plain": [
       "'тест Слова'"
      ]
     },
     "execution_count": 188,
     "metadata": {},
     "output_type": "execute_result"
    }
   ],
   "source": [
    "ini_str = repl_case(ini_str)\n",
    "ini_str"
   ]
  },
  {
   "cell_type": "code",
   "execution_count": 251,
   "metadata": {},
   "outputs": [
    {
     "data": {
      "text/plain": [
       "['', '', '', '', '', '']"
      ]
     },
     "execution_count": 251,
     "metadata": {},
     "output_type": "execute_result"
    }
   ],
   "source": [
    "re.split('[А-я][^А-Я]*', ini_str)"
   ]
  },
  {
   "cell_type": "code",
   "execution_count": 274,
   "metadata": {},
   "outputs": [
    {
     "data": {
      "text/plain": [
       "'тест Слова А ВС jhjhjhVgfgf 43.466 dfd/465g ghjGfgg JHGH'"
      ]
     },
     "execution_count": 274,
     "metadata": {},
     "output_type": "execute_result"
    }
   ],
   "source": [
    "re.sub(r\"(\\w)([А-Я])\", r\"\\1 \\2\", ini_str)"
   ]
  },
  {
   "cell_type": "code",
   "execution_count": 293,
   "metadata": {},
   "outputs": [],
   "source": [
    "train['item_name'] = train['item_name'].apply(repl_case)"
   ]
  },
  {
   "cell_type": "code",
   "execution_count": 294,
   "metadata": {},
   "outputs": [
    {
     "data": {
      "text/plain": [
       "0                                       Молоко 3,2%,шт\n",
       "1                            Компот из изюма, 114 ккал\n",
       "2    Макаронные изделия отварные (масло сливочное),...\n",
       "3                        Кофе Капучино Большой Эден 18\n",
       "4                               Хлеб на СЫВОРОТКЕ 350г\n",
       "5                       Сосиска в тесте с сыром 1шт ГЕ\n",
       "6      Ланч Баскет 5 за 300: 2 шт ОРИГ Стрипсы кур фил\n",
       "7                                  Станд Картофель фри\n",
       "8                                   Хот-дог Куриный СБ\n",
       "9                                 Чизбургер с луком СБ\n",
       "Name: item_name, dtype: object"
      ]
     },
     "execution_count": 294,
     "metadata": {},
     "output_type": "execute_result"
    }
   ],
   "source": [
    "train['item_name'].head(10)"
   ]
  },
  {
   "cell_type": "code",
   "execution_count": 257,
   "metadata": {},
   "outputs": [
    {
     "data": {
      "text/plain": [
       "'тес Слова АВС jhjhjhVgfgf 43.466 dfd/465g ghjGfgg JHGH'"
      ]
     },
     "execution_count": 257,
     "metadata": {},
     "output_type": "execute_result"
    }
   ],
   "source": [
    "re.sub(r'([а-я](?=[А-Я])|[А-Я](?=[А-Я][а-я]))', r' ', ini_str)"
   ]
  },
  {
   "cell_type": "code",
   "execution_count": 273,
   "metadata": {},
   "outputs": [
    {
     "data": {
      "text/plain": [
       "'тес Слова АВС jhjhjhVgfgf 43.466 dfd/465g ghjGfgg JHGH'"
      ]
     },
     "execution_count": 273,
     "metadata": {},
     "output_type": "execute_result"
    }
   ],
   "source": [
    "re.sub(r'([а-я](?=[А-Я])|[А-Я](?=[А-Я][а-я]))', r' ', ini_str)"
   ]
  },
  {
   "cell_type": "code",
   "execution_count": 255,
   "metadata": {},
   "outputs": [
    {
     "data": {
      "text/plain": [
       "'тест Слова А В Сjhjhjh Vgfgf43.466dfd/465gghj Gfgg J H G H'"
      ]
     },
     "execution_count": 255,
     "metadata": {},
     "output_type": "execute_result"
    }
   ],
   "source": [
    "''.join(' ' + char if char.isupper() else char.strip() for char in ini_str).strip()"
   ]
  },
  {
   "cell_type": "code",
   "execution_count": 280,
   "metadata": {},
   "outputs": [
    {
     "data": {
      "text/plain": [
       "'тест Слова А ВС jhjhjhVgfgf 43.466 dfd/465g ghjGfgg JHGH'"
      ]
     },
     "execution_count": 280,
     "metadata": {},
     "output_type": "execute_result"
    }
   ],
   "source": [
    "re.sub(r\"(\\w)([А-Я])\", r\"\\1 \\2\", ini_str)"
   ]
  },
  {
   "cell_type": "code",
   "execution_count": 281,
   "metadata": {},
   "outputs": [
    {
     "data": {
      "text/plain": [
       "'Simple HTTP Server'"
      ]
     },
     "execution_count": 281,
     "metadata": {},
     "output_type": "execute_result"
    }
   ],
   "source": [
    "re.sub(r'([a-z](?=[A-Z])|[A-Z](?=[A-Z][a-z]))', r'\\1 ', \"SimpleHTTPServer\")"
   ]
  },
  {
   "cell_type": "code",
   "execution_count": 287,
   "metadata": {},
   "outputs": [
    {
     "data": {
      "text/plain": [
       "'тест Слова АВС jhjhjhVgfgf 43.466 dfd/465g ghjGfgg JHGH'"
      ]
     },
     "execution_count": 287,
     "metadata": {},
     "output_type": "execute_result"
    }
   ],
   "source": [
    "re.sub(r'([а-я](?=[А-Я])|[А-Я](?=[А-Я][а-я]))', r'\\1 ', ini_str)"
   ]
  },
  {
   "cell_type": "code",
   "execution_count": null,
   "metadata": {},
   "outputs": [],
   "source": []
  },
  {
   "cell_type": "code",
   "execution_count": 17,
   "metadata": {},
   "outputs": [
    {
     "data": {
      "text/plain": [
       "(6483420, 9)"
      ]
     },
     "execution_count": 17,
     "metadata": {},
     "output_type": "execute_result"
    }
   ],
   "source": [
    "train.shape"
   ]
  },
  {
   "cell_type": "code",
   "execution_count": 10,
   "metadata": {},
   "outputs": [],
   "source": [
    "ad_df = pd.read_excel('cat0.xlsx')"
   ]
  },
  {
   "cell_type": "code",
   "execution_count": 12,
   "metadata": {},
   "outputs": [
    {
     "data": {
      "text/html": [
       "<div>\n",
       "<style scoped>\n",
       "    .dataframe tbody tr th:only-of-type {\n",
       "        vertical-align: middle;\n",
       "    }\n",
       "\n",
       "    .dataframe tbody tr th {\n",
       "        vertical-align: top;\n",
       "    }\n",
       "\n",
       "    .dataframe thead th {\n",
       "        text-align: right;\n",
       "    }\n",
       "</style>\n",
       "<table border=\"1\" class=\"dataframe\">\n",
       "  <thead>\n",
       "    <tr style=\"text-align: right;\">\n",
       "      <th></th>\n",
       "      <th>item_name</th>\n",
       "      <th>category_id</th>\n",
       "    </tr>\n",
       "  </thead>\n",
       "  <tbody>\n",
       "    <tr>\n",
       "      <th>0</th>\n",
       "      <td>Пиво PAULANER Hefe-Weissbier безалкогольное ж/...</td>\n",
       "      <td>0</td>\n",
       "    </tr>\n",
       "    <tr>\n",
       "      <th>1</th>\n",
       "      <td>Пиво безалкогольное CLAUSTHALER. бутылка 0.33 л</td>\n",
       "      <td>0</td>\n",
       "    </tr>\n",
       "    <tr>\n",
       "      <th>2</th>\n",
       "      <td>Пиво MAISEL'S WEISSE безалкогольное ст/б. 0.5л</td>\n",
       "      <td>0</td>\n",
       "    </tr>\n",
       "    <tr>\n",
       "      <th>3</th>\n",
       "      <td>Пиво CLAUSTHALER безалкогольное в жестяной бан...</td>\n",
       "      <td>0</td>\n",
       "    </tr>\n",
       "    <tr>\n",
       "      <th>4</th>\n",
       "      <td>Пиво БАЛТИКА №0 безалкогольное ж/б. 0.45л</td>\n",
       "      <td>0</td>\n",
       "    </tr>\n",
       "  </tbody>\n",
       "</table>\n",
       "</div>"
      ],
      "text/plain": [
       "                                           item_name  category_id\n",
       "0  Пиво PAULANER Hefe-Weissbier безалкогольное ж/...            0\n",
       "1    Пиво безалкогольное CLAUSTHALER. бутылка 0.33 л            0\n",
       "2     Пиво MAISEL'S WEISSE безалкогольное ст/б. 0.5л            0\n",
       "3  Пиво CLAUSTHALER безалкогольное в жестяной бан...            0\n",
       "4          Пиво БАЛТИКА №0 безалкогольное ж/б. 0.45л            0"
      ]
     },
     "execution_count": 12,
     "metadata": {},
     "output_type": "execute_result"
    }
   ],
   "source": [
    "ad_df.head()"
   ]
  },
  {
   "cell_type": "code",
   "execution_count": 16,
   "metadata": {},
   "outputs": [],
   "source": [
    "train = pd.concat([train, ad_df])"
   ]
  },
  {
   "cell_type": "code",
   "execution_count": 1,
   "metadata": {},
   "outputs": [],
   "source": [
    "from nltk.stem import SnowballStemmer \n",
    "russian_stemmer = SnowballStemmer('russian')"
   ]
  },
  {
   "cell_type": "code",
   "execution_count": 34,
   "metadata": {},
   "outputs": [
    {
     "name": "stdout",
     "output_type": "stream",
     "text": [
      "Wall time: 0 ns\n"
     ]
    },
    {
     "data": {
      "text/plain": [
       "'шампанское полусладкое 0.75литров 10% сметан'"
      ]
     },
     "execution_count": 34,
     "metadata": {},
     "output_type": "execute_result"
    }
   ],
   "source": [
    "%%time\n",
    "\n",
    "russian_stemmer.stem('Шампанское полусладкое 0.75литров 10% Сметаной')"
   ]
  },
  {
   "cell_type": "code",
   "execution_count": 16,
   "metadata": {},
   "outputs": [
    {
     "name": "stderr",
     "output_type": "stream",
     "text": [
      "Installing mystem to C:\\Users\\sypachev/.local/bin\\mystem.exe from http://download.cdn.yandex.net/mystem/mystem-3.1-win-64bit.zip\n"
     ]
    }
   ],
   "source": [
    "from pymystem3 import Mystem\n",
    "m = Mystem()"
   ]
  },
  {
   "cell_type": "code",
   "execution_count": 64,
   "metadata": {},
   "outputs": [
    {
     "name": "stdout",
     "output_type": "stream",
     "text": [
      "['шампанское', '\\n']\n",
      "['полусладкий', '\\n']\n",
      "['0.75', 'литр', '\\n']\n",
      "['10', '%\\n']\n",
      "['сметана', '\\n']\n",
      "Wall time: 8.65 s\n"
     ]
    }
   ],
   "source": [
    "%%time\n",
    "\n",
    "text = \"Шампанское полусладкое 0.75литров 10% Сметаной\"\n",
    "\n",
    "for word in text.split():\n",
    "    print(m.lemmatize(word))"
   ]
  },
  {
   "cell_type": "code",
   "execution_count": 66,
   "metadata": {},
   "outputs": [
    {
     "name": "stdout",
     "output_type": "stream",
     "text": [
      "['шампанское', ' ', 'полусладкий', ' ', '0.75', 'литр', ' ', '10', '% ', 'сметана', '\\n']\n",
      "Wall time: 1.81 s\n"
     ]
    }
   ],
   "source": [
    "%%time\n",
    "\n",
    "print(m.lemmatize(text))"
   ]
  },
  {
   "cell_type": "code",
   "execution_count": 40,
   "metadata": {},
   "outputs": [],
   "source": [
    "def stemm(text):\n",
    "    result = \"\"\n",
    "    for word in identity_tokenizer(text):\n",
    "        result += \" \" + russian_stemmer.stem(word)\n",
    "    return result"
   ]
  },
  {
   "cell_type": "code",
   "execution_count": 43,
   "metadata": {},
   "outputs": [],
   "source": [
    "import re"
   ]
  },
  {
   "cell_type": "code",
   "execution_count": 44,
   "metadata": {},
   "outputs": [],
   "source": [
    "def identity_tokenizer(text):\n",
    "    return re.findall('[А-яA-z]+', text)"
   ]
  },
  {
   "cell_type": "code",
   "execution_count": 46,
   "metadata": {},
   "outputs": [
    {
     "name": "stdout",
     "output_type": "stream",
     "text": [
      "Wall time: 0 ns\n"
     ]
    },
    {
     "data": {
      "text/plain": [
       "' шампанск полусладк литр сметан'"
      ]
     },
     "execution_count": 46,
     "metadata": {},
     "output_type": "execute_result"
    }
   ],
   "source": [
    "%%time\n",
    "\n",
    "stemm(\"Шампанское полусладкое 0.75литров 10% Сметаной\")"
   ]
  },
  {
   "cell_type": "code",
   "execution_count": 71,
   "metadata": {},
   "outputs": [
    {
     "name": "stderr",
     "output_type": "stream",
     "text": [
      "[nltk_data] Downloading package wordnet to\n",
      "[nltk_data]     C:\\Users\\sypachev\\AppData\\Roaming\\nltk_data...\n",
      "[nltk_data]   Unzipping corpora\\wordnet.zip.\n"
     ]
    },
    {
     "data": {
      "text/plain": [
       "True"
      ]
     },
     "execution_count": 71,
     "metadata": {},
     "output_type": "execute_result"
    }
   ],
   "source": [
    "import nltk\n",
    "nltk.download('wordnet')"
   ]
  },
  {
   "cell_type": "code",
   "execution_count": 72,
   "metadata": {},
   "outputs": [],
   "source": [
    "import nltk\n",
    "from nltk.stem import WordNetLemmatizer"
   ]
  },
  {
   "cell_type": "code",
   "execution_count": 73,
   "metadata": {},
   "outputs": [],
   "source": [
    "lemmatizer = WordNetLemmatizer()"
   ]
  },
  {
   "cell_type": "code",
   "execution_count": 76,
   "metadata": {},
   "outputs": [
    {
     "name": "stdout",
     "output_type": "stream",
     "text": [
      "Wall time: 0 ns\n"
     ]
    }
   ],
   "source": [
    "%%time\n",
    "\n",
    "lemmatized_output = ' '.join([lemmatizer.lemmatize(w) for w in text.split()])"
   ]
  },
  {
   "cell_type": "code",
   "execution_count": 77,
   "metadata": {},
   "outputs": [
    {
     "data": {
      "text/plain": [
       "'Шампанское полусладкое 0.75литров 10% Сметаной'"
      ]
     },
     "execution_count": 77,
     "metadata": {},
     "output_type": "execute_result"
    }
   ],
   "source": [
    "lemmatized_output"
   ]
  },
  {
   "cell_type": "code",
   "execution_count": null,
   "metadata": {},
   "outputs": [],
   "source": []
  }
 ],
 "metadata": {
  "kernelspec": {
   "display_name": "Python 3",
   "language": "python",
   "name": "python3"
  },
  "language_info": {
   "codemirror_mode": {
    "name": "ipython",
    "version": 3
   },
   "file_extension": ".py",
   "mimetype": "text/x-python",
   "name": "python",
   "nbconvert_exporter": "python",
   "pygments_lexer": "ipython3",
   "version": "3.7.6"
  }
 },
 "nbformat": 4,
 "nbformat_minor": 2
}
