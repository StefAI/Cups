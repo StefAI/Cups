{
 "cells": [
  {
   "cell_type": "markdown",
   "metadata": {
    "id": "onWd_-hfkFjP"
   },
   "source": [
    "## Загрузим нужные библиотеки"
   ]
  },
  {
   "cell_type": "code",
   "execution_count": 1,
   "metadata": {
    "id": "6ZwB6QtzjuK9"
   },
   "outputs": [],
   "source": [
    "import pandas as pd\n",
    "import seaborn as sns\n",
    "import matplotlib.pyplot as plt\n",
    "from sklearn.model_selection import train_test_split\n",
    "import numpy as np\n",
    "from sklearn.metrics import r2_score\n",
    "from catboost import CatBoostRegressor\n",
    "\n",
    "%matplotlib inline"
   ]
  },
  {
   "cell_type": "markdown",
   "metadata": {},
   "source": [
    "## Описание входных значений\n",
    "train/train_issues.csv — содержит в себе 9589 различных задач в спринте;\n",
    "train/train_comments.csv — содержит комментарии разработчиков к задачам обучающего набора;\n",
    "test/test_issues.csv — содержит в себе 1070 различных задач, для которых требуется предсказать потрачено команд;\n",
    "train/test_comments.csv — содержит комментарии разработчиков к задачам тестового набора;\n",
    "train/sample_solution.csv — пример файла для отправки;\n",
    "employees.csv — cписок работников и их контактная информация"
   ]
  },
  {
   "cell_type": "markdown",
   "metadata": {
    "id": "paXTTHa-kJhw"
   },
   "source": [
    "### Считаем тренировочный набор"
   ]
  },
  {
   "cell_type": "code",
   "execution_count": 2,
   "metadata": {
    "id": "-wig-ZPwkHMk"
   },
   "outputs": [],
   "source": [
    "df_issues_train = pd.read_csv(\"train_issues.csv\")\n",
    "df_comment_train = pd.read_csv(\"train_comments.csv\")\n",
    "\n",
    "df_emp = pd.read_csv(\"employees.csv\")"
   ]
  },
  {
   "cell_type": "markdown",
   "metadata": {
    "id": "GywlangPRAEm"
   },
   "source": [
    "## Рассмотрим датасет"
   ]
  },
  {
   "cell_type": "code",
   "execution_count": 3,
   "metadata": {
    "colab": {
     "base_uri": "https://localhost:8080/",
     "height": 187
    },
    "id": "gvcl_K3FQ-os",
    "outputId": "6ff39d81-7b85-4d3d-e243-b8fb4932973d"
   },
   "outputs": [
    {
     "data": {
      "text/html": [
       "<div>\n",
       "<style scoped>\n",
       "    .dataframe tbody tr th:only-of-type {\n",
       "        vertical-align: middle;\n",
       "    }\n",
       "\n",
       "    .dataframe tbody tr th {\n",
       "        vertical-align: top;\n",
       "    }\n",
       "\n",
       "    .dataframe thead th {\n",
       "        text-align: right;\n",
       "    }\n",
       "</style>\n",
       "<table border=\"1\" class=\"dataframe\">\n",
       "  <thead>\n",
       "    <tr style=\"text-align: right;\">\n",
       "      <th></th>\n",
       "      <th>id</th>\n",
       "      <th>created</th>\n",
       "      <th>key</th>\n",
       "      <th>summary</th>\n",
       "      <th>project_id</th>\n",
       "      <th>assignee_id</th>\n",
       "      <th>creator_id</th>\n",
       "      <th>overall_worklogs</th>\n",
       "    </tr>\n",
       "  </thead>\n",
       "  <tbody>\n",
       "    <tr>\n",
       "      <th>0</th>\n",
       "      <td>819952</td>\n",
       "      <td>2019-10-01 05:57:18.000</td>\n",
       "      <td>SM-10678</td>\n",
       "      <td>UI тесты по заказу \"Добро КейДжи\"</td>\n",
       "      <td>5</td>\n",
       "      <td>93</td>\n",
       "      <td>93</td>\n",
       "      <td>1800</td>\n",
       "    </tr>\n",
       "    <tr>\n",
       "      <th>1</th>\n",
       "      <td>819949</td>\n",
       "      <td>2019-10-01 05:59:45.000</td>\n",
       "      <td>SM-10679</td>\n",
       "      <td>UI тесты раздела \"Профиль\"</td>\n",
       "      <td>5</td>\n",
       "      <td>93</td>\n",
       "      <td>93</td>\n",
       "      <td>7200</td>\n",
       "    </tr>\n",
       "    <tr>\n",
       "      <th>2</th>\n",
       "      <td>819947</td>\n",
       "      <td>2019-10-01 06:00:38.000</td>\n",
       "      <td>SM-10680</td>\n",
       "      <td>UI тесты раздела \"Личный счет\"</td>\n",
       "      <td>5</td>\n",
       "      <td>93</td>\n",
       "      <td>93</td>\n",
       "      <td>14400</td>\n",
       "    </tr>\n",
       "  </tbody>\n",
       "</table>\n",
       "</div>"
      ],
      "text/plain": [
       "       id                  created       key  \\\n",
       "0  819952  2019-10-01 05:57:18.000  SM-10678   \n",
       "1  819949  2019-10-01 05:59:45.000  SM-10679   \n",
       "2  819947  2019-10-01 06:00:38.000  SM-10680   \n",
       "\n",
       "                             summary  project_id  assignee_id  creator_id  \\\n",
       "0  UI тесты по заказу \"Добро КейДжи\"           5           93          93   \n",
       "1         UI тесты раздела \"Профиль\"           5           93          93   \n",
       "2     UI тесты раздела \"Личный счет\"           5           93          93   \n",
       "\n",
       "   overall_worklogs  \n",
       "0              1800  \n",
       "1              7200  \n",
       "2             14400  "
      ]
     },
     "execution_count": 3,
     "metadata": {},
     "output_type": "execute_result"
    }
   ],
   "source": [
    "df_issues_train.head(3)"
   ]
  },
  {
   "cell_type": "markdown",
   "metadata": {},
   "source": [
    "● id - идентификатор задачи в глобальной базе данных\n",
    "● created - дата создания задачи\n",
    "● key - ключ задачи, используется для идентификации задачи внутри проекта\n",
    "● summary - описание задачи\n",
    "● project_id - идентификатор проекта, по которому выполняется задача\n",
    "● assignee_id - идентификатор сотрудника, на которого назначена задача (таблица сотрудников)\n",
    "● creator_id - идентификатор сотрудника, который создал задачу (таблица сотрудников)\n",
    "● overall_worklogs - количество времени в секундах, ушедшего на решение задачи"
   ]
  },
  {
   "cell_type": "code",
   "execution_count": 4,
   "metadata": {},
   "outputs": [],
   "source": [
    "df_issues_train['assignee_creator'] = df_issues_train['assignee_id'] == df_issues_train['creator_id']"
   ]
  },
  {
   "cell_type": "code",
   "execution_count": 5,
   "metadata": {
    "colab": {
     "base_uri": "https://localhost:8080/",
     "height": 143
    },
    "id": "fSH6jFHAkPLW",
    "outputId": "cce6b934-01bf-42e5-d4d0-bbe7af6210f6"
   },
   "outputs": [
    {
     "data": {
      "text/html": [
       "<div>\n",
       "<style scoped>\n",
       "    .dataframe tbody tr th:only-of-type {\n",
       "        vertical-align: middle;\n",
       "    }\n",
       "\n",
       "    .dataframe tbody tr th {\n",
       "        vertical-align: top;\n",
       "    }\n",
       "\n",
       "    .dataframe thead th {\n",
       "        text-align: right;\n",
       "    }\n",
       "</style>\n",
       "<table border=\"1\" class=\"dataframe\">\n",
       "  <thead>\n",
       "    <tr style=\"text-align: right;\">\n",
       "      <th></th>\n",
       "      <th>comment_id</th>\n",
       "      <th>text</th>\n",
       "      <th>issue_id</th>\n",
       "      <th>author_id</th>\n",
       "    </tr>\n",
       "  </thead>\n",
       "  <tbody>\n",
       "    <tr>\n",
       "      <th>0</th>\n",
       "      <td>11779</td>\n",
       "      <td>[https://www.youtube.com/watch?v=tuhOdtsvoNY|h...</td>\n",
       "      <td>669666</td>\n",
       "      <td>1</td>\n",
       "    </tr>\n",
       "    <tr>\n",
       "      <th>1</th>\n",
       "      <td>10601</td>\n",
       "      <td>OK [~accountid:557058:3f7ab89a-8969-4547-90df-...</td>\n",
       "      <td>669670</td>\n",
       "      <td>1</td>\n",
       "    </tr>\n",
       "    <tr>\n",
       "      <th>2</th>\n",
       "      <td>76101</td>\n",
       "      <td>I encountered a problem with access to `/users...</td>\n",
       "      <td>670930</td>\n",
       "      <td>2</td>\n",
       "    </tr>\n",
       "  </tbody>\n",
       "</table>\n",
       "</div>"
      ],
      "text/plain": [
       "   comment_id                                               text  issue_id  \\\n",
       "0       11779  [https://www.youtube.com/watch?v=tuhOdtsvoNY|h...    669666   \n",
       "1       10601  OK [~accountid:557058:3f7ab89a-8969-4547-90df-...    669670   \n",
       "2       76101  I encountered a problem with access to `/users...    670930   \n",
       "\n",
       "   author_id  \n",
       "0          1  \n",
       "1          1  \n",
       "2          2  "
      ]
     },
     "execution_count": 5,
     "metadata": {},
     "output_type": "execute_result"
    }
   ],
   "source": [
    "df_comment_train.head(3)"
   ]
  },
  {
   "cell_type": "markdown",
   "metadata": {},
   "source": [
    "● comment_id - идентификатор комментария\n",
    "● text - текст комментария\n",
    "● issue_id - идентификатор задачи (таблица задач)\n",
    "● author_id - идентификатор автора комментария (таблица сотрудники)"
   ]
  },
  {
   "cell_type": "markdown",
   "metadata": {},
   "source": [
    "### Посчитаем количество комментариев по каджой задаче"
   ]
  },
  {
   "cell_type": "code",
   "execution_count": 6,
   "metadata": {},
   "outputs": [],
   "source": [
    "def count_comments(id_task):\n",
    "    return df_comment_train[df_comment_train['issue_id'] == id_task].shape[0]"
   ]
  },
  {
   "cell_type": "code",
   "execution_count": 7,
   "metadata": {},
   "outputs": [],
   "source": [
    "df_issues_train['count_comments'] = df_issues_train['id'].apply(count_comments)"
   ]
  },
  {
   "cell_type": "code",
   "execution_count": 8,
   "metadata": {},
   "outputs": [
    {
     "data": {
      "text/html": [
       "<div>\n",
       "<style scoped>\n",
       "    .dataframe tbody tr th:only-of-type {\n",
       "        vertical-align: middle;\n",
       "    }\n",
       "\n",
       "    .dataframe tbody tr th {\n",
       "        vertical-align: top;\n",
       "    }\n",
       "\n",
       "    .dataframe thead th {\n",
       "        text-align: right;\n",
       "    }\n",
       "</style>\n",
       "<table border=\"1\" class=\"dataframe\">\n",
       "  <thead>\n",
       "    <tr style=\"text-align: right;\">\n",
       "      <th></th>\n",
       "      <th>id</th>\n",
       "      <th>created</th>\n",
       "      <th>key</th>\n",
       "      <th>summary</th>\n",
       "      <th>project_id</th>\n",
       "      <th>assignee_id</th>\n",
       "      <th>creator_id</th>\n",
       "      <th>overall_worklogs</th>\n",
       "      <th>assignee_creator</th>\n",
       "      <th>count_comments</th>\n",
       "    </tr>\n",
       "  </thead>\n",
       "  <tbody>\n",
       "    <tr>\n",
       "      <th>0</th>\n",
       "      <td>819952</td>\n",
       "      <td>2019-10-01 05:57:18.000</td>\n",
       "      <td>SM-10678</td>\n",
       "      <td>UI тесты по заказу \"Добро КейДжи\"</td>\n",
       "      <td>5</td>\n",
       "      <td>93</td>\n",
       "      <td>93</td>\n",
       "      <td>1800</td>\n",
       "      <td>True</td>\n",
       "      <td>0</td>\n",
       "    </tr>\n",
       "    <tr>\n",
       "      <th>1</th>\n",
       "      <td>819949</td>\n",
       "      <td>2019-10-01 05:59:45.000</td>\n",
       "      <td>SM-10679</td>\n",
       "      <td>UI тесты раздела \"Профиль\"</td>\n",
       "      <td>5</td>\n",
       "      <td>93</td>\n",
       "      <td>93</td>\n",
       "      <td>7200</td>\n",
       "      <td>True</td>\n",
       "      <td>1</td>\n",
       "    </tr>\n",
       "    <tr>\n",
       "      <th>2</th>\n",
       "      <td>819947</td>\n",
       "      <td>2019-10-01 06:00:38.000</td>\n",
       "      <td>SM-10680</td>\n",
       "      <td>UI тесты раздела \"Личный счет\"</td>\n",
       "      <td>5</td>\n",
       "      <td>93</td>\n",
       "      <td>93</td>\n",
       "      <td>14400</td>\n",
       "      <td>True</td>\n",
       "      <td>0</td>\n",
       "    </tr>\n",
       "  </tbody>\n",
       "</table>\n",
       "</div>"
      ],
      "text/plain": [
       "       id                  created       key  \\\n",
       "0  819952  2019-10-01 05:57:18.000  SM-10678   \n",
       "1  819949  2019-10-01 05:59:45.000  SM-10679   \n",
       "2  819947  2019-10-01 06:00:38.000  SM-10680   \n",
       "\n",
       "                             summary  project_id  assignee_id  creator_id  \\\n",
       "0  UI тесты по заказу \"Добро КейДжи\"           5           93          93   \n",
       "1         UI тесты раздела \"Профиль\"           5           93          93   \n",
       "2     UI тесты раздела \"Личный счет\"           5           93          93   \n",
       "\n",
       "   overall_worklogs  assignee_creator  count_comments  \n",
       "0              1800              True               0  \n",
       "1              7200              True               1  \n",
       "2             14400              True               0  "
      ]
     },
     "execution_count": 8,
     "metadata": {},
     "output_type": "execute_result"
    }
   ],
   "source": [
    "df_issues_train.head(3)"
   ]
  },
  {
   "cell_type": "markdown",
   "metadata": {
    "id": "252IKD-t4a1F"
   },
   "source": [
    "### Преобразование столбцов"
   ]
  },
  {
   "cell_type": "markdown",
   "metadata": {
    "id": "TFyPQqTAm6_q"
   },
   "source": [
    "Сделаем два столбца - день и месяц создания задачи"
   ]
  },
  {
   "cell_type": "code",
   "execution_count": 9,
   "metadata": {
    "id": "wCYjC2L7li70"
   },
   "outputs": [],
   "source": [
    "df_issues_train[\"mounth\"] = df_issues_train.created.map(lambda x : int(x.split(\"-\")[1]))\n",
    "df_issues_train[\"day\"] = df_issues_train.created.map(lambda x : int(x.split(\"-\")[2].split()[0]))"
   ]
  },
  {
   "cell_type": "markdown",
   "metadata": {},
   "source": [
    "### DataSet employees"
   ]
  },
  {
   "cell_type": "code",
   "execution_count": 10,
   "metadata": {},
   "outputs": [
    {
     "data": {
      "text/html": [
       "<div>\n",
       "<style scoped>\n",
       "    .dataframe tbody tr th:only-of-type {\n",
       "        vertical-align: middle;\n",
       "    }\n",
       "\n",
       "    .dataframe tbody tr th {\n",
       "        vertical-align: top;\n",
       "    }\n",
       "\n",
       "    .dataframe thead th {\n",
       "        text-align: right;\n",
       "    }\n",
       "</style>\n",
       "<table border=\"1\" class=\"dataframe\">\n",
       "  <thead>\n",
       "    <tr style=\"text-align: right;\">\n",
       "      <th></th>\n",
       "      <th>id</th>\n",
       "      <th>active</th>\n",
       "      <th>full_name</th>\n",
       "      <th>position</th>\n",
       "      <th>hiring_type</th>\n",
       "      <th>payment_type</th>\n",
       "      <th>salary_calculation_type</th>\n",
       "      <th>english_level</th>\n",
       "      <th>passport</th>\n",
       "      <th>is_nda_signed</th>\n",
       "      <th>is_labor_contract_signed</th>\n",
       "      <th>is_added_to_internal_chats</th>\n",
       "      <th>is_added_one_to_one</th>\n",
       "    </tr>\n",
       "  </thead>\n",
       "  <tbody>\n",
       "    <tr>\n",
       "      <th>0</th>\n",
       "      <td>1</td>\n",
       "      <td>1</td>\n",
       "      <td>David Courtney</td>\n",
       "      <td>NaN</td>\n",
       "      <td>NaN</td>\n",
       "      <td>NaN</td>\n",
       "      <td>NaN</td>\n",
       "      <td>NaN</td>\n",
       "      <td>0</td>\n",
       "      <td>0</td>\n",
       "      <td>0</td>\n",
       "      <td>0</td>\n",
       "      <td>0</td>\n",
       "    </tr>\n",
       "    <tr>\n",
       "      <th>1</th>\n",
       "      <td>2</td>\n",
       "      <td>0</td>\n",
       "      <td>Dan Guerra</td>\n",
       "      <td>Web-разработчик</td>\n",
       "      <td>staff</td>\n",
       "      <td>fixed</td>\n",
       "      <td>NaN</td>\n",
       "      <td>NaN</td>\n",
       "      <td>0</td>\n",
       "      <td>0</td>\n",
       "      <td>0</td>\n",
       "      <td>0</td>\n",
       "      <td>0</td>\n",
       "    </tr>\n",
       "    <tr>\n",
       "      <th>2</th>\n",
       "      <td>4</td>\n",
       "      <td>0</td>\n",
       "      <td>Grady Smith</td>\n",
       "      <td>Web-разработчик</td>\n",
       "      <td>staff</td>\n",
       "      <td>fixed</td>\n",
       "      <td>NaN</td>\n",
       "      <td>NaN</td>\n",
       "      <td>0</td>\n",
       "      <td>0</td>\n",
       "      <td>0</td>\n",
       "      <td>0</td>\n",
       "      <td>0</td>\n",
       "    </tr>\n",
       "  </tbody>\n",
       "</table>\n",
       "</div>"
      ],
      "text/plain": [
       "   id  active       full_name         position hiring_type payment_type  \\\n",
       "0   1       1  David Courtney              NaN         NaN          NaN   \n",
       "1   2       0      Dan Guerra  Web-разработчик       staff        fixed   \n",
       "2   4       0     Grady Smith  Web-разработчик       staff        fixed   \n",
       "\n",
       "  salary_calculation_type english_level  passport  is_nda_signed  \\\n",
       "0                     NaN           NaN         0              0   \n",
       "1                     NaN           NaN         0              0   \n",
       "2                     NaN           NaN         0              0   \n",
       "\n",
       "   is_labor_contract_signed  is_added_to_internal_chats  is_added_one_to_one  \n",
       "0                         0                           0                    0  \n",
       "1                         0                           0                    0  \n",
       "2                         0                           0                    0  "
      ]
     },
     "execution_count": 10,
     "metadata": {},
     "output_type": "execute_result"
    }
   ],
   "source": [
    "df_emp.head(3)"
   ]
  },
  {
   "cell_type": "markdown",
   "metadata": {
    "id": "Tmem_XGjpCUB"
   },
   "source": [
    "Удалим ненужную информацию о работниках"
   ]
  },
  {
   "cell_type": "code",
   "execution_count": 11,
   "metadata": {
    "colab": {
     "base_uri": "https://localhost:8080/",
     "height": 320
    },
    "id": "VgA_dOO4pBrU",
    "outputId": "f21a16ed-216a-4d9c-af7e-db8806d3e12d"
   },
   "outputs": [],
   "source": [
    "df_emp = df_emp.drop([\"active\",\"full_name\", \"salary_calculation_type\", \"passport\"],axis = 1)"
   ]
  },
  {
   "cell_type": "markdown",
   "metadata": {
    "id": "SPzAUHGmpKSY"
   },
   "source": [
    "Обьединим два набора данных по id исполнителя"
   ]
  },
  {
   "cell_type": "code",
   "execution_count": 12,
   "metadata": {
    "id": "quZc_K-nmmLP"
   },
   "outputs": [],
   "source": [
    "df_train = pd.merge(df_issues_train, df_emp, left_on=\"assignee_id\", right_on=\"id\", how='inner')"
   ]
  },
  {
   "cell_type": "code",
   "execution_count": 13,
   "metadata": {
    "colab": {
     "base_uri": "https://localhost:8080/"
    },
    "id": "WgD82ZQRmYli",
    "outputId": "c14b176e-08ef-4018-c352-14ff45ae4de9"
   },
   "outputs": [
    {
     "data": {
      "text/plain": [
       "(9589, 21)"
      ]
     },
     "execution_count": 13,
     "metadata": {},
     "output_type": "execute_result"
    }
   ],
   "source": [
    "df_train.shape"
   ]
  },
  {
   "cell_type": "code",
   "execution_count": 14,
   "metadata": {},
   "outputs": [
    {
     "data": {
      "text/plain": [
       "Index(['id_x', 'created', 'key', 'summary', 'project_id', 'assignee_id',\n",
       "       'creator_id', 'overall_worklogs', 'assignee_creator', 'count_comments',\n",
       "       'mounth', 'day', 'id_y', 'position', 'hiring_type', 'payment_type',\n",
       "       'english_level', 'is_nda_signed', 'is_labor_contract_signed',\n",
       "       'is_added_to_internal_chats', 'is_added_one_to_one'],\n",
       "      dtype='object')"
      ]
     },
     "execution_count": 14,
     "metadata": {},
     "output_type": "execute_result"
    }
   ],
   "source": [
    "df_train.columns"
   ]
  },
  {
   "cell_type": "code",
   "execution_count": 15,
   "metadata": {},
   "outputs": [
    {
     "data": {
      "text/plain": [
       "count      7630\n",
       "unique        2\n",
       "top       staff\n",
       "freq       7005\n",
       "Name: hiring_type, dtype: object"
      ]
     },
     "execution_count": 15,
     "metadata": {},
     "output_type": "execute_result"
    }
   ],
   "source": [
    "df_train['hiring_type'].describe()"
   ]
  },
  {
   "cell_type": "code",
   "execution_count": 16,
   "metadata": {},
   "outputs": [
    {
     "data": {
      "text/plain": [
       "count      7529\n",
       "unique        2\n",
       "top       fixed\n",
       "freq       5765\n",
       "Name: payment_type, dtype: object"
      ]
     },
     "execution_count": 16,
     "metadata": {},
     "output_type": "execute_result"
    }
   ],
   "source": [
    "df_train['payment_type'].describe()"
   ]
  },
  {
   "cell_type": "code",
   "execution_count": 17,
   "metadata": {
    "id": "xYW7B_k9pxYf"
   },
   "outputs": [],
   "source": [
    "df_train = df_train.fillna(0)"
   ]
  },
  {
   "cell_type": "markdown",
   "metadata": {},
   "source": [
    "Дубликаты"
   ]
  },
  {
   "cell_type": "code",
   "execution_count": 18,
   "metadata": {},
   "outputs": [
    {
     "data": {
      "text/plain": [
       "(0, 21)"
      ]
     },
     "execution_count": 18,
     "metadata": {},
     "output_type": "execute_result"
    }
   ],
   "source": [
    "df_train[df_train.duplicated()].shape"
   ]
  },
  {
   "cell_type": "markdown",
   "metadata": {
    "id": "Xgt7u1YjpoH_"
   },
   "source": [
    " Создадим список всех нечисловых лейблов и взглянем на них"
   ]
  },
  {
   "cell_type": "code",
   "execution_count": 19,
   "metadata": {
    "id": "47FgbuwSnlJN"
   },
   "outputs": [],
   "source": [
    "mass_object = df_train.dtypes[df_train.dtypes == \"object\"].index.values"
   ]
  },
  {
   "cell_type": "code",
   "execution_count": 20,
   "metadata": {
    "colab": {
     "base_uri": "https://localhost:8080/",
     "height": 239
    },
    "id": "bZfw7897ozpR",
    "outputId": "426d5899-e0b7-4346-d84f-322b1bd51ca7"
   },
   "outputs": [
    {
     "data": {
      "text/html": [
       "<div>\n",
       "<style scoped>\n",
       "    .dataframe tbody tr th:only-of-type {\n",
       "        vertical-align: middle;\n",
       "    }\n",
       "\n",
       "    .dataframe tbody tr th {\n",
       "        vertical-align: top;\n",
       "    }\n",
       "\n",
       "    .dataframe thead th {\n",
       "        text-align: right;\n",
       "    }\n",
       "</style>\n",
       "<table border=\"1\" class=\"dataframe\">\n",
       "  <thead>\n",
       "    <tr style=\"text-align: right;\">\n",
       "      <th></th>\n",
       "      <th>created</th>\n",
       "      <th>key</th>\n",
       "      <th>summary</th>\n",
       "      <th>position</th>\n",
       "      <th>hiring_type</th>\n",
       "      <th>payment_type</th>\n",
       "      <th>english_level</th>\n",
       "    </tr>\n",
       "  </thead>\n",
       "  <tbody>\n",
       "    <tr>\n",
       "      <th>0</th>\n",
       "      <td>2019-10-01 05:57:18.000</td>\n",
       "      <td>SM-10678</td>\n",
       "      <td>UI тесты по заказу \"Добро КейДжи\"</td>\n",
       "      <td>Разработчик мобильных приложений</td>\n",
       "      <td>staff</td>\n",
       "      <td>fixed</td>\n",
       "      <td>0</td>\n",
       "    </tr>\n",
       "    <tr>\n",
       "      <th>1</th>\n",
       "      <td>2019-10-01 05:59:45.000</td>\n",
       "      <td>SM-10679</td>\n",
       "      <td>UI тесты раздела \"Профиль\"</td>\n",
       "      <td>Разработчик мобильных приложений</td>\n",
       "      <td>staff</td>\n",
       "      <td>fixed</td>\n",
       "      <td>0</td>\n",
       "    </tr>\n",
       "    <tr>\n",
       "      <th>2</th>\n",
       "      <td>2019-10-01 06:00:38.000</td>\n",
       "      <td>SM-10680</td>\n",
       "      <td>UI тесты раздела \"Личный счет\"</td>\n",
       "      <td>Разработчик мобильных приложений</td>\n",
       "      <td>staff</td>\n",
       "      <td>fixed</td>\n",
       "      <td>0</td>\n",
       "    </tr>\n",
       "  </tbody>\n",
       "</table>\n",
       "</div>"
      ],
      "text/plain": [
       "                   created       key                            summary  \\\n",
       "0  2019-10-01 05:57:18.000  SM-10678  UI тесты по заказу \"Добро КейДжи\"   \n",
       "1  2019-10-01 05:59:45.000  SM-10679         UI тесты раздела \"Профиль\"   \n",
       "2  2019-10-01 06:00:38.000  SM-10680     UI тесты раздела \"Личный счет\"   \n",
       "\n",
       "                           position hiring_type payment_type english_level  \n",
       "0  Разработчик мобильных приложений       staff        fixed             0  \n",
       "1  Разработчик мобильных приложений       staff        fixed             0  \n",
       "2  Разработчик мобильных приложений       staff        fixed             0  "
      ]
     },
     "execution_count": 20,
     "metadata": {},
     "output_type": "execute_result"
    }
   ],
   "source": [
    "df_train[mass_object].head(3)"
   ]
  },
  {
   "cell_type": "markdown",
   "metadata": {
    "id": "h3iGFCySqMNe"
   },
   "source": [
    "Взглянем на них поближе"
   ]
  },
  {
   "cell_type": "code",
   "execution_count": 21,
   "metadata": {
    "colab": {
     "base_uri": "https://localhost:8080/"
    },
    "id": "st_P3duRpwuQ",
    "outputId": "820c75d0-c01d-4a05-e229-7c7f92e6b426"
   },
   "outputs": [
    {
     "data": {
      "text/plain": [
       "staff        7005\n",
       "0            1959\n",
       "non_staff     625\n",
       "Name: hiring_type, dtype: int64"
      ]
     },
     "execution_count": 21,
     "metadata": {},
     "output_type": "execute_result"
    }
   ],
   "source": [
    "df_train.hiring_type.value_counts()"
   ]
  },
  {
   "cell_type": "code",
   "execution_count": 22,
   "metadata": {
    "colab": {
     "base_uri": "https://localhost:8080/"
    },
    "id": "D7Lf14L7psdS",
    "outputId": "3cfa9d26-c485-4709-af5f-225065adc013"
   },
   "outputs": [
    {
     "data": {
      "text/plain": [
       "fixed     5765\n",
       "0         2060\n",
       "hourly    1764\n",
       "Name: payment_type, dtype: int64"
      ]
     },
     "execution_count": 22,
     "metadata": {},
     "output_type": "execute_result"
    }
   ],
   "source": [
    "df_train.payment_type.value_counts()"
   ]
  },
  {
   "cell_type": "code",
   "execution_count": 23,
   "metadata": {
    "colab": {
     "base_uri": "https://localhost:8080/"
    },
    "id": "3HoVqTxeqBMj",
    "outputId": "13b8121d-a878-4694-9e9f-c4300b33e611"
   },
   "outputs": [
    {
     "data": {
      "text/plain": [
       "0     9055\n",
       "B1     358\n",
       "C1     176\n",
       "Name: english_level, dtype: int64"
      ]
     },
     "execution_count": 23,
     "metadata": {},
     "output_type": "execute_result"
    }
   ],
   "source": [
    "df_train.english_level.value_counts()"
   ]
  },
  {
   "cell_type": "markdown",
   "metadata": {
    "id": "N4YVfB7yq2eh"
   },
   "source": [
    "Сменим им тип данных"
   ]
  },
  {
   "cell_type": "code",
   "execution_count": 24,
   "metadata": {
    "id": "7ea7SamJqJv6"
   },
   "outputs": [],
   "source": [
    "df_train[\"payment_type\"] = pd.Categorical(df_train[\"payment_type\"])\n",
    "df_train[\"payment_type\"].astype('category').cat.codes\n",
    "df_train[\"payment_type\"] = df_train[\"payment_type\"].cat.codes"
   ]
  },
  {
   "cell_type": "code",
   "execution_count": 25,
   "metadata": {
    "id": "vyl7vklEqtyS"
   },
   "outputs": [],
   "source": [
    "df_train[\"hiring_type\"] = pd.Categorical(df_train[\"hiring_type\"])\n",
    "df_train[\"hiring_type\"].astype('category').cat.codes\n",
    "df_train[\"hiring_type\"] = df_train[\"hiring_type\"].cat.codes"
   ]
  },
  {
   "cell_type": "code",
   "execution_count": 26,
   "metadata": {
    "id": "c2GS8Ad5q0mh"
   },
   "outputs": [],
   "source": [
    "df_train[\"english_level\"] = pd.Categorical(df_train[\"english_level\"])\n",
    "df_train[\"english_level\"].astype('category').cat.codes\n",
    "df_train[\"english_level\"] = df_train[\"english_level\"].cat.codes"
   ]
  },
  {
   "cell_type": "code",
   "execution_count": 27,
   "metadata": {},
   "outputs": [
    {
     "data": {
      "text/plain": [
       "count    9.589000e+03\n",
       "mean     1.724369e+04\n",
       "std      9.864197e+04\n",
       "min      6.000000e+01\n",
       "25%      3.000000e+03\n",
       "50%      7.200000e+03\n",
       "75%      1.470000e+04\n",
       "max      7.014000e+06\n",
       "Name: overall_worklogs, dtype: float64"
      ]
     },
     "execution_count": 27,
     "metadata": {},
     "output_type": "execute_result"
    }
   ],
   "source": [
    "df_train['overall_worklogs'].describe()"
   ]
  },
  {
   "cell_type": "code",
   "execution_count": 28,
   "metadata": {},
   "outputs": [
    {
     "data": {
      "text/plain": [
       "<matplotlib.axes._subplots.AxesSubplot at 0x20169998308>"
      ]
     },
     "execution_count": 28,
     "metadata": {},
     "output_type": "execute_result"
    },
    {
     "data": {
      "image/png": "[encoded data removed]",
      "text/plain": [
       "<Figure size 432x288 with 1 Axes>"
      ]
     },
     "metadata": {
      "needs_background": "light"
     },
     "output_type": "display_data"
    }
   ],
   "source": [
    "df_train['overall_worklogs'].plot.kde()"
   ]
  },
  {
   "cell_type": "code",
   "execution_count": 29,
   "metadata": {},
   "outputs": [
    {
     "data": {
      "text/plain": [
       "<matplotlib.axes._subplots.AxesSubplot at 0x20169a51f88>"
      ]
     },
     "execution_count": 29,
     "metadata": {},
     "output_type": "execute_result"
    },
    {
     "data": {
      "image/png": "[encoded data removed]",
      "text/plain": [
       "<Figure size 432x288 with 1 Axes>"
      ]
     },
     "metadata": {
      "needs_background": "light"
     },
     "output_type": "display_data"
    }
   ],
   "source": [
    "np.log(df_train['overall_worklogs']).plot.kde()"
   ]
  },
  {
   "cell_type": "code",
   "execution_count": 30,
   "metadata": {},
   "outputs": [],
   "source": [
    "df_train.loc[(df_train['overall_worklogs'] > 7000000), 'overall_worklogs'] = 4000000"
   ]
  },
  {
   "cell_type": "code",
   "execution_count": 31,
   "metadata": {},
   "outputs": [
    {
     "data": {
      "text/html": [
       "<div>\n",
       "<style scoped>\n",
       "    .dataframe tbody tr th:only-of-type {\n",
       "        vertical-align: middle;\n",
       "    }\n",
       "\n",
       "    .dataframe tbody tr th {\n",
       "        vertical-align: top;\n",
       "    }\n",
       "\n",
       "    .dataframe thead th {\n",
       "        text-align: right;\n",
       "    }\n",
       "</style>\n",
       "<table border=\"1\" class=\"dataframe\">\n",
       "  <thead>\n",
       "    <tr style=\"text-align: right;\">\n",
       "      <th></th>\n",
       "      <th>id_x</th>\n",
       "      <th>created</th>\n",
       "      <th>key</th>\n",
       "      <th>summary</th>\n",
       "      <th>project_id</th>\n",
       "      <th>assignee_id</th>\n",
       "      <th>creator_id</th>\n",
       "      <th>overall_worklogs</th>\n",
       "      <th>assignee_creator</th>\n",
       "      <th>count_comments</th>\n",
       "      <th>...</th>\n",
       "      <th>day</th>\n",
       "      <th>id_y</th>\n",
       "      <th>position</th>\n",
       "      <th>hiring_type</th>\n",
       "      <th>payment_type</th>\n",
       "      <th>english_level</th>\n",
       "      <th>is_nda_signed</th>\n",
       "      <th>is_labor_contract_signed</th>\n",
       "      <th>is_added_to_internal_chats</th>\n",
       "      <th>is_added_one_to_one</th>\n",
       "    </tr>\n",
       "  </thead>\n",
       "  <tbody>\n",
       "    <tr>\n",
       "      <th>0</th>\n",
       "      <td>819952</td>\n",
       "      <td>2019-10-01 05:57:18.000</td>\n",
       "      <td>SM-10678</td>\n",
       "      <td>UI тесты по заказу \"Добро КейДжи\"</td>\n",
       "      <td>5</td>\n",
       "      <td>93</td>\n",
       "      <td>93</td>\n",
       "      <td>1800</td>\n",
       "      <td>True</td>\n",
       "      <td>0</td>\n",
       "      <td>...</td>\n",
       "      <td>1</td>\n",
       "      <td>93</td>\n",
       "      <td>Разработчик мобильных приложений</td>\n",
       "      <td>2</td>\n",
       "      <td>1</td>\n",
       "      <td>0</td>\n",
       "      <td>1</td>\n",
       "      <td>1</td>\n",
       "      <td>1</td>\n",
       "      <td>1</td>\n",
       "    </tr>\n",
       "    <tr>\n",
       "      <th>1</th>\n",
       "      <td>819949</td>\n",
       "      <td>2019-10-01 05:59:45.000</td>\n",
       "      <td>SM-10679</td>\n",
       "      <td>UI тесты раздела \"Профиль\"</td>\n",
       "      <td>5</td>\n",
       "      <td>93</td>\n",
       "      <td>93</td>\n",
       "      <td>7200</td>\n",
       "      <td>True</td>\n",
       "      <td>1</td>\n",
       "      <td>...</td>\n",
       "      <td>1</td>\n",
       "      <td>93</td>\n",
       "      <td>Разработчик мобильных приложений</td>\n",
       "      <td>2</td>\n",
       "      <td>1</td>\n",
       "      <td>0</td>\n",
       "      <td>1</td>\n",
       "      <td>1</td>\n",
       "      <td>1</td>\n",
       "      <td>1</td>\n",
       "    </tr>\n",
       "    <tr>\n",
       "      <th>2</th>\n",
       "      <td>819947</td>\n",
       "      <td>2019-10-01 06:00:38.000</td>\n",
       "      <td>SM-10680</td>\n",
       "      <td>UI тесты раздела \"Личный счет\"</td>\n",
       "      <td>5</td>\n",
       "      <td>93</td>\n",
       "      <td>93</td>\n",
       "      <td>14400</td>\n",
       "      <td>True</td>\n",
       "      <td>0</td>\n",
       "      <td>...</td>\n",
       "      <td>1</td>\n",
       "      <td>93</td>\n",
       "      <td>Разработчик мобильных приложений</td>\n",
       "      <td>2</td>\n",
       "      <td>1</td>\n",
       "      <td>0</td>\n",
       "      <td>1</td>\n",
       "      <td>1</td>\n",
       "      <td>1</td>\n",
       "      <td>1</td>\n",
       "    </tr>\n",
       "  </tbody>\n",
       "</table>\n",
       "<p>3 rows × 21 columns</p>\n",
       "</div>"
      ],
      "text/plain": [
       "     id_x                  created       key  \\\n",
       "0  819952  2019-10-01 05:57:18.000  SM-10678   \n",
       "1  819949  2019-10-01 05:59:45.000  SM-10679   \n",
       "2  819947  2019-10-01 06:00:38.000  SM-10680   \n",
       "\n",
       "                             summary  project_id  assignee_id  creator_id  \\\n",
       "0  UI тесты по заказу \"Добро КейДжи\"           5           93          93   \n",
       "1         UI тесты раздела \"Профиль\"           5           93          93   \n",
       "2     UI тесты раздела \"Личный счет\"           5           93          93   \n",
       "\n",
       "   overall_worklogs  assignee_creator  count_comments  ...  day  id_y  \\\n",
       "0              1800              True               0  ...    1    93   \n",
       "1              7200              True               1  ...    1    93   \n",
       "2             14400              True               0  ...    1    93   \n",
       "\n",
       "                           position hiring_type  payment_type  english_level  \\\n",
       "0  Разработчик мобильных приложений           2             1              0   \n",
       "1  Разработчик мобильных приложений           2             1              0   \n",
       "2  Разработчик мобильных приложений           2             1              0   \n",
       "\n",
       "   is_nda_signed  is_labor_contract_signed  is_added_to_internal_chats  \\\n",
       "0              1                         1                           1   \n",
       "1              1                         1                           1   \n",
       "2              1                         1                           1   \n",
       "\n",
       "   is_added_one_to_one  \n",
       "0                    1  \n",
       "1                    1  \n",
       "2                    1  \n",
       "\n",
       "[3 rows x 21 columns]"
      ]
     },
     "execution_count": 31,
     "metadata": {},
     "output_type": "execute_result"
    }
   ],
   "source": [
    "df_train.head(3)"
   ]
  },
  {
   "cell_type": "markdown",
   "metadata": {
    "id": "VLOa56f5zfUg"
   },
   "source": [
    "## Выделим выборки"
   ]
  },
  {
   "cell_type": "markdown",
   "metadata": {
    "id": "845Wf3zJ1dhc"
   },
   "source": [
    "Удалим все лишние столбцы из выборки"
   ]
  },
  {
   "cell_type": "code",
   "execution_count": 32,
   "metadata": {
    "id": "4iEbKu75_WS5"
   },
   "outputs": [],
   "source": [
    "mass_object = df_train.dtypes[df_train.dtypes == \"object\"].index.values"
   ]
  },
  {
   "cell_type": "code",
   "execution_count": 33,
   "metadata": {
    "id": "EdTqs5ixsOkp"
   },
   "outputs": [],
   "source": [
    "stuff = [\"id_x\",\"id_y\",\"overall_worklogs\", 'is_labor_contract_signed', 'is_nda_signed', \n",
    "         'is_added_to_internal_chats']\n",
    "\n",
    "mass_object = np.append(mass_object, stuff)"
   ]
  },
  {
   "cell_type": "code",
   "execution_count": 34,
   "metadata": {
    "id": "czsoZexkyyTw"
   },
   "outputs": [],
   "source": [
    "X = df_train.drop(mass_object, axis = 1)\n",
    "y = df_train[[\"overall_worklogs\"]]"
   ]
  },
  {
   "cell_type": "code",
   "execution_count": 35,
   "metadata": {
    "colab": {
     "base_uri": "https://localhost:8080/",
     "height": 207
    },
    "id": "8vDLwzjg_Zci",
    "outputId": "d46c9b23-c7f7-4a15-bfbf-7eedf600a00f"
   },
   "outputs": [
    {
     "data": {
      "text/html": [
       "<div>\n",
       "<style scoped>\n",
       "    .dataframe tbody tr th:only-of-type {\n",
       "        vertical-align: middle;\n",
       "    }\n",
       "\n",
       "    .dataframe tbody tr th {\n",
       "        vertical-align: top;\n",
       "    }\n",
       "\n",
       "    .dataframe thead th {\n",
       "        text-align: right;\n",
       "    }\n",
       "</style>\n",
       "<table border=\"1\" class=\"dataframe\">\n",
       "  <thead>\n",
       "    <tr style=\"text-align: right;\">\n",
       "      <th></th>\n",
       "      <th>project_id</th>\n",
       "      <th>assignee_id</th>\n",
       "      <th>creator_id</th>\n",
       "      <th>assignee_creator</th>\n",
       "      <th>count_comments</th>\n",
       "      <th>mounth</th>\n",
       "      <th>day</th>\n",
       "      <th>hiring_type</th>\n",
       "      <th>payment_type</th>\n",
       "      <th>english_level</th>\n",
       "      <th>is_added_one_to_one</th>\n",
       "    </tr>\n",
       "  </thead>\n",
       "  <tbody>\n",
       "    <tr>\n",
       "      <th>0</th>\n",
       "      <td>5</td>\n",
       "      <td>93</td>\n",
       "      <td>93</td>\n",
       "      <td>True</td>\n",
       "      <td>0</td>\n",
       "      <td>10</td>\n",
       "      <td>1</td>\n",
       "      <td>2</td>\n",
       "      <td>1</td>\n",
       "      <td>0</td>\n",
       "      <td>1</td>\n",
       "    </tr>\n",
       "    <tr>\n",
       "      <th>1</th>\n",
       "      <td>5</td>\n",
       "      <td>93</td>\n",
       "      <td>93</td>\n",
       "      <td>True</td>\n",
       "      <td>1</td>\n",
       "      <td>10</td>\n",
       "      <td>1</td>\n",
       "      <td>2</td>\n",
       "      <td>1</td>\n",
       "      <td>0</td>\n",
       "      <td>1</td>\n",
       "    </tr>\n",
       "    <tr>\n",
       "      <th>2</th>\n",
       "      <td>5</td>\n",
       "      <td>93</td>\n",
       "      <td>93</td>\n",
       "      <td>True</td>\n",
       "      <td>0</td>\n",
       "      <td>10</td>\n",
       "      <td>1</td>\n",
       "      <td>2</td>\n",
       "      <td>1</td>\n",
       "      <td>0</td>\n",
       "      <td>1</td>\n",
       "    </tr>\n",
       "  </tbody>\n",
       "</table>\n",
       "</div>"
      ],
      "text/plain": [
       "   project_id  assignee_id  creator_id  assignee_creator  count_comments  \\\n",
       "0           5           93          93              True               0   \n",
       "1           5           93          93              True               1   \n",
       "2           5           93          93              True               0   \n",
       "\n",
       "   mounth  day  hiring_type  payment_type  english_level  is_added_one_to_one  \n",
       "0      10    1            2             1              0                    1  \n",
       "1      10    1            2             1              0                    1  \n",
       "2      10    1            2             1              0                    1  "
      ]
     },
     "execution_count": 35,
     "metadata": {},
     "output_type": "execute_result"
    }
   ],
   "source": [
    "X.head(3)"
   ]
  },
  {
   "cell_type": "code",
   "execution_count": 36,
   "metadata": {
    "colab": {
     "base_uri": "https://localhost:8080/"
    },
    "id": "BSNwra3e07wI",
    "outputId": "33e4c07a-b3cf-48f4-b6e3-7a6ab0c0276b"
   },
   "outputs": [
    {
     "data": {
      "text/plain": [
       "(9589, 11)"
      ]
     },
     "execution_count": 36,
     "metadata": {},
     "output_type": "execute_result"
    }
   ],
   "source": [
    "X.shape"
   ]
  },
  {
   "cell_type": "code",
   "execution_count": 37,
   "metadata": {
    "id": "E-LfoARf2WGZ"
   },
   "outputs": [],
   "source": [
    "X_train, X_test, y_train, y_test = train_test_split(X, y, test_size=0.3, random_state=42)"
   ]
  },
  {
   "cell_type": "markdown",
   "metadata": {
    "id": "60NotS9ehbO5"
   },
   "source": [
    "## Обучение модели"
   ]
  },
  {
   "cell_type": "code",
   "execution_count": 38,
   "metadata": {},
   "outputs": [],
   "source": [
    "y_train = np.log(y_train)"
   ]
  },
  {
   "cell_type": "code",
   "execution_count": 39,
   "metadata": {},
   "outputs": [
    {
     "data": {
      "text/html": [
       "<div>\n",
       "<style scoped>\n",
       "    .dataframe tbody tr th:only-of-type {\n",
       "        vertical-align: middle;\n",
       "    }\n",
       "\n",
       "    .dataframe tbody tr th {\n",
       "        vertical-align: top;\n",
       "    }\n",
       "\n",
       "    .dataframe thead th {\n",
       "        text-align: right;\n",
       "    }\n",
       "</style>\n",
       "<table border=\"1\" class=\"dataframe\">\n",
       "  <thead>\n",
       "    <tr style=\"text-align: right;\">\n",
       "      <th></th>\n",
       "      <th>project_id</th>\n",
       "      <th>assignee_id</th>\n",
       "      <th>creator_id</th>\n",
       "      <th>assignee_creator</th>\n",
       "      <th>count_comments</th>\n",
       "      <th>mounth</th>\n",
       "      <th>day</th>\n",
       "      <th>hiring_type</th>\n",
       "      <th>payment_type</th>\n",
       "      <th>english_level</th>\n",
       "      <th>is_added_one_to_one</th>\n",
       "    </tr>\n",
       "  </thead>\n",
       "  <tbody>\n",
       "    <tr>\n",
       "      <th>8072</th>\n",
       "      <td>13</td>\n",
       "      <td>191</td>\n",
       "      <td>191</td>\n",
       "      <td>True</td>\n",
       "      <td>0</td>\n",
       "      <td>6</td>\n",
       "      <td>3</td>\n",
       "      <td>2</td>\n",
       "      <td>2</td>\n",
       "      <td>2</td>\n",
       "      <td>1</td>\n",
       "    </tr>\n",
       "    <tr>\n",
       "      <th>8223</th>\n",
       "      <td>13</td>\n",
       "      <td>191</td>\n",
       "      <td>191</td>\n",
       "      <td>True</td>\n",
       "      <td>0</td>\n",
       "      <td>10</td>\n",
       "      <td>23</td>\n",
       "      <td>2</td>\n",
       "      <td>2</td>\n",
       "      <td>2</td>\n",
       "      <td>1</td>\n",
       "    </tr>\n",
       "    <tr>\n",
       "      <th>2333</th>\n",
       "      <td>29</td>\n",
       "      <td>291</td>\n",
       "      <td>193</td>\n",
       "      <td>False</td>\n",
       "      <td>0</td>\n",
       "      <td>12</td>\n",
       "      <td>4</td>\n",
       "      <td>2</td>\n",
       "      <td>1</td>\n",
       "      <td>0</td>\n",
       "      <td>1</td>\n",
       "    </tr>\n",
       "  </tbody>\n",
       "</table>\n",
       "</div>"
      ],
      "text/plain": [
       "      project_id  assignee_id  creator_id  assignee_creator  count_comments  \\\n",
       "8072          13          191         191              True               0   \n",
       "8223          13          191         191              True               0   \n",
       "2333          29          291         193             False               0   \n",
       "\n",
       "      mounth  day  hiring_type  payment_type  english_level  \\\n",
       "8072       6    3            2             2              2   \n",
       "8223      10   23            2             2              2   \n",
       "2333      12    4            2             1              0   \n",
       "\n",
       "      is_added_one_to_one  \n",
       "8072                    1  \n",
       "8223                    1  \n",
       "2333                    1  "
      ]
     },
     "execution_count": 39,
     "metadata": {},
     "output_type": "execute_result"
    }
   ],
   "source": [
    "X_train.head(3)"
   ]
  },
  {
   "cell_type": "code",
   "execution_count": 40,
   "metadata": {},
   "outputs": [
    {
     "name": "stdout",
     "output_type": "stream",
     "text": [
      "Learning rate set to 0.055312\n",
      "0:\tlearn: 1.2385058\ttotal: 141ms\tremaining: 2m 20s\n",
      "1:\tlearn: 1.2330725\ttotal: 145ms\tremaining: 1m 12s\n",
      "2:\tlearn: 1.2277680\ttotal: 148ms\tremaining: 49.3s\n",
      "3:\tlearn: 1.2228796\ttotal: 151ms\tremaining: 37.6s\n",
      "4:\tlearn: 1.2178001\ttotal: 154ms\tremaining: 30.7s\n",
      "5:\tlearn: 1.2132475\ttotal: 157ms\tremaining: 26.1s\n",
      "6:\tlearn: 1.2088330\ttotal: 160ms\tremaining: 22.7s\n",
      "7:\tlearn: 1.2050640\ttotal: 163ms\tremaining: 20.3s\n",
      "8:\tlearn: 1.2019662\ttotal: 167ms\tremaining: 18.4s\n",
      "9:\tlearn: 1.1996062\ttotal: 171ms\tremaining: 16.9s\n",
      "10:\tlearn: 1.1959929\ttotal: 175ms\tremaining: 15.7s\n",
      "11:\tlearn: 1.1929825\ttotal: 178ms\tremaining: 14.7s\n",
      "12:\tlearn: 1.1902487\ttotal: 181ms\tremaining: 13.8s\n",
      "13:\tlearn: 1.1879590\ttotal: 185ms\tremaining: 13s\n",
      "14:\tlearn: 1.1851395\ttotal: 189ms\tremaining: 12.4s\n",
      "15:\tlearn: 1.1829887\ttotal: 192ms\tremaining: 11.8s\n",
      "16:\tlearn: 1.1804779\ttotal: 195ms\tremaining: 11.3s\n",
      "17:\tlearn: 1.1774641\ttotal: 198ms\tremaining: 10.8s\n",
      "18:\tlearn: 1.1752678\ttotal: 201ms\tremaining: 10.4s\n",
      "19:\tlearn: 1.1735917\ttotal: 204ms\tremaining: 10s\n",
      "20:\tlearn: 1.1717037\ttotal: 210ms\tremaining: 9.78s\n",
      "21:\tlearn: 1.1695897\ttotal: 212ms\tremaining: 9.44s\n",
      "22:\tlearn: 1.1678284\ttotal: 215ms\tremaining: 9.13s\n",
      "23:\tlearn: 1.1661529\ttotal: 217ms\tremaining: 8.84s\n",
      "24:\tlearn: 1.1642102\ttotal: 220ms\tremaining: 8.57s\n",
      "25:\tlearn: 1.1630939\ttotal: 223ms\tremaining: 8.35s\n",
      "26:\tlearn: 1.1617313\ttotal: 226ms\tremaining: 8.14s\n",
      "27:\tlearn: 1.1599414\ttotal: 229ms\tremaining: 7.93s\n",
      "28:\tlearn: 1.1577089\ttotal: 232ms\tremaining: 7.78s\n",
      "29:\tlearn: 1.1558612\ttotal: 236ms\tremaining: 7.64s\n",
      "30:\tlearn: 1.1539672\ttotal: 240ms\tremaining: 7.5s\n",
      "31:\tlearn: 1.1516428\ttotal: 243ms\tremaining: 7.35s\n",
      "32:\tlearn: 1.1505359\ttotal: 246ms\tremaining: 7.21s\n",
      "33:\tlearn: 1.1486391\ttotal: 249ms\tremaining: 7.07s\n",
      "34:\tlearn: 1.1476987\ttotal: 251ms\tremaining: 6.93s\n",
      "35:\tlearn: 1.1464461\ttotal: 254ms\tremaining: 6.8s\n",
      "36:\tlearn: 1.1447289\ttotal: 257ms\tremaining: 6.68s\n",
      "37:\tlearn: 1.1432763\ttotal: 259ms\tremaining: 6.57s\n",
      "38:\tlearn: 1.1417944\ttotal: 262ms\tremaining: 6.46s\n",
      "39:\tlearn: 1.1405849\ttotal: 266ms\tremaining: 6.38s\n",
      "40:\tlearn: 1.1387566\ttotal: 268ms\tremaining: 6.27s\n",
      "41:\tlearn: 1.1375022\ttotal: 270ms\tremaining: 6.17s\n",
      "42:\tlearn: 1.1365495\ttotal: 273ms\tremaining: 6.07s\n",
      "43:\tlearn: 1.1354808\ttotal: 275ms\tremaining: 5.98s\n",
      "44:\tlearn: 1.1343479\ttotal: 278ms\tremaining: 5.9s\n",
      "45:\tlearn: 1.1330537\ttotal: 281ms\tremaining: 5.82s\n",
      "46:\tlearn: 1.1322375\ttotal: 284ms\tremaining: 5.75s\n",
      "47:\tlearn: 1.1306981\ttotal: 286ms\tremaining: 5.67s\n",
      "48:\tlearn: 1.1301239\ttotal: 289ms\tremaining: 5.6s\n",
      "49:\tlearn: 1.1290933\ttotal: 292ms\tremaining: 5.55s\n",
      "50:\tlearn: 1.1284506\ttotal: 295ms\tremaining: 5.48s\n",
      "51:\tlearn: 1.1280419\ttotal: 297ms\tremaining: 5.42s\n",
      "52:\tlearn: 1.1269247\ttotal: 300ms\tremaining: 5.35s\n",
      "53:\tlearn: 1.1263253\ttotal: 303ms\tremaining: 5.31s\n",
      "54:\tlearn: 1.1253541\ttotal: 305ms\tremaining: 5.24s\n",
      "55:\tlearn: 1.1246052\ttotal: 307ms\tremaining: 5.18s\n",
      "56:\tlearn: 1.1240761\ttotal: 310ms\tremaining: 5.12s\n",
      "57:\tlearn: 1.1235469\ttotal: 312ms\tremaining: 5.06s\n",
      "58:\tlearn: 1.1228667\ttotal: 314ms\tremaining: 5.01s\n",
      "59:\tlearn: 1.1218673\ttotal: 316ms\tremaining: 4.96s\n",
      "60:\tlearn: 1.1209688\ttotal: 319ms\tremaining: 4.91s\n",
      "61:\tlearn: 1.1201232\ttotal: 322ms\tremaining: 4.87s\n",
      "62:\tlearn: 1.1196372\ttotal: 324ms\tremaining: 4.82s\n",
      "63:\tlearn: 1.1189653\ttotal: 326ms\tremaining: 4.77s\n",
      "64:\tlearn: 1.1183080\ttotal: 330ms\tremaining: 4.75s\n",
      "65:\tlearn: 1.1174170\ttotal: 333ms\tremaining: 4.71s\n",
      "66:\tlearn: 1.1168644\ttotal: 336ms\tremaining: 4.67s\n",
      "67:\tlearn: 1.1157793\ttotal: 338ms\tremaining: 4.63s\n",
      "68:\tlearn: 1.1151043\ttotal: 341ms\tremaining: 4.6s\n",
      "69:\tlearn: 1.1148436\ttotal: 343ms\tremaining: 4.56s\n",
      "70:\tlearn: 1.1142988\ttotal: 346ms\tremaining: 4.53s\n",
      "71:\tlearn: 1.1136805\ttotal: 349ms\tremaining: 4.49s\n",
      "72:\tlearn: 1.1132930\ttotal: 351ms\tremaining: 4.46s\n",
      "73:\tlearn: 1.1127590\ttotal: 354ms\tremaining: 4.42s\n",
      "74:\tlearn: 1.1115714\ttotal: 356ms\tremaining: 4.39s\n",
      "75:\tlearn: 1.1110265\ttotal: 359ms\tremaining: 4.37s\n",
      "76:\tlearn: 1.1103756\ttotal: 362ms\tremaining: 4.33s\n",
      "77:\tlearn: 1.1100122\ttotal: 364ms\tremaining: 4.3s\n",
      "78:\tlearn: 1.1089258\ttotal: 367ms\tremaining: 4.27s\n",
      "79:\tlearn: 1.1083054\ttotal: 370ms\tremaining: 4.26s\n",
      "80:\tlearn: 1.1080869\ttotal: 373ms\tremaining: 4.23s\n",
      "81:\tlearn: 1.1075896\ttotal: 375ms\tremaining: 4.2s\n",
      "82:\tlearn: 1.1071826\ttotal: 378ms\tremaining: 4.17s\n",
      "83:\tlearn: 1.1066344\ttotal: 380ms\tremaining: 4.14s\n",
      "84:\tlearn: 1.1059891\ttotal: 382ms\tremaining: 4.11s\n",
      "85:\tlearn: 1.1055667\ttotal: 385ms\tremaining: 4.09s\n",
      "86:\tlearn: 1.1052090\ttotal: 387ms\tremaining: 4.06s\n",
      "87:\tlearn: 1.1047196\ttotal: 389ms\tremaining: 4.04s\n",
      "88:\tlearn: 1.1040282\ttotal: 392ms\tremaining: 4.01s\n",
      "89:\tlearn: 1.1036033\ttotal: 394ms\tremaining: 3.98s\n",
      "90:\tlearn: 1.1029273\ttotal: 396ms\tremaining: 3.96s\n",
      "91:\tlearn: 1.1021936\ttotal: 399ms\tremaining: 3.94s\n",
      "92:\tlearn: 1.1017903\ttotal: 401ms\tremaining: 3.91s\n",
      "93:\tlearn: 1.1013676\ttotal: 403ms\tremaining: 3.89s\n",
      "94:\tlearn: 1.1008559\ttotal: 406ms\tremaining: 3.86s\n",
      "95:\tlearn: 1.1003490\ttotal: 408ms\tremaining: 3.84s\n",
      "96:\tlearn: 1.1001261\ttotal: 410ms\tremaining: 3.82s\n",
      "97:\tlearn: 1.0996027\ttotal: 412ms\tremaining: 3.79s\n",
      "98:\tlearn: 1.0990414\ttotal: 415ms\tremaining: 3.77s\n",
      "99:\tlearn: 1.0985733\ttotal: 417ms\tremaining: 3.75s\n",
      "100:\tlearn: 1.0980704\ttotal: 419ms\tremaining: 3.73s\n",
      "101:\tlearn: 1.0975217\ttotal: 421ms\tremaining: 3.71s\n",
      "102:\tlearn: 1.0967121\ttotal: 424ms\tremaining: 3.69s\n",
      "103:\tlearn: 1.0961511\ttotal: 426ms\tremaining: 3.67s\n",
      "104:\tlearn: 1.0956617\ttotal: 428ms\tremaining: 3.65s\n",
      "105:\tlearn: 1.0951898\ttotal: 431ms\tremaining: 3.63s\n",
      "106:\tlearn: 1.0949450\ttotal: 433ms\tremaining: 3.61s\n",
      "107:\tlearn: 1.0944338\ttotal: 435ms\tremaining: 3.59s\n",
      "108:\tlearn: 1.0939779\ttotal: 438ms\tremaining: 3.58s\n",
      "109:\tlearn: 1.0934668\ttotal: 440ms\tremaining: 3.56s\n",
      "110:\tlearn: 1.0928772\ttotal: 442ms\tremaining: 3.54s\n",
      "111:\tlearn: 1.0918491\ttotal: 445ms\tremaining: 3.52s\n",
      "112:\tlearn: 1.0915730\ttotal: 447ms\tremaining: 3.51s\n",
      "113:\tlearn: 1.0908926\ttotal: 449ms\tremaining: 3.49s\n",
      "114:\tlearn: 1.0906037\ttotal: 451ms\tremaining: 3.47s\n",
      "115:\tlearn: 1.0901772\ttotal: 454ms\tremaining: 3.46s\n",
      "116:\tlearn: 1.0896236\ttotal: 456ms\tremaining: 3.44s\n",
      "117:\tlearn: 1.0892385\ttotal: 458ms\tremaining: 3.43s\n",
      "118:\tlearn: 1.0888790\ttotal: 461ms\tremaining: 3.41s\n",
      "119:\tlearn: 1.0884078\ttotal: 463ms\tremaining: 3.39s\n",
      "120:\tlearn: 1.0881519\ttotal: 465ms\tremaining: 3.38s\n",
      "121:\tlearn: 1.0872528\ttotal: 468ms\tremaining: 3.36s\n",
      "122:\tlearn: 1.0869505\ttotal: 470ms\tremaining: 3.35s\n",
      "123:\tlearn: 1.0865985\ttotal: 472ms\tremaining: 3.34s\n",
      "124:\tlearn: 1.0861032\ttotal: 475ms\tremaining: 3.33s\n",
      "125:\tlearn: 1.0855079\ttotal: 477ms\tremaining: 3.31s\n",
      "126:\tlearn: 1.0850131\ttotal: 480ms\tremaining: 3.3s\n",
      "127:\tlearn: 1.0847222\ttotal: 483ms\tremaining: 3.29s\n",
      "128:\tlearn: 1.0841712\ttotal: 485ms\tremaining: 3.28s\n",
      "129:\tlearn: 1.0836376\ttotal: 488ms\tremaining: 3.27s\n",
      "130:\tlearn: 1.0833083\ttotal: 491ms\tremaining: 3.25s\n",
      "131:\tlearn: 1.0826527\ttotal: 493ms\tremaining: 3.25s\n",
      "132:\tlearn: 1.0820322\ttotal: 496ms\tremaining: 3.23s\n",
      "133:\tlearn: 1.0815176\ttotal: 499ms\tremaining: 3.22s\n",
      "134:\tlearn: 1.0811158\ttotal: 501ms\tremaining: 3.21s\n",
      "135:\tlearn: 1.0808792\ttotal: 504ms\tremaining: 3.2s\n",
      "136:\tlearn: 1.0801996\ttotal: 506ms\tremaining: 3.19s\n",
      "137:\tlearn: 1.0798225\ttotal: 509ms\tremaining: 3.18s\n",
      "138:\tlearn: 1.0794917\ttotal: 512ms\tremaining: 3.17s\n",
      "139:\tlearn: 1.0792104\ttotal: 515ms\tremaining: 3.16s\n",
      "140:\tlearn: 1.0788217\ttotal: 517ms\tremaining: 3.15s\n",
      "141:\tlearn: 1.0787385\ttotal: 519ms\tremaining: 3.14s\n",
      "142:\tlearn: 1.0781723\ttotal: 522ms\tremaining: 3.13s\n",
      "143:\tlearn: 1.0776364\ttotal: 525ms\tremaining: 3.12s\n",
      "144:\tlearn: 1.0771537\ttotal: 528ms\tremaining: 3.11s\n",
      "145:\tlearn: 1.0767389\ttotal: 531ms\tremaining: 3.1s\n",
      "146:\tlearn: 1.0762617\ttotal: 533ms\tremaining: 3.09s\n",
      "147:\tlearn: 1.0756501\ttotal: 537ms\tremaining: 3.09s\n",
      "148:\tlearn: 1.0751315\ttotal: 540ms\tremaining: 3.08s\n",
      "149:\tlearn: 1.0748119\ttotal: 542ms\tremaining: 3.07s\n",
      "150:\tlearn: 1.0745313\ttotal: 545ms\tremaining: 3.06s\n",
      "151:\tlearn: 1.0742845\ttotal: 547ms\tremaining: 3.05s\n",
      "152:\tlearn: 1.0740851\ttotal: 550ms\tremaining: 3.04s\n",
      "153:\tlearn: 1.0735704\ttotal: 553ms\tremaining: 3.04s\n",
      "154:\tlearn: 1.0731351\ttotal: 555ms\tremaining: 3.03s\n",
      "155:\tlearn: 1.0727263\ttotal: 558ms\tremaining: 3.02s\n",
      "156:\tlearn: 1.0723004\ttotal: 561ms\tremaining: 3.01s\n",
      "157:\tlearn: 1.0717548\ttotal: 564ms\tremaining: 3s\n",
      "158:\tlearn: 1.0714281\ttotal: 566ms\tremaining: 3s\n",
      "159:\tlearn: 1.0709372\ttotal: 569ms\tremaining: 2.99s\n",
      "160:\tlearn: 1.0707411\ttotal: 572ms\tremaining: 2.98s\n",
      "161:\tlearn: 1.0703285\ttotal: 574ms\tremaining: 2.97s\n",
      "162:\tlearn: 1.0700291\ttotal: 577ms\tremaining: 2.96s\n",
      "163:\tlearn: 1.0695614\ttotal: 580ms\tremaining: 2.96s\n",
      "164:\tlearn: 1.0688610\ttotal: 583ms\tremaining: 2.95s\n",
      "165:\tlearn: 1.0682383\ttotal: 586ms\tremaining: 2.94s\n",
      "166:\tlearn: 1.0679353\ttotal: 593ms\tremaining: 2.96s\n",
      "167:\tlearn: 1.0675701\ttotal: 597ms\tremaining: 2.96s\n",
      "168:\tlearn: 1.0671817\ttotal: 600ms\tremaining: 2.95s\n",
      "169:\tlearn: 1.0667460\ttotal: 604ms\tremaining: 2.95s\n",
      "170:\tlearn: 1.0664908\ttotal: 606ms\tremaining: 2.94s\n",
      "171:\tlearn: 1.0662587\ttotal: 609ms\tremaining: 2.93s\n",
      "172:\tlearn: 1.0657246\ttotal: 611ms\tremaining: 2.92s\n",
      "173:\tlearn: 1.0653512\ttotal: 614ms\tremaining: 2.92s\n",
      "174:\tlearn: 1.0649920\ttotal: 617ms\tremaining: 2.91s\n"
     ]
    },
    {
     "name": "stdout",
     "output_type": "stream",
     "text": [
      "175:\tlearn: 1.0645900\ttotal: 621ms\tremaining: 2.91s\n",
      "176:\tlearn: 1.0642280\ttotal: 623ms\tremaining: 2.9s\n",
      "177:\tlearn: 1.0639737\ttotal: 628ms\tremaining: 2.9s\n",
      "178:\tlearn: 1.0635029\ttotal: 632ms\tremaining: 2.9s\n",
      "179:\tlearn: 1.0631361\ttotal: 635ms\tremaining: 2.89s\n",
      "180:\tlearn: 1.0625786\ttotal: 637ms\tremaining: 2.88s\n",
      "181:\tlearn: 1.0620789\ttotal: 640ms\tremaining: 2.88s\n",
      "182:\tlearn: 1.0615956\ttotal: 642ms\tremaining: 2.87s\n",
      "183:\tlearn: 1.0613583\ttotal: 645ms\tremaining: 2.86s\n",
      "184:\tlearn: 1.0609390\ttotal: 648ms\tremaining: 2.85s\n",
      "185:\tlearn: 1.0606588\ttotal: 650ms\tremaining: 2.85s\n",
      "186:\tlearn: 1.0602114\ttotal: 653ms\tremaining: 2.84s\n",
      "187:\tlearn: 1.0600320\ttotal: 656ms\tremaining: 2.83s\n",
      "188:\tlearn: 1.0597022\ttotal: 659ms\tremaining: 2.83s\n",
      "189:\tlearn: 1.0592948\ttotal: 661ms\tremaining: 2.82s\n",
      "190:\tlearn: 1.0588915\ttotal: 664ms\tremaining: 2.81s\n",
      "191:\tlearn: 1.0584093\ttotal: 667ms\tremaining: 2.81s\n",
      "192:\tlearn: 1.0581792\ttotal: 669ms\tremaining: 2.8s\n",
      "193:\tlearn: 1.0577161\ttotal: 672ms\tremaining: 2.79s\n",
      "194:\tlearn: 1.0572796\ttotal: 674ms\tremaining: 2.78s\n",
      "195:\tlearn: 1.0567505\ttotal: 677ms\tremaining: 2.77s\n",
      "196:\tlearn: 1.0562718\ttotal: 679ms\tremaining: 2.77s\n",
      "197:\tlearn: 1.0559350\ttotal: 681ms\tremaining: 2.76s\n",
      "198:\tlearn: 1.0555959\ttotal: 684ms\tremaining: 2.75s\n",
      "199:\tlearn: 1.0551842\ttotal: 686ms\tremaining: 2.74s\n",
      "200:\tlearn: 1.0545528\ttotal: 688ms\tremaining: 2.73s\n",
      "201:\tlearn: 1.0541527\ttotal: 691ms\tremaining: 2.73s\n",
      "202:\tlearn: 1.0538095\ttotal: 693ms\tremaining: 2.72s\n",
      "203:\tlearn: 1.0534265\ttotal: 695ms\tremaining: 2.71s\n",
      "204:\tlearn: 1.0531472\ttotal: 697ms\tremaining: 2.7s\n",
      "205:\tlearn: 1.0527310\ttotal: 700ms\tremaining: 2.7s\n",
      "206:\tlearn: 1.0524667\ttotal: 702ms\tremaining: 2.69s\n",
      "207:\tlearn: 1.0519985\ttotal: 704ms\tremaining: 2.68s\n",
      "208:\tlearn: 1.0517272\ttotal: 707ms\tremaining: 2.67s\n",
      "209:\tlearn: 1.0512866\ttotal: 709ms\tremaining: 2.67s\n",
      "210:\tlearn: 1.0510794\ttotal: 711ms\tremaining: 2.66s\n",
      "211:\tlearn: 1.0507035\ttotal: 714ms\tremaining: 2.65s\n",
      "212:\tlearn: 1.0502797\ttotal: 716ms\tremaining: 2.64s\n",
      "213:\tlearn: 1.0499520\ttotal: 718ms\tremaining: 2.64s\n",
      "214:\tlearn: 1.0495622\ttotal: 720ms\tremaining: 2.63s\n",
      "215:\tlearn: 1.0491950\ttotal: 723ms\tremaining: 2.62s\n",
      "216:\tlearn: 1.0488539\ttotal: 725ms\tremaining: 2.62s\n",
      "217:\tlearn: 1.0484739\ttotal: 727ms\tremaining: 2.61s\n",
      "218:\tlearn: 1.0480446\ttotal: 730ms\tremaining: 2.6s\n",
      "219:\tlearn: 1.0478005\ttotal: 732ms\tremaining: 2.59s\n",
      "220:\tlearn: 1.0476455\ttotal: 734ms\tremaining: 2.59s\n",
      "221:\tlearn: 1.0474359\ttotal: 736ms\tremaining: 2.58s\n",
      "222:\tlearn: 1.0470705\ttotal: 738ms\tremaining: 2.57s\n",
      "223:\tlearn: 1.0466355\ttotal: 741ms\tremaining: 2.57s\n",
      "224:\tlearn: 1.0461828\ttotal: 743ms\tremaining: 2.56s\n",
      "225:\tlearn: 1.0460641\ttotal: 745ms\tremaining: 2.55s\n",
      "226:\tlearn: 1.0456205\ttotal: 748ms\tremaining: 2.55s\n",
      "227:\tlearn: 1.0453614\ttotal: 750ms\tremaining: 2.54s\n",
      "228:\tlearn: 1.0451171\ttotal: 752ms\tremaining: 2.53s\n",
      "229:\tlearn: 1.0447126\ttotal: 755ms\tremaining: 2.53s\n",
      "230:\tlearn: 1.0442572\ttotal: 757ms\tremaining: 2.52s\n",
      "231:\tlearn: 1.0438918\ttotal: 759ms\tremaining: 2.51s\n",
      "232:\tlearn: 1.0435624\ttotal: 762ms\tremaining: 2.51s\n",
      "233:\tlearn: 1.0430972\ttotal: 764ms\tremaining: 2.5s\n",
      "234:\tlearn: 1.0428795\ttotal: 766ms\tremaining: 2.49s\n",
      "235:\tlearn: 1.0426572\ttotal: 768ms\tremaining: 2.49s\n",
      "236:\tlearn: 1.0423683\ttotal: 771ms\tremaining: 2.48s\n",
      "237:\tlearn: 1.0419336\ttotal: 774ms\tremaining: 2.48s\n",
      "238:\tlearn: 1.0415758\ttotal: 777ms\tremaining: 2.47s\n",
      "239:\tlearn: 1.0414041\ttotal: 779ms\tremaining: 2.47s\n",
      "240:\tlearn: 1.0413776\ttotal: 782ms\tremaining: 2.46s\n",
      "241:\tlearn: 1.0410732\ttotal: 784ms\tremaining: 2.46s\n",
      "242:\tlearn: 1.0408053\ttotal: 787ms\tremaining: 2.45s\n",
      "243:\tlearn: 1.0405752\ttotal: 789ms\tremaining: 2.44s\n",
      "244:\tlearn: 1.0401948\ttotal: 793ms\tremaining: 2.44s\n",
      "245:\tlearn: 1.0399228\ttotal: 796ms\tremaining: 2.44s\n",
      "246:\tlearn: 1.0395994\ttotal: 799ms\tremaining: 2.44s\n",
      "247:\tlearn: 1.0393301\ttotal: 802ms\tremaining: 2.43s\n",
      "248:\tlearn: 1.0393166\ttotal: 805ms\tremaining: 2.43s\n",
      "249:\tlearn: 1.0389645\ttotal: 807ms\tremaining: 2.42s\n",
      "250:\tlearn: 1.0385548\ttotal: 811ms\tremaining: 2.42s\n",
      "251:\tlearn: 1.0382377\ttotal: 814ms\tremaining: 2.42s\n",
      "252:\tlearn: 1.0378620\ttotal: 816ms\tremaining: 2.41s\n",
      "253:\tlearn: 1.0375440\ttotal: 819ms\tremaining: 2.4s\n",
      "254:\tlearn: 1.0372538\ttotal: 821ms\tremaining: 2.4s\n",
      "255:\tlearn: 1.0368294\ttotal: 824ms\tremaining: 2.4s\n",
      "256:\tlearn: 1.0363634\ttotal: 827ms\tremaining: 2.39s\n",
      "257:\tlearn: 1.0361423\ttotal: 829ms\tremaining: 2.38s\n",
      "258:\tlearn: 1.0358953\ttotal: 831ms\tremaining: 2.38s\n",
      "259:\tlearn: 1.0357971\ttotal: 834ms\tremaining: 2.37s\n",
      "260:\tlearn: 1.0353525\ttotal: 836ms\tremaining: 2.37s\n",
      "261:\tlearn: 1.0353318\ttotal: 839ms\tremaining: 2.36s\n",
      "262:\tlearn: 1.0349326\ttotal: 841ms\tremaining: 2.36s\n",
      "263:\tlearn: 1.0347509\ttotal: 844ms\tremaining: 2.35s\n",
      "264:\tlearn: 1.0344404\ttotal: 847ms\tremaining: 2.35s\n",
      "265:\tlearn: 1.0340669\ttotal: 850ms\tremaining: 2.35s\n",
      "266:\tlearn: 1.0340066\ttotal: 853ms\tremaining: 2.34s\n",
      "267:\tlearn: 1.0337658\ttotal: 855ms\tremaining: 2.34s\n",
      "268:\tlearn: 1.0335190\ttotal: 859ms\tremaining: 2.33s\n",
      "269:\tlearn: 1.0334499\ttotal: 861ms\tremaining: 2.33s\n",
      "270:\tlearn: 1.0332222\ttotal: 864ms\tremaining: 2.32s\n",
      "271:\tlearn: 1.0328838\ttotal: 866ms\tremaining: 2.32s\n",
      "272:\tlearn: 1.0324725\ttotal: 869ms\tremaining: 2.31s\n",
      "273:\tlearn: 1.0321472\ttotal: 872ms\tremaining: 2.31s\n",
      "274:\tlearn: 1.0317709\ttotal: 874ms\tremaining: 2.3s\n",
      "275:\tlearn: 1.0313426\ttotal: 877ms\tremaining: 2.3s\n",
      "276:\tlearn: 1.0310528\ttotal: 880ms\tremaining: 2.29s\n",
      "277:\tlearn: 1.0309242\ttotal: 882ms\tremaining: 2.29s\n",
      "278:\tlearn: 1.0306985\ttotal: 885ms\tremaining: 2.29s\n",
      "279:\tlearn: 1.0304016\ttotal: 887ms\tremaining: 2.28s\n",
      "280:\tlearn: 1.0303110\ttotal: 890ms\tremaining: 2.28s\n",
      "281:\tlearn: 1.0299213\ttotal: 893ms\tremaining: 2.27s\n",
      "282:\tlearn: 1.0298807\ttotal: 895ms\tremaining: 2.27s\n",
      "283:\tlearn: 1.0294295\ttotal: 898ms\tremaining: 2.26s\n",
      "284:\tlearn: 1.0291437\ttotal: 900ms\tremaining: 2.26s\n",
      "285:\tlearn: 1.0290180\ttotal: 903ms\tremaining: 2.25s\n",
      "286:\tlearn: 1.0287390\ttotal: 906ms\tremaining: 2.25s\n",
      "287:\tlearn: 1.0283784\ttotal: 908ms\tremaining: 2.25s\n",
      "288:\tlearn: 1.0279853\ttotal: 911ms\tremaining: 2.24s\n",
      "289:\tlearn: 1.0276921\ttotal: 914ms\tremaining: 2.24s\n",
      "290:\tlearn: 1.0272322\ttotal: 916ms\tremaining: 2.23s\n",
      "291:\tlearn: 1.0272194\ttotal: 919ms\tremaining: 2.23s\n",
      "292:\tlearn: 1.0269972\ttotal: 921ms\tremaining: 2.22s\n",
      "293:\tlearn: 1.0266926\ttotal: 924ms\tremaining: 2.22s\n",
      "294:\tlearn: 1.0263152\ttotal: 927ms\tremaining: 2.21s\n",
      "295:\tlearn: 1.0260359\ttotal: 929ms\tremaining: 2.21s\n",
      "296:\tlearn: 1.0256912\ttotal: 932ms\tremaining: 2.21s\n",
      "297:\tlearn: 1.0252697\ttotal: 935ms\tremaining: 2.2s\n",
      "298:\tlearn: 1.0250022\ttotal: 938ms\tremaining: 2.2s\n",
      "299:\tlearn: 1.0247294\ttotal: 940ms\tremaining: 2.19s\n",
      "300:\tlearn: 1.0243307\ttotal: 943ms\tremaining: 2.19s\n",
      "301:\tlearn: 1.0240868\ttotal: 945ms\tremaining: 2.18s\n",
      "302:\tlearn: 1.0236432\ttotal: 948ms\tremaining: 2.18s\n",
      "303:\tlearn: 1.0233458\ttotal: 951ms\tremaining: 2.18s\n",
      "304:\tlearn: 1.0230113\ttotal: 953ms\tremaining: 2.17s\n",
      "305:\tlearn: 1.0227502\ttotal: 956ms\tremaining: 2.17s\n",
      "306:\tlearn: 1.0225392\ttotal: 958ms\tremaining: 2.16s\n",
      "307:\tlearn: 1.0225235\ttotal: 961ms\tremaining: 2.16s\n",
      "308:\tlearn: 1.0222869\ttotal: 963ms\tremaining: 2.15s\n",
      "309:\tlearn: 1.0216729\ttotal: 966ms\tremaining: 2.15s\n",
      "310:\tlearn: 1.0215176\ttotal: 969ms\tremaining: 2.15s\n",
      "311:\tlearn: 1.0211214\ttotal: 972ms\tremaining: 2.14s\n",
      "312:\tlearn: 1.0209042\ttotal: 975ms\tremaining: 2.14s\n",
      "313:\tlearn: 1.0207358\ttotal: 977ms\tremaining: 2.13s\n",
      "314:\tlearn: 1.0205419\ttotal: 979ms\tremaining: 2.13s\n",
      "315:\tlearn: 1.0202936\ttotal: 982ms\tremaining: 2.12s\n",
      "316:\tlearn: 1.0202277\ttotal: 984ms\tremaining: 2.12s\n",
      "317:\tlearn: 1.0199650\ttotal: 986ms\tremaining: 2.11s\n",
      "318:\tlearn: 1.0196266\ttotal: 989ms\tremaining: 2.11s\n",
      "319:\tlearn: 1.0194052\ttotal: 992ms\tremaining: 2.11s\n",
      "320:\tlearn: 1.0190247\ttotal: 994ms\tremaining: 2.1s\n",
      "321:\tlearn: 1.0189807\ttotal: 996ms\tremaining: 2.1s\n",
      "322:\tlearn: 1.0189685\ttotal: 998ms\tremaining: 2.09s\n",
      "323:\tlearn: 1.0186989\ttotal: 1s\tremaining: 2.09s\n",
      "324:\tlearn: 1.0182275\ttotal: 1s\tremaining: 2.08s\n",
      "325:\tlearn: 1.0181077\ttotal: 1s\tremaining: 2.08s\n",
      "326:\tlearn: 1.0178423\ttotal: 1.01s\tremaining: 2.07s\n",
      "327:\tlearn: 1.0177618\ttotal: 1.01s\tremaining: 2.07s\n",
      "328:\tlearn: 1.0175390\ttotal: 1.01s\tremaining: 2.06s\n",
      "329:\tlearn: 1.0174517\ttotal: 1.01s\tremaining: 2.06s\n",
      "330:\tlearn: 1.0171036\ttotal: 1.02s\tremaining: 2.05s\n",
      "331:\tlearn: 1.0168375\ttotal: 1.02s\tremaining: 2.05s\n",
      "332:\tlearn: 1.0164909\ttotal: 1.02s\tremaining: 2.04s\n",
      "333:\tlearn: 1.0162644\ttotal: 1.02s\tremaining: 2.04s\n",
      "334:\tlearn: 1.0159154\ttotal: 1.03s\tremaining: 2.04s\n",
      "335:\tlearn: 1.0156622\ttotal: 1.03s\tremaining: 2.03s\n",
      "336:\tlearn: 1.0153473\ttotal: 1.03s\tremaining: 2.03s\n",
      "337:\tlearn: 1.0151247\ttotal: 1.03s\tremaining: 2.02s\n",
      "338:\tlearn: 1.0148132\ttotal: 1.03s\tremaining: 2.02s\n",
      "339:\tlearn: 1.0145048\ttotal: 1.04s\tremaining: 2.01s\n",
      "340:\tlearn: 1.0144714\ttotal: 1.04s\tremaining: 2.01s\n",
      "341:\tlearn: 1.0141914\ttotal: 1.04s\tremaining: 2s\n",
      "342:\tlearn: 1.0139042\ttotal: 1.04s\tremaining: 2s\n",
      "343:\tlearn: 1.0135684\ttotal: 1.05s\tremaining: 2s\n",
      "344:\tlearn: 1.0133349\ttotal: 1.05s\tremaining: 1.99s\n",
      "345:\tlearn: 1.0131257\ttotal: 1.05s\tremaining: 1.99s\n",
      "346:\tlearn: 1.0128288\ttotal: 1.05s\tremaining: 1.98s\n",
      "347:\tlearn: 1.0125346\ttotal: 1.06s\tremaining: 1.98s\n",
      "348:\tlearn: 1.0123187\ttotal: 1.06s\tremaining: 1.98s\n",
      "349:\tlearn: 1.0120644\ttotal: 1.06s\tremaining: 1.97s\n",
      "350:\tlearn: 1.0117560\ttotal: 1.06s\tremaining: 1.97s\n",
      "351:\tlearn: 1.0114703\ttotal: 1.07s\tremaining: 1.96s\n",
      "352:\tlearn: 1.0111493\ttotal: 1.07s\tremaining: 1.96s\n",
      "353:\tlearn: 1.0109773\ttotal: 1.07s\tremaining: 1.96s\n",
      "354:\tlearn: 1.0107423\ttotal: 1.07s\tremaining: 1.95s\n",
      "355:\tlearn: 1.0106825\ttotal: 1.08s\tremaining: 1.95s\n",
      "356:\tlearn: 1.0104959\ttotal: 1.08s\tremaining: 1.95s\n"
     ]
    },
    {
     "name": "stdout",
     "output_type": "stream",
     "text": [
      "357:\tlearn: 1.0104139\ttotal: 1.08s\tremaining: 1.94s\n",
      "358:\tlearn: 1.0102585\ttotal: 1.09s\tremaining: 1.95s\n",
      "359:\tlearn: 1.0101277\ttotal: 1.1s\tremaining: 1.95s\n",
      "360:\tlearn: 1.0098877\ttotal: 1.1s\tremaining: 1.95s\n",
      "361:\tlearn: 1.0097150\ttotal: 1.1s\tremaining: 1.95s\n",
      "362:\tlearn: 1.0094052\ttotal: 1.11s\tremaining: 1.95s\n",
      "363:\tlearn: 1.0093969\ttotal: 1.11s\tremaining: 1.94s\n",
      "364:\tlearn: 1.0092068\ttotal: 1.11s\tremaining: 1.94s\n",
      "365:\tlearn: 1.0089693\ttotal: 1.12s\tremaining: 1.94s\n",
      "366:\tlearn: 1.0086234\ttotal: 1.12s\tremaining: 1.93s\n",
      "367:\tlearn: 1.0085661\ttotal: 1.12s\tremaining: 1.93s\n",
      "368:\tlearn: 1.0082566\ttotal: 1.13s\tremaining: 1.93s\n",
      "369:\tlearn: 1.0079565\ttotal: 1.13s\tremaining: 1.92s\n",
      "370:\tlearn: 1.0077592\ttotal: 1.13s\tremaining: 1.92s\n",
      "371:\tlearn: 1.0074148\ttotal: 1.13s\tremaining: 1.92s\n",
      "372:\tlearn: 1.0072544\ttotal: 1.14s\tremaining: 1.91s\n",
      "373:\tlearn: 1.0069146\ttotal: 1.14s\tremaining: 1.91s\n",
      "374:\tlearn: 1.0066677\ttotal: 1.14s\tremaining: 1.9s\n",
      "375:\tlearn: 1.0063641\ttotal: 1.14s\tremaining: 1.9s\n",
      "376:\tlearn: 1.0061732\ttotal: 1.15s\tremaining: 1.9s\n",
      "377:\tlearn: 1.0058942\ttotal: 1.15s\tremaining: 1.89s\n",
      "378:\tlearn: 1.0056563\ttotal: 1.15s\tremaining: 1.89s\n",
      "379:\tlearn: 1.0052548\ttotal: 1.15s\tremaining: 1.88s\n",
      "380:\tlearn: 1.0051125\ttotal: 1.16s\tremaining: 1.88s\n",
      "381:\tlearn: 1.0048808\ttotal: 1.16s\tremaining: 1.87s\n",
      "382:\tlearn: 1.0046688\ttotal: 1.16s\tremaining: 1.87s\n",
      "383:\tlearn: 1.0043321\ttotal: 1.16s\tremaining: 1.87s\n",
      "384:\tlearn: 1.0040676\ttotal: 1.17s\tremaining: 1.86s\n",
      "385:\tlearn: 1.0038657\ttotal: 1.17s\tremaining: 1.86s\n",
      "386:\tlearn: 1.0036791\ttotal: 1.17s\tremaining: 1.85s\n",
      "387:\tlearn: 1.0034311\ttotal: 1.17s\tremaining: 1.85s\n",
      "388:\tlearn: 1.0033006\ttotal: 1.18s\tremaining: 1.85s\n",
      "389:\tlearn: 1.0030069\ttotal: 1.18s\tremaining: 1.84s\n",
      "390:\tlearn: 1.0027451\ttotal: 1.18s\tremaining: 1.84s\n",
      "391:\tlearn: 1.0025366\ttotal: 1.18s\tremaining: 1.83s\n",
      "392:\tlearn: 1.0023949\ttotal: 1.18s\tremaining: 1.83s\n",
      "393:\tlearn: 1.0021409\ttotal: 1.19s\tremaining: 1.82s\n",
      "394:\tlearn: 1.0019928\ttotal: 1.19s\tremaining: 1.82s\n",
      "395:\tlearn: 1.0017107\ttotal: 1.19s\tremaining: 1.82s\n",
      "396:\tlearn: 1.0013757\ttotal: 1.19s\tremaining: 1.81s\n",
      "397:\tlearn: 1.0010761\ttotal: 1.2s\tremaining: 1.81s\n",
      "398:\tlearn: 1.0008809\ttotal: 1.2s\tremaining: 1.8s\n",
      "399:\tlearn: 1.0008315\ttotal: 1.2s\tremaining: 1.8s\n",
      "400:\tlearn: 1.0006506\ttotal: 1.2s\tremaining: 1.8s\n",
      "401:\tlearn: 1.0004355\ttotal: 1.21s\tremaining: 1.79s\n",
      "402:\tlearn: 1.0003740\ttotal: 1.21s\tremaining: 1.79s\n",
      "403:\tlearn: 1.0000108\ttotal: 1.21s\tremaining: 1.78s\n",
      "404:\tlearn: 0.9997555\ttotal: 1.21s\tremaining: 1.78s\n",
      "405:\tlearn: 0.9997466\ttotal: 1.21s\tremaining: 1.78s\n",
      "406:\tlearn: 0.9997044\ttotal: 1.22s\tremaining: 1.77s\n",
      "407:\tlearn: 0.9996982\ttotal: 1.22s\tremaining: 1.77s\n",
      "408:\tlearn: 0.9993527\ttotal: 1.22s\tremaining: 1.76s\n",
      "409:\tlearn: 0.9992058\ttotal: 1.22s\tremaining: 1.76s\n",
      "410:\tlearn: 0.9989131\ttotal: 1.23s\tremaining: 1.75s\n",
      "411:\tlearn: 0.9988891\ttotal: 1.23s\tremaining: 1.75s\n",
      "412:\tlearn: 0.9986958\ttotal: 1.23s\tremaining: 1.75s\n",
      "413:\tlearn: 0.9985014\ttotal: 1.23s\tremaining: 1.74s\n",
      "414:\tlearn: 0.9983604\ttotal: 1.23s\tremaining: 1.74s\n",
      "415:\tlearn: 0.9980653\ttotal: 1.24s\tremaining: 1.74s\n",
      "416:\tlearn: 0.9977770\ttotal: 1.24s\tremaining: 1.73s\n",
      "417:\tlearn: 0.9974365\ttotal: 1.24s\tremaining: 1.73s\n",
      "418:\tlearn: 0.9971649\ttotal: 1.24s\tremaining: 1.73s\n",
      "419:\tlearn: 0.9970046\ttotal: 1.25s\tremaining: 1.72s\n",
      "420:\tlearn: 0.9968153\ttotal: 1.25s\tremaining: 1.72s\n",
      "421:\tlearn: 0.9968066\ttotal: 1.25s\tremaining: 1.72s\n",
      "422:\tlearn: 0.9967161\ttotal: 1.25s\tremaining: 1.71s\n",
      "423:\tlearn: 0.9967096\ttotal: 1.26s\tremaining: 1.71s\n",
      "424:\tlearn: 0.9963928\ttotal: 1.26s\tremaining: 1.71s\n",
      "425:\tlearn: 0.9961473\ttotal: 1.26s\tremaining: 1.7s\n",
      "426:\tlearn: 0.9959917\ttotal: 1.27s\tremaining: 1.7s\n",
      "427:\tlearn: 0.9956241\ttotal: 1.27s\tremaining: 1.7s\n",
      "428:\tlearn: 0.9953731\ttotal: 1.27s\tremaining: 1.69s\n",
      "429:\tlearn: 0.9950848\ttotal: 1.27s\tremaining: 1.69s\n",
      "430:\tlearn: 0.9950466\ttotal: 1.28s\tremaining: 1.69s\n",
      "431:\tlearn: 0.9947175\ttotal: 1.28s\tremaining: 1.68s\n",
      "432:\tlearn: 0.9944069\ttotal: 1.28s\tremaining: 1.68s\n",
      "433:\tlearn: 0.9943987\ttotal: 1.28s\tremaining: 1.67s\n",
      "434:\tlearn: 0.9942156\ttotal: 1.28s\tremaining: 1.67s\n",
      "435:\tlearn: 0.9940410\ttotal: 1.29s\tremaining: 1.67s\n",
      "436:\tlearn: 0.9938804\ttotal: 1.29s\tremaining: 1.66s\n",
      "437:\tlearn: 0.9937464\ttotal: 1.29s\tremaining: 1.66s\n",
      "438:\tlearn: 0.9935001\ttotal: 1.29s\tremaining: 1.66s\n",
      "439:\tlearn: 0.9932424\ttotal: 1.3s\tremaining: 1.65s\n",
      "440:\tlearn: 0.9930657\ttotal: 1.3s\tremaining: 1.65s\n",
      "441:\tlearn: 0.9928091\ttotal: 1.3s\tremaining: 1.64s\n",
      "442:\tlearn: 0.9925407\ttotal: 1.3s\tremaining: 1.64s\n",
      "443:\tlearn: 0.9922870\ttotal: 1.31s\tremaining: 1.64s\n",
      "444:\tlearn: 0.9921853\ttotal: 1.31s\tremaining: 1.63s\n",
      "445:\tlearn: 0.9919440\ttotal: 1.31s\tremaining: 1.63s\n",
      "446:\tlearn: 0.9917311\ttotal: 1.31s\tremaining: 1.63s\n",
      "447:\tlearn: 0.9914381\ttotal: 1.32s\tremaining: 1.62s\n",
      "448:\tlearn: 0.9912602\ttotal: 1.32s\tremaining: 1.62s\n",
      "449:\tlearn: 0.9911636\ttotal: 1.32s\tremaining: 1.61s\n",
      "450:\tlearn: 0.9909265\ttotal: 1.32s\tremaining: 1.61s\n",
      "451:\tlearn: 0.9907081\ttotal: 1.32s\tremaining: 1.61s\n",
      "452:\tlearn: 0.9905216\ttotal: 1.33s\tremaining: 1.6s\n",
      "453:\tlearn: 0.9903380\ttotal: 1.33s\tremaining: 1.6s\n",
      "454:\tlearn: 0.9901733\ttotal: 1.33s\tremaining: 1.6s\n",
      "455:\tlearn: 0.9901275\ttotal: 1.33s\tremaining: 1.59s\n",
      "456:\tlearn: 0.9900386\ttotal: 1.34s\tremaining: 1.59s\n",
      "457:\tlearn: 0.9897827\ttotal: 1.34s\tremaining: 1.58s\n",
      "458:\tlearn: 0.9895348\ttotal: 1.34s\tremaining: 1.58s\n",
      "459:\tlearn: 0.9893540\ttotal: 1.34s\tremaining: 1.58s\n",
      "460:\tlearn: 0.9891876\ttotal: 1.35s\tremaining: 1.57s\n",
      "461:\tlearn: 0.9891626\ttotal: 1.35s\tremaining: 1.57s\n",
      "462:\tlearn: 0.9890332\ttotal: 1.35s\tremaining: 1.57s\n",
      "463:\tlearn: 0.9888596\ttotal: 1.35s\tremaining: 1.56s\n",
      "464:\tlearn: 0.9886034\ttotal: 1.35s\tremaining: 1.56s\n",
      "465:\tlearn: 0.9884694\ttotal: 1.36s\tremaining: 1.56s\n",
      "466:\tlearn: 0.9882917\ttotal: 1.36s\tremaining: 1.55s\n",
      "467:\tlearn: 0.9881146\ttotal: 1.36s\tremaining: 1.55s\n",
      "468:\tlearn: 0.9877936\ttotal: 1.36s\tremaining: 1.54s\n",
      "469:\tlearn: 0.9876103\ttotal: 1.37s\tremaining: 1.54s\n",
      "470:\tlearn: 0.9874887\ttotal: 1.37s\tremaining: 1.54s\n",
      "471:\tlearn: 0.9872408\ttotal: 1.37s\tremaining: 1.53s\n",
      "472:\tlearn: 0.9870109\ttotal: 1.37s\tremaining: 1.53s\n",
      "473:\tlearn: 0.9867507\ttotal: 1.38s\tremaining: 1.53s\n",
      "474:\tlearn: 0.9866710\ttotal: 1.38s\tremaining: 1.52s\n",
      "475:\tlearn: 0.9864752\ttotal: 1.38s\tremaining: 1.52s\n",
      "476:\tlearn: 0.9864562\ttotal: 1.38s\tremaining: 1.52s\n",
      "477:\tlearn: 0.9861784\ttotal: 1.39s\tremaining: 1.51s\n",
      "478:\tlearn: 0.9859636\ttotal: 1.39s\tremaining: 1.51s\n",
      "479:\tlearn: 0.9857750\ttotal: 1.39s\tremaining: 1.51s\n",
      "480:\tlearn: 0.9856696\ttotal: 1.39s\tremaining: 1.5s\n",
      "481:\tlearn: 0.9854131\ttotal: 1.4s\tremaining: 1.5s\n",
      "482:\tlearn: 0.9851826\ttotal: 1.4s\tremaining: 1.5s\n",
      "483:\tlearn: 0.9849593\ttotal: 1.4s\tremaining: 1.49s\n",
      "484:\tlearn: 0.9847730\ttotal: 1.4s\tremaining: 1.49s\n",
      "485:\tlearn: 0.9844305\ttotal: 1.41s\tremaining: 1.49s\n",
      "486:\tlearn: 0.9844016\ttotal: 1.41s\tremaining: 1.48s\n",
      "487:\tlearn: 0.9843522\ttotal: 1.41s\tremaining: 1.48s\n",
      "488:\tlearn: 0.9842087\ttotal: 1.41s\tremaining: 1.48s\n",
      "489:\tlearn: 0.9840924\ttotal: 1.42s\tremaining: 1.47s\n",
      "490:\tlearn: 0.9839637\ttotal: 1.42s\tremaining: 1.47s\n",
      "491:\tlearn: 0.9837410\ttotal: 1.42s\tremaining: 1.47s\n",
      "492:\tlearn: 0.9837374\ttotal: 1.42s\tremaining: 1.46s\n",
      "493:\tlearn: 0.9835452\ttotal: 1.43s\tremaining: 1.46s\n",
      "494:\tlearn: 0.9832134\ttotal: 1.43s\tremaining: 1.46s\n",
      "495:\tlearn: 0.9831209\ttotal: 1.43s\tremaining: 1.45s\n",
      "496:\tlearn: 0.9829193\ttotal: 1.43s\tremaining: 1.45s\n",
      "497:\tlearn: 0.9826180\ttotal: 1.44s\tremaining: 1.45s\n",
      "498:\tlearn: 0.9826109\ttotal: 1.44s\tremaining: 1.44s\n",
      "499:\tlearn: 0.9825526\ttotal: 1.44s\tremaining: 1.44s\n",
      "500:\tlearn: 0.9823082\ttotal: 1.44s\tremaining: 1.44s\n",
      "501:\tlearn: 0.9821091\ttotal: 1.45s\tremaining: 1.43s\n",
      "502:\tlearn: 0.9819670\ttotal: 1.45s\tremaining: 1.43s\n",
      "503:\tlearn: 0.9817824\ttotal: 1.45s\tremaining: 1.43s\n",
      "504:\tlearn: 0.9816301\ttotal: 1.45s\tremaining: 1.42s\n",
      "505:\tlearn: 0.9814512\ttotal: 1.45s\tremaining: 1.42s\n",
      "506:\tlearn: 0.9814025\ttotal: 1.46s\tremaining: 1.42s\n",
      "507:\tlearn: 0.9811123\ttotal: 1.46s\tremaining: 1.41s\n",
      "508:\tlearn: 0.9809340\ttotal: 1.46s\tremaining: 1.41s\n",
      "509:\tlearn: 0.9807722\ttotal: 1.46s\tremaining: 1.41s\n",
      "510:\tlearn: 0.9806709\ttotal: 1.47s\tremaining: 1.4s\n",
      "511:\tlearn: 0.9806503\ttotal: 1.47s\tremaining: 1.4s\n",
      "512:\tlearn: 0.9804985\ttotal: 1.47s\tremaining: 1.4s\n",
      "513:\tlearn: 0.9803255\ttotal: 1.47s\tremaining: 1.39s\n",
      "514:\tlearn: 0.9800775\ttotal: 1.47s\tremaining: 1.39s\n",
      "515:\tlearn: 0.9798598\ttotal: 1.48s\tremaining: 1.39s\n",
      "516:\tlearn: 0.9797797\ttotal: 1.48s\tremaining: 1.38s\n",
      "517:\tlearn: 0.9796401\ttotal: 1.48s\tremaining: 1.38s\n",
      "518:\tlearn: 0.9795025\ttotal: 1.48s\tremaining: 1.37s\n",
      "519:\tlearn: 0.9794716\ttotal: 1.49s\tremaining: 1.37s\n",
      "520:\tlearn: 0.9791602\ttotal: 1.49s\tremaining: 1.37s\n",
      "521:\tlearn: 0.9789068\ttotal: 1.49s\tremaining: 1.36s\n",
      "522:\tlearn: 0.9786808\ttotal: 1.49s\tremaining: 1.36s\n",
      "523:\tlearn: 0.9784135\ttotal: 1.49s\tremaining: 1.36s\n",
      "524:\tlearn: 0.9782571\ttotal: 1.5s\tremaining: 1.35s\n",
      "525:\tlearn: 0.9779664\ttotal: 1.5s\tremaining: 1.35s\n",
      "526:\tlearn: 0.9778214\ttotal: 1.5s\tremaining: 1.35s\n",
      "527:\tlearn: 0.9776711\ttotal: 1.5s\tremaining: 1.34s\n",
      "528:\tlearn: 0.9774464\ttotal: 1.51s\tremaining: 1.34s\n",
      "529:\tlearn: 0.9772876\ttotal: 1.51s\tremaining: 1.34s\n",
      "530:\tlearn: 0.9771517\ttotal: 1.51s\tremaining: 1.33s\n",
      "531:\tlearn: 0.9770495\ttotal: 1.51s\tremaining: 1.33s\n",
      "532:\tlearn: 0.9768703\ttotal: 1.51s\tremaining: 1.33s\n",
      "533:\tlearn: 0.9767110\ttotal: 1.52s\tremaining: 1.32s\n",
      "534:\tlearn: 0.9767040\ttotal: 1.52s\tremaining: 1.32s\n",
      "535:\tlearn: 0.9765484\ttotal: 1.52s\tremaining: 1.32s\n",
      "536:\tlearn: 0.9764048\ttotal: 1.52s\tremaining: 1.31s\n",
      "537:\tlearn: 0.9762110\ttotal: 1.53s\tremaining: 1.31s\n",
      "538:\tlearn: 0.9761570\ttotal: 1.53s\tremaining: 1.31s\n",
      "539:\tlearn: 0.9759530\ttotal: 1.53s\tremaining: 1.3s\n",
      "540:\tlearn: 0.9757123\ttotal: 1.53s\tremaining: 1.3s\n",
      "541:\tlearn: 0.9754421\ttotal: 1.54s\tremaining: 1.3s\n",
      "542:\tlearn: 0.9753251\ttotal: 1.54s\tremaining: 1.29s\n",
      "543:\tlearn: 0.9751746\ttotal: 1.54s\tremaining: 1.29s\n",
      "544:\tlearn: 0.9749642\ttotal: 1.54s\tremaining: 1.29s\n",
      "545:\tlearn: 0.9748003\ttotal: 1.54s\tremaining: 1.28s\n",
      "546:\tlearn: 0.9746548\ttotal: 1.55s\tremaining: 1.28s\n"
     ]
    },
    {
     "name": "stdout",
     "output_type": "stream",
     "text": [
      "547:\tlearn: 0.9744741\ttotal: 1.55s\tremaining: 1.28s\n",
      "548:\tlearn: 0.9742592\ttotal: 1.55s\tremaining: 1.27s\n",
      "549:\tlearn: 0.9740732\ttotal: 1.55s\tremaining: 1.27s\n",
      "550:\tlearn: 0.9738481\ttotal: 1.56s\tremaining: 1.27s\n",
      "551:\tlearn: 0.9737735\ttotal: 1.56s\tremaining: 1.27s\n",
      "552:\tlearn: 0.9737639\ttotal: 1.56s\tremaining: 1.26s\n",
      "553:\tlearn: 0.9735489\ttotal: 1.56s\tremaining: 1.26s\n",
      "554:\tlearn: 0.9732946\ttotal: 1.57s\tremaining: 1.26s\n",
      "555:\tlearn: 0.9731094\ttotal: 1.57s\tremaining: 1.25s\n",
      "556:\tlearn: 0.9730663\ttotal: 1.57s\tremaining: 1.25s\n",
      "557:\tlearn: 0.9728550\ttotal: 1.57s\tremaining: 1.25s\n",
      "558:\tlearn: 0.9727640\ttotal: 1.58s\tremaining: 1.25s\n",
      "559:\tlearn: 0.9724811\ttotal: 1.58s\tremaining: 1.24s\n",
      "560:\tlearn: 0.9723134\ttotal: 1.58s\tremaining: 1.24s\n",
      "561:\tlearn: 0.9721959\ttotal: 1.59s\tremaining: 1.24s\n",
      "562:\tlearn: 0.9719919\ttotal: 1.59s\tremaining: 1.23s\n",
      "563:\tlearn: 0.9718296\ttotal: 1.59s\tremaining: 1.23s\n",
      "564:\tlearn: 0.9716354\ttotal: 1.59s\tremaining: 1.23s\n",
      "565:\tlearn: 0.9714587\ttotal: 1.6s\tremaining: 1.22s\n",
      "566:\tlearn: 0.9711799\ttotal: 1.6s\tremaining: 1.22s\n",
      "567:\tlearn: 0.9709798\ttotal: 1.6s\tremaining: 1.22s\n",
      "568:\tlearn: 0.9708086\ttotal: 1.6s\tremaining: 1.21s\n",
      "569:\tlearn: 0.9706551\ttotal: 1.6s\tremaining: 1.21s\n",
      "570:\tlearn: 0.9705522\ttotal: 1.61s\tremaining: 1.21s\n",
      "571:\tlearn: 0.9702910\ttotal: 1.61s\tremaining: 1.2s\n",
      "572:\tlearn: 0.9702048\ttotal: 1.61s\tremaining: 1.2s\n",
      "573:\tlearn: 0.9699644\ttotal: 1.61s\tremaining: 1.2s\n",
      "574:\tlearn: 0.9698705\ttotal: 1.62s\tremaining: 1.2s\n",
      "575:\tlearn: 0.9696554\ttotal: 1.62s\tremaining: 1.19s\n",
      "576:\tlearn: 0.9694457\ttotal: 1.62s\tremaining: 1.19s\n",
      "577:\tlearn: 0.9694356\ttotal: 1.62s\tremaining: 1.19s\n",
      "578:\tlearn: 0.9691679\ttotal: 1.63s\tremaining: 1.18s\n",
      "579:\tlearn: 0.9689757\ttotal: 1.63s\tremaining: 1.18s\n",
      "580:\tlearn: 0.9688354\ttotal: 1.63s\tremaining: 1.18s\n",
      "581:\tlearn: 0.9686612\ttotal: 1.63s\tremaining: 1.17s\n",
      "582:\tlearn: 0.9685183\ttotal: 1.64s\tremaining: 1.17s\n",
      "583:\tlearn: 0.9685129\ttotal: 1.64s\tremaining: 1.17s\n",
      "584:\tlearn: 0.9683022\ttotal: 1.64s\tremaining: 1.16s\n",
      "585:\tlearn: 0.9682887\ttotal: 1.64s\tremaining: 1.16s\n",
      "586:\tlearn: 0.9680841\ttotal: 1.64s\tremaining: 1.16s\n",
      "587:\tlearn: 0.9678617\ttotal: 1.65s\tremaining: 1.15s\n",
      "588:\tlearn: 0.9677659\ttotal: 1.65s\tremaining: 1.15s\n",
      "589:\tlearn: 0.9676281\ttotal: 1.65s\tremaining: 1.15s\n",
      "590:\tlearn: 0.9674855\ttotal: 1.65s\tremaining: 1.14s\n",
      "591:\tlearn: 0.9673388\ttotal: 1.66s\tremaining: 1.14s\n",
      "592:\tlearn: 0.9671902\ttotal: 1.66s\tremaining: 1.14s\n",
      "593:\tlearn: 0.9670170\ttotal: 1.66s\tremaining: 1.13s\n",
      "594:\tlearn: 0.9669133\ttotal: 1.66s\tremaining: 1.13s\n",
      "595:\tlearn: 0.9668650\ttotal: 1.66s\tremaining: 1.13s\n",
      "596:\tlearn: 0.9667564\ttotal: 1.67s\tremaining: 1.13s\n",
      "597:\tlearn: 0.9667233\ttotal: 1.67s\tremaining: 1.12s\n",
      "598:\tlearn: 0.9665269\ttotal: 1.67s\tremaining: 1.12s\n",
      "599:\tlearn: 0.9663017\ttotal: 1.67s\tremaining: 1.12s\n",
      "600:\tlearn: 0.9661186\ttotal: 1.68s\tremaining: 1.11s\n",
      "601:\tlearn: 0.9660281\ttotal: 1.68s\tremaining: 1.11s\n",
      "602:\tlearn: 0.9657317\ttotal: 1.68s\tremaining: 1.11s\n",
      "603:\tlearn: 0.9656989\ttotal: 1.68s\tremaining: 1.1s\n",
      "604:\tlearn: 0.9656249\ttotal: 1.69s\tremaining: 1.1s\n",
      "605:\tlearn: 0.9655404\ttotal: 1.69s\tremaining: 1.1s\n",
      "606:\tlearn: 0.9653637\ttotal: 1.69s\tremaining: 1.09s\n",
      "607:\tlearn: 0.9652048\ttotal: 1.69s\tremaining: 1.09s\n",
      "608:\tlearn: 0.9649777\ttotal: 1.69s\tremaining: 1.09s\n",
      "609:\tlearn: 0.9648535\ttotal: 1.7s\tremaining: 1.08s\n",
      "610:\tlearn: 0.9647248\ttotal: 1.7s\tremaining: 1.08s\n",
      "611:\tlearn: 0.9644980\ttotal: 1.7s\tremaining: 1.08s\n",
      "612:\tlearn: 0.9643772\ttotal: 1.7s\tremaining: 1.07s\n",
      "613:\tlearn: 0.9642718\ttotal: 1.71s\tremaining: 1.07s\n",
      "614:\tlearn: 0.9640988\ttotal: 1.71s\tremaining: 1.07s\n",
      "615:\tlearn: 0.9640132\ttotal: 1.71s\tremaining: 1.07s\n",
      "616:\tlearn: 0.9638711\ttotal: 1.71s\tremaining: 1.06s\n",
      "617:\tlearn: 0.9637105\ttotal: 1.72s\tremaining: 1.06s\n",
      "618:\tlearn: 0.9635439\ttotal: 1.72s\tremaining: 1.06s\n",
      "619:\tlearn: 0.9634638\ttotal: 1.72s\tremaining: 1.05s\n",
      "620:\tlearn: 0.9633381\ttotal: 1.72s\tremaining: 1.05s\n",
      "621:\tlearn: 0.9631668\ttotal: 1.73s\tremaining: 1.05s\n",
      "622:\tlearn: 0.9630353\ttotal: 1.73s\tremaining: 1.05s\n",
      "623:\tlearn: 0.9628932\ttotal: 1.73s\tremaining: 1.04s\n",
      "624:\tlearn: 0.9628310\ttotal: 1.73s\tremaining: 1.04s\n",
      "625:\tlearn: 0.9626967\ttotal: 1.74s\tremaining: 1.04s\n",
      "626:\tlearn: 0.9625588\ttotal: 1.74s\tremaining: 1.03s\n",
      "627:\tlearn: 0.9624484\ttotal: 1.74s\tremaining: 1.03s\n",
      "628:\tlearn: 0.9623235\ttotal: 1.75s\tremaining: 1.03s\n",
      "629:\tlearn: 0.9621904\ttotal: 1.75s\tremaining: 1.03s\n",
      "630:\tlearn: 0.9620818\ttotal: 1.75s\tremaining: 1.02s\n",
      "631:\tlearn: 0.9620581\ttotal: 1.75s\tremaining: 1.02s\n",
      "632:\tlearn: 0.9618756\ttotal: 1.75s\tremaining: 1.02s\n",
      "633:\tlearn: 0.9617841\ttotal: 1.76s\tremaining: 1.01s\n",
      "634:\tlearn: 0.9617534\ttotal: 1.76s\tremaining: 1.01s\n",
      "635:\tlearn: 0.9616058\ttotal: 1.76s\tremaining: 1.01s\n",
      "636:\tlearn: 0.9614984\ttotal: 1.76s\tremaining: 1s\n",
      "637:\tlearn: 0.9612783\ttotal: 1.77s\tremaining: 1s\n",
      "638:\tlearn: 0.9611661\ttotal: 1.77s\tremaining: 999ms\n",
      "639:\tlearn: 0.9610507\ttotal: 1.77s\tremaining: 996ms\n",
      "640:\tlearn: 0.9609339\ttotal: 1.77s\tremaining: 993ms\n",
      "641:\tlearn: 0.9606994\ttotal: 1.77s\tremaining: 990ms\n",
      "642:\tlearn: 0.9606161\ttotal: 1.78s\tremaining: 987ms\n",
      "643:\tlearn: 0.9606124\ttotal: 1.78s\tremaining: 984ms\n",
      "644:\tlearn: 0.9604886\ttotal: 1.78s\tremaining: 981ms\n",
      "645:\tlearn: 0.9604637\ttotal: 1.78s\tremaining: 978ms\n",
      "646:\tlearn: 0.9602744\ttotal: 1.79s\tremaining: 975ms\n",
      "647:\tlearn: 0.9600280\ttotal: 1.79s\tremaining: 972ms\n",
      "648:\tlearn: 0.9599105\ttotal: 1.79s\tremaining: 969ms\n",
      "649:\tlearn: 0.9596912\ttotal: 1.79s\tremaining: 966ms\n",
      "650:\tlearn: 0.9595192\ttotal: 1.8s\tremaining: 963ms\n",
      "651:\tlearn: 0.9594490\ttotal: 1.8s\tremaining: 960ms\n",
      "652:\tlearn: 0.9592565\ttotal: 1.8s\tremaining: 957ms\n",
      "653:\tlearn: 0.9590863\ttotal: 1.8s\tremaining: 954ms\n",
      "654:\tlearn: 0.9590803\ttotal: 1.8s\tremaining: 951ms\n",
      "655:\tlearn: 0.9589309\ttotal: 1.81s\tremaining: 948ms\n",
      "656:\tlearn: 0.9588879\ttotal: 1.81s\tremaining: 945ms\n",
      "657:\tlearn: 0.9586820\ttotal: 1.81s\tremaining: 942ms\n",
      "658:\tlearn: 0.9584920\ttotal: 1.81s\tremaining: 939ms\n",
      "659:\tlearn: 0.9583544\ttotal: 1.82s\tremaining: 936ms\n",
      "660:\tlearn: 0.9581826\ttotal: 1.82s\tremaining: 933ms\n",
      "661:\tlearn: 0.9580202\ttotal: 1.82s\tremaining: 930ms\n",
      "662:\tlearn: 0.9578107\ttotal: 1.82s\tremaining: 927ms\n",
      "663:\tlearn: 0.9578088\ttotal: 1.82s\tremaining: 924ms\n",
      "664:\tlearn: 0.9577552\ttotal: 1.83s\tremaining: 921ms\n",
      "665:\tlearn: 0.9575695\ttotal: 1.83s\tremaining: 918ms\n",
      "666:\tlearn: 0.9574242\ttotal: 1.83s\tremaining: 915ms\n",
      "667:\tlearn: 0.9572465\ttotal: 1.83s\tremaining: 912ms\n",
      "668:\tlearn: 0.9571640\ttotal: 1.84s\tremaining: 909ms\n",
      "669:\tlearn: 0.9569583\ttotal: 1.84s\tremaining: 906ms\n",
      "670:\tlearn: 0.9567963\ttotal: 1.84s\tremaining: 903ms\n",
      "671:\tlearn: 0.9566257\ttotal: 1.84s\tremaining: 900ms\n",
      "672:\tlearn: 0.9565073\ttotal: 1.85s\tremaining: 897ms\n",
      "673:\tlearn: 0.9562678\ttotal: 1.85s\tremaining: 894ms\n",
      "674:\tlearn: 0.9561967\ttotal: 1.85s\tremaining: 891ms\n",
      "675:\tlearn: 0.9560675\ttotal: 1.85s\tremaining: 888ms\n",
      "676:\tlearn: 0.9557946\ttotal: 1.85s\tremaining: 885ms\n",
      "677:\tlearn: 0.9557143\ttotal: 1.86s\tremaining: 882ms\n",
      "678:\tlearn: 0.9554919\ttotal: 1.86s\tremaining: 879ms\n",
      "679:\tlearn: 0.9553883\ttotal: 1.86s\tremaining: 876ms\n",
      "680:\tlearn: 0.9552872\ttotal: 1.86s\tremaining: 874ms\n",
      "681:\tlearn: 0.9551867\ttotal: 1.87s\tremaining: 871ms\n",
      "682:\tlearn: 0.9550476\ttotal: 1.87s\tremaining: 868ms\n",
      "683:\tlearn: 0.9548141\ttotal: 1.87s\tremaining: 865ms\n",
      "684:\tlearn: 0.9545763\ttotal: 1.88s\tremaining: 862ms\n",
      "685:\tlearn: 0.9544302\ttotal: 1.88s\tremaining: 860ms\n",
      "686:\tlearn: 0.9543208\ttotal: 1.88s\tremaining: 857ms\n",
      "687:\tlearn: 0.9540814\ttotal: 1.88s\tremaining: 854ms\n",
      "688:\tlearn: 0.9539193\ttotal: 1.89s\tremaining: 851ms\n",
      "689:\tlearn: 0.9537745\ttotal: 1.89s\tremaining: 849ms\n",
      "690:\tlearn: 0.9535941\ttotal: 1.89s\tremaining: 846ms\n",
      "691:\tlearn: 0.9535120\ttotal: 1.89s\tremaining: 843ms\n",
      "692:\tlearn: 0.9534248\ttotal: 1.9s\tremaining: 840ms\n",
      "693:\tlearn: 0.9532568\ttotal: 1.9s\tremaining: 837ms\n",
      "694:\tlearn: 0.9530579\ttotal: 1.9s\tremaining: 834ms\n",
      "695:\tlearn: 0.9528420\ttotal: 1.9s\tremaining: 831ms\n",
      "696:\tlearn: 0.9526981\ttotal: 1.91s\tremaining: 828ms\n",
      "697:\tlearn: 0.9524194\ttotal: 1.91s\tremaining: 825ms\n",
      "698:\tlearn: 0.9523070\ttotal: 1.91s\tremaining: 822ms\n",
      "699:\tlearn: 0.9521674\ttotal: 1.91s\tremaining: 820ms\n",
      "700:\tlearn: 0.9520590\ttotal: 1.91s\tremaining: 817ms\n",
      "701:\tlearn: 0.9518297\ttotal: 1.92s\tremaining: 814ms\n",
      "702:\tlearn: 0.9516348\ttotal: 1.92s\tremaining: 811ms\n",
      "703:\tlearn: 0.9515577\ttotal: 1.92s\tremaining: 808ms\n",
      "704:\tlearn: 0.9514919\ttotal: 1.92s\tremaining: 805ms\n",
      "705:\tlearn: 0.9513879\ttotal: 1.93s\tremaining: 802ms\n",
      "706:\tlearn: 0.9512742\ttotal: 1.93s\tremaining: 799ms\n",
      "707:\tlearn: 0.9511344\ttotal: 1.93s\tremaining: 796ms\n",
      "708:\tlearn: 0.9509962\ttotal: 1.93s\tremaining: 793ms\n",
      "709:\tlearn: 0.9508584\ttotal: 1.94s\tremaining: 791ms\n",
      "710:\tlearn: 0.9506606\ttotal: 1.94s\tremaining: 788ms\n",
      "711:\tlearn: 0.9505410\ttotal: 1.94s\tremaining: 785ms\n",
      "712:\tlearn: 0.9503895\ttotal: 1.94s\tremaining: 782ms\n",
      "713:\tlearn: 0.9502311\ttotal: 1.94s\tremaining: 779ms\n",
      "714:\tlearn: 0.9501508\ttotal: 1.95s\tremaining: 776ms\n",
      "715:\tlearn: 0.9501008\ttotal: 1.95s\tremaining: 773ms\n",
      "716:\tlearn: 0.9499314\ttotal: 1.95s\tremaining: 770ms\n",
      "717:\tlearn: 0.9499103\ttotal: 1.95s\tremaining: 767ms\n",
      "718:\tlearn: 0.9498545\ttotal: 1.96s\tremaining: 765ms\n",
      "719:\tlearn: 0.9496649\ttotal: 1.96s\tremaining: 762ms\n",
      "720:\tlearn: 0.9494681\ttotal: 1.96s\tremaining: 759ms\n",
      "721:\tlearn: 0.9493451\ttotal: 1.96s\tremaining: 756ms\n",
      "722:\tlearn: 0.9491830\ttotal: 1.97s\tremaining: 753ms\n",
      "723:\tlearn: 0.9490419\ttotal: 1.97s\tremaining: 750ms\n",
      "724:\tlearn: 0.9489720\ttotal: 1.97s\tremaining: 747ms\n",
      "725:\tlearn: 0.9488725\ttotal: 1.97s\tremaining: 744ms\n",
      "726:\tlearn: 0.9487989\ttotal: 1.97s\tremaining: 741ms\n",
      "727:\tlearn: 0.9486532\ttotal: 1.98s\tremaining: 739ms\n",
      "728:\tlearn: 0.9485203\ttotal: 1.98s\tremaining: 736ms\n",
      "729:\tlearn: 0.9482867\ttotal: 1.98s\tremaining: 733ms\n",
      "730:\tlearn: 0.9481083\ttotal: 1.98s\tremaining: 730ms\n",
      "731:\tlearn: 0.9480980\ttotal: 1.99s\tremaining: 727ms\n",
      "732:\tlearn: 0.9477976\ttotal: 1.99s\tremaining: 724ms\n",
      "733:\tlearn: 0.9476246\ttotal: 1.99s\tremaining: 721ms\n",
      "734:\tlearn: 0.9475598\ttotal: 1.99s\tremaining: 718ms\n",
      "735:\tlearn: 0.9474190\ttotal: 2s\tremaining: 716ms\n",
      "736:\tlearn: 0.9474171\ttotal: 2s\tremaining: 713ms\n",
      "737:\tlearn: 0.9472653\ttotal: 2s\tremaining: 710ms\n",
      "738:\tlearn: 0.9471905\ttotal: 2s\tremaining: 707ms\n",
      "739:\tlearn: 0.9471241\ttotal: 2s\tremaining: 704ms\n",
      "740:\tlearn: 0.9470157\ttotal: 2.01s\tremaining: 701ms\n",
      "741:\tlearn: 0.9469916\ttotal: 2.01s\tremaining: 699ms\n",
      "742:\tlearn: 0.9469882\ttotal: 2.01s\tremaining: 696ms\n",
      "743:\tlearn: 0.9468917\ttotal: 2.01s\tremaining: 693ms\n",
      "744:\tlearn: 0.9467411\ttotal: 2.02s\tremaining: 690ms\n",
      "745:\tlearn: 0.9466482\ttotal: 2.02s\tremaining: 688ms\n"
     ]
    },
    {
     "name": "stdout",
     "output_type": "stream",
     "text": [
      "746:\tlearn: 0.9466063\ttotal: 2.02s\tremaining: 685ms\n",
      "747:\tlearn: 0.9466042\ttotal: 2.02s\tremaining: 682ms\n",
      "748:\tlearn: 0.9465426\ttotal: 2.03s\tremaining: 679ms\n",
      "749:\tlearn: 0.9464732\ttotal: 2.03s\tremaining: 677ms\n",
      "750:\tlearn: 0.9463817\ttotal: 2.03s\tremaining: 674ms\n",
      "751:\tlearn: 0.9462765\ttotal: 2.04s\tremaining: 671ms\n",
      "752:\tlearn: 0.9461433\ttotal: 2.04s\tremaining: 668ms\n",
      "753:\tlearn: 0.9459875\ttotal: 2.04s\tremaining: 666ms\n",
      "754:\tlearn: 0.9458716\ttotal: 2.04s\tremaining: 663ms\n",
      "755:\tlearn: 0.9456838\ttotal: 2.04s\tremaining: 660ms\n",
      "756:\tlearn: 0.9454686\ttotal: 2.05s\tremaining: 657ms\n",
      "757:\tlearn: 0.9454631\ttotal: 2.05s\tremaining: 655ms\n",
      "758:\tlearn: 0.9453546\ttotal: 2.05s\tremaining: 652ms\n",
      "759:\tlearn: 0.9451523\ttotal: 2.06s\tremaining: 649ms\n",
      "760:\tlearn: 0.9450997\ttotal: 2.06s\tremaining: 646ms\n",
      "761:\tlearn: 0.9449422\ttotal: 2.06s\tremaining: 644ms\n",
      "762:\tlearn: 0.9448496\ttotal: 2.06s\tremaining: 641ms\n",
      "763:\tlearn: 0.9445913\ttotal: 2.07s\tremaining: 638ms\n",
      "764:\tlearn: 0.9444197\ttotal: 2.07s\tremaining: 636ms\n",
      "765:\tlearn: 0.9443652\ttotal: 2.07s\tremaining: 633ms\n",
      "766:\tlearn: 0.9442222\ttotal: 2.07s\tremaining: 630ms\n",
      "767:\tlearn: 0.9441545\ttotal: 2.08s\tremaining: 627ms\n",
      "768:\tlearn: 0.9440522\ttotal: 2.08s\tremaining: 625ms\n",
      "769:\tlearn: 0.9439335\ttotal: 2.08s\tremaining: 622ms\n",
      "770:\tlearn: 0.9437897\ttotal: 2.08s\tremaining: 619ms\n",
      "771:\tlearn: 0.9435875\ttotal: 2.09s\tremaining: 617ms\n",
      "772:\tlearn: 0.9434340\ttotal: 2.09s\tremaining: 614ms\n",
      "773:\tlearn: 0.9433427\ttotal: 2.09s\tremaining: 611ms\n",
      "774:\tlearn: 0.9433304\ttotal: 2.1s\tremaining: 608ms\n",
      "775:\tlearn: 0.9432574\ttotal: 2.1s\tremaining: 606ms\n",
      "776:\tlearn: 0.9430991\ttotal: 2.1s\tremaining: 603ms\n",
      "777:\tlearn: 0.9429906\ttotal: 2.1s\tremaining: 600ms\n",
      "778:\tlearn: 0.9429111\ttotal: 2.1s\tremaining: 597ms\n",
      "779:\tlearn: 0.9427985\ttotal: 2.11s\tremaining: 595ms\n",
      "780:\tlearn: 0.9425843\ttotal: 2.11s\tremaining: 592ms\n",
      "781:\tlearn: 0.9424611\ttotal: 2.11s\tremaining: 589ms\n",
      "782:\tlearn: 0.9423556\ttotal: 2.12s\tremaining: 587ms\n",
      "783:\tlearn: 0.9422144\ttotal: 2.12s\tremaining: 584ms\n",
      "784:\tlearn: 0.9420834\ttotal: 2.12s\tremaining: 582ms\n",
      "785:\tlearn: 0.9420685\ttotal: 2.13s\tremaining: 579ms\n",
      "786:\tlearn: 0.9419915\ttotal: 2.13s\tremaining: 576ms\n",
      "787:\tlearn: 0.9418340\ttotal: 2.13s\tremaining: 574ms\n",
      "788:\tlearn: 0.9417410\ttotal: 2.13s\tremaining: 571ms\n",
      "789:\tlearn: 0.9415877\ttotal: 2.14s\tremaining: 568ms\n",
      "790:\tlearn: 0.9415749\ttotal: 2.14s\tremaining: 565ms\n",
      "791:\tlearn: 0.9414296\ttotal: 2.14s\tremaining: 563ms\n",
      "792:\tlearn: 0.9412128\ttotal: 2.15s\tremaining: 560ms\n",
      "793:\tlearn: 0.9410033\ttotal: 2.15s\tremaining: 558ms\n",
      "794:\tlearn: 0.9407652\ttotal: 2.15s\tremaining: 555ms\n",
      "795:\tlearn: 0.9406285\ttotal: 2.15s\tremaining: 552ms\n",
      "796:\tlearn: 0.9404394\ttotal: 2.16s\tremaining: 550ms\n",
      "797:\tlearn: 0.9403060\ttotal: 2.16s\tremaining: 547ms\n",
      "798:\tlearn: 0.9401018\ttotal: 2.16s\tremaining: 544ms\n",
      "799:\tlearn: 0.9400262\ttotal: 2.17s\tremaining: 542ms\n",
      "800:\tlearn: 0.9398762\ttotal: 2.17s\tremaining: 539ms\n",
      "801:\tlearn: 0.9397846\ttotal: 2.17s\tremaining: 536ms\n",
      "802:\tlearn: 0.9397281\ttotal: 2.17s\tremaining: 534ms\n",
      "803:\tlearn: 0.9395559\ttotal: 2.18s\tremaining: 531ms\n",
      "804:\tlearn: 0.9394233\ttotal: 2.18s\tremaining: 528ms\n",
      "805:\tlearn: 0.9393445\ttotal: 2.18s\tremaining: 526ms\n",
      "806:\tlearn: 0.9392041\ttotal: 2.19s\tremaining: 523ms\n",
      "807:\tlearn: 0.9391602\ttotal: 2.19s\tremaining: 521ms\n",
      "808:\tlearn: 0.9389804\ttotal: 2.19s\tremaining: 518ms\n",
      "809:\tlearn: 0.9387962\ttotal: 2.2s\tremaining: 515ms\n",
      "810:\tlearn: 0.9385912\ttotal: 2.2s\tremaining: 513ms\n",
      "811:\tlearn: 0.9384475\ttotal: 2.2s\tremaining: 510ms\n",
      "812:\tlearn: 0.9383889\ttotal: 2.21s\tremaining: 507ms\n",
      "813:\tlearn: 0.9382462\ttotal: 2.21s\tremaining: 505ms\n",
      "814:\tlearn: 0.9381265\ttotal: 2.21s\tremaining: 502ms\n",
      "815:\tlearn: 0.9380012\ttotal: 2.22s\tremaining: 500ms\n",
      "816:\tlearn: 0.9378672\ttotal: 2.22s\tremaining: 497ms\n",
      "817:\tlearn: 0.9377854\ttotal: 2.22s\tremaining: 494ms\n",
      "818:\tlearn: 0.9376845\ttotal: 2.22s\tremaining: 491ms\n",
      "819:\tlearn: 0.9375221\ttotal: 2.23s\tremaining: 489ms\n",
      "820:\tlearn: 0.9374190\ttotal: 2.23s\tremaining: 486ms\n",
      "821:\tlearn: 0.9373410\ttotal: 2.23s\tremaining: 483ms\n",
      "822:\tlearn: 0.9371893\ttotal: 2.23s\tremaining: 481ms\n",
      "823:\tlearn: 0.9371580\ttotal: 2.24s\tremaining: 478ms\n",
      "824:\tlearn: 0.9370001\ttotal: 2.24s\tremaining: 475ms\n",
      "825:\tlearn: 0.9367333\ttotal: 2.24s\tremaining: 473ms\n",
      "826:\tlearn: 0.9365693\ttotal: 2.25s\tremaining: 470ms\n",
      "827:\tlearn: 0.9364679\ttotal: 2.25s\tremaining: 467ms\n",
      "828:\tlearn: 0.9364605\ttotal: 2.25s\tremaining: 465ms\n",
      "829:\tlearn: 0.9363444\ttotal: 2.26s\tremaining: 462ms\n",
      "830:\tlearn: 0.9363154\ttotal: 2.26s\tremaining: 460ms\n",
      "831:\tlearn: 0.9362518\ttotal: 2.26s\tremaining: 457ms\n",
      "832:\tlearn: 0.9360757\ttotal: 2.27s\tremaining: 454ms\n",
      "833:\tlearn: 0.9359252\ttotal: 2.27s\tremaining: 452ms\n",
      "834:\tlearn: 0.9358052\ttotal: 2.27s\tremaining: 449ms\n",
      "835:\tlearn: 0.9357345\ttotal: 2.28s\tremaining: 447ms\n",
      "836:\tlearn: 0.9356886\ttotal: 2.28s\tremaining: 444ms\n",
      "837:\tlearn: 0.9356211\ttotal: 2.28s\tremaining: 441ms\n",
      "838:\tlearn: 0.9355203\ttotal: 2.29s\tremaining: 439ms\n",
      "839:\tlearn: 0.9354279\ttotal: 2.29s\tremaining: 436ms\n",
      "840:\tlearn: 0.9352261\ttotal: 2.29s\tremaining: 433ms\n",
      "841:\tlearn: 0.9351485\ttotal: 2.29s\tremaining: 431ms\n",
      "842:\tlearn: 0.9350917\ttotal: 2.3s\tremaining: 428ms\n",
      "843:\tlearn: 0.9349058\ttotal: 2.3s\tremaining: 425ms\n",
      "844:\tlearn: 0.9347998\ttotal: 2.3s\tremaining: 423ms\n",
      "845:\tlearn: 0.9347047\ttotal: 2.31s\tremaining: 420ms\n",
      "846:\tlearn: 0.9345354\ttotal: 2.31s\tremaining: 418ms\n",
      "847:\tlearn: 0.9344090\ttotal: 2.31s\tremaining: 415ms\n",
      "848:\tlearn: 0.9343027\ttotal: 2.32s\tremaining: 412ms\n",
      "849:\tlearn: 0.9342078\ttotal: 2.32s\tremaining: 410ms\n",
      "850:\tlearn: 0.9341583\ttotal: 2.32s\tremaining: 407ms\n",
      "851:\tlearn: 0.9341112\ttotal: 2.34s\tremaining: 407ms\n",
      "852:\tlearn: 0.9340180\ttotal: 2.35s\tremaining: 405ms\n",
      "853:\tlearn: 0.9338758\ttotal: 2.35s\tremaining: 402ms\n",
      "854:\tlearn: 0.9337245\ttotal: 2.35s\tremaining: 399ms\n",
      "855:\tlearn: 0.9337148\ttotal: 2.36s\tremaining: 397ms\n",
      "856:\tlearn: 0.9336074\ttotal: 2.36s\tremaining: 394ms\n",
      "857:\tlearn: 0.9335200\ttotal: 2.36s\tremaining: 391ms\n",
      "858:\tlearn: 0.9334561\ttotal: 2.36s\tremaining: 388ms\n",
      "859:\tlearn: 0.9333828\ttotal: 2.37s\tremaining: 385ms\n",
      "860:\tlearn: 0.9331979\ttotal: 2.37s\tremaining: 383ms\n",
      "861:\tlearn: 0.9330667\ttotal: 2.37s\tremaining: 380ms\n",
      "862:\tlearn: 0.9328701\ttotal: 2.38s\tremaining: 377ms\n",
      "863:\tlearn: 0.9326607\ttotal: 2.38s\tremaining: 374ms\n",
      "864:\tlearn: 0.9325204\ttotal: 2.38s\tremaining: 372ms\n",
      "865:\tlearn: 0.9325116\ttotal: 2.38s\tremaining: 369ms\n",
      "866:\tlearn: 0.9324325\ttotal: 2.38s\tremaining: 366ms\n",
      "867:\tlearn: 0.9323776\ttotal: 2.39s\tremaining: 363ms\n",
      "868:\tlearn: 0.9322413\ttotal: 2.39s\tremaining: 360ms\n",
      "869:\tlearn: 0.9321791\ttotal: 2.39s\tremaining: 357ms\n",
      "870:\tlearn: 0.9320213\ttotal: 2.39s\tremaining: 355ms\n",
      "871:\tlearn: 0.9319794\ttotal: 2.4s\tremaining: 352ms\n",
      "872:\tlearn: 0.9318136\ttotal: 2.4s\tremaining: 349ms\n",
      "873:\tlearn: 0.9316072\ttotal: 2.4s\tremaining: 346ms\n",
      "874:\tlearn: 0.9314760\ttotal: 2.4s\tremaining: 344ms\n",
      "875:\tlearn: 0.9313938\ttotal: 2.41s\tremaining: 341ms\n",
      "876:\tlearn: 0.9313898\ttotal: 2.41s\tremaining: 338ms\n",
      "877:\tlearn: 0.9313104\ttotal: 2.41s\tremaining: 335ms\n",
      "878:\tlearn: 0.9312597\ttotal: 2.41s\tremaining: 332ms\n",
      "879:\tlearn: 0.9310948\ttotal: 2.42s\tremaining: 330ms\n",
      "880:\tlearn: 0.9310256\ttotal: 2.42s\tremaining: 327ms\n",
      "881:\tlearn: 0.9309211\ttotal: 2.42s\tremaining: 324ms\n",
      "882:\tlearn: 0.9308380\ttotal: 2.42s\tremaining: 321ms\n",
      "883:\tlearn: 0.9306963\ttotal: 2.42s\tremaining: 318ms\n",
      "884:\tlearn: 0.9305767\ttotal: 2.43s\tremaining: 316ms\n",
      "885:\tlearn: 0.9304380\ttotal: 2.43s\tremaining: 313ms\n",
      "886:\tlearn: 0.9304223\ttotal: 2.43s\tremaining: 310ms\n",
      "887:\tlearn: 0.9303827\ttotal: 2.43s\tremaining: 307ms\n",
      "888:\tlearn: 0.9303462\ttotal: 2.44s\tremaining: 304ms\n",
      "889:\tlearn: 0.9302285\ttotal: 2.44s\tremaining: 301ms\n",
      "890:\tlearn: 0.9301406\ttotal: 2.44s\tremaining: 299ms\n",
      "891:\tlearn: 0.9301275\ttotal: 2.44s\tremaining: 296ms\n",
      "892:\tlearn: 0.9299829\ttotal: 2.44s\tremaining: 293ms\n",
      "893:\tlearn: 0.9298730\ttotal: 2.45s\tremaining: 290ms\n",
      "894:\tlearn: 0.9296892\ttotal: 2.45s\tremaining: 287ms\n",
      "895:\tlearn: 0.9295379\ttotal: 2.45s\tremaining: 285ms\n",
      "896:\tlearn: 0.9295092\ttotal: 2.45s\tremaining: 282ms\n",
      "897:\tlearn: 0.9293093\ttotal: 2.46s\tremaining: 279ms\n",
      "898:\tlearn: 0.9291308\ttotal: 2.46s\tremaining: 276ms\n",
      "899:\tlearn: 0.9290778\ttotal: 2.46s\tremaining: 273ms\n",
      "900:\tlearn: 0.9289937\ttotal: 2.46s\tremaining: 271ms\n",
      "901:\tlearn: 0.9289056\ttotal: 2.46s\tremaining: 268ms\n",
      "902:\tlearn: 0.9287626\ttotal: 2.47s\tremaining: 265ms\n",
      "903:\tlearn: 0.9285848\ttotal: 2.47s\tremaining: 262ms\n",
      "904:\tlearn: 0.9284226\ttotal: 2.47s\tremaining: 260ms\n",
      "905:\tlearn: 0.9282852\ttotal: 2.47s\tremaining: 257ms\n",
      "906:\tlearn: 0.9281351\ttotal: 2.48s\tremaining: 254ms\n",
      "907:\tlearn: 0.9280598\ttotal: 2.48s\tremaining: 251ms\n",
      "908:\tlearn: 0.9280124\ttotal: 2.48s\tremaining: 248ms\n",
      "909:\tlearn: 0.9278978\ttotal: 2.48s\tremaining: 246ms\n",
      "910:\tlearn: 0.9277642\ttotal: 2.49s\tremaining: 243ms\n",
      "911:\tlearn: 0.9276126\ttotal: 2.49s\tremaining: 240ms\n",
      "912:\tlearn: 0.9274772\ttotal: 2.49s\tremaining: 237ms\n",
      "913:\tlearn: 0.9274477\ttotal: 2.49s\tremaining: 235ms\n",
      "914:\tlearn: 0.9273708\ttotal: 2.5s\tremaining: 232ms\n",
      "915:\tlearn: 0.9272147\ttotal: 2.5s\tremaining: 229ms\n",
      "916:\tlearn: 0.9271006\ttotal: 2.5s\tremaining: 226ms\n",
      "917:\tlearn: 0.9270599\ttotal: 2.5s\tremaining: 223ms\n",
      "918:\tlearn: 0.9268796\ttotal: 2.5s\tremaining: 221ms\n"
     ]
    },
    {
     "name": "stdout",
     "output_type": "stream",
     "text": [
      "919:\tlearn: 0.9267471\ttotal: 2.51s\tremaining: 218ms\n",
      "920:\tlearn: 0.9265952\ttotal: 2.51s\tremaining: 215ms\n",
      "921:\tlearn: 0.9265182\ttotal: 2.51s\tremaining: 213ms\n",
      "922:\tlearn: 0.9264283\ttotal: 2.51s\tremaining: 210ms\n",
      "923:\tlearn: 0.9263816\ttotal: 2.52s\tremaining: 207ms\n",
      "924:\tlearn: 0.9262379\ttotal: 2.52s\tremaining: 204ms\n",
      "925:\tlearn: 0.9261389\ttotal: 2.52s\tremaining: 201ms\n",
      "926:\tlearn: 0.9260258\ttotal: 2.52s\tremaining: 199ms\n",
      "927:\tlearn: 0.9259165\ttotal: 2.53s\tremaining: 196ms\n",
      "928:\tlearn: 0.9258610\ttotal: 2.53s\tremaining: 193ms\n",
      "929:\tlearn: 0.9257969\ttotal: 2.53s\tremaining: 191ms\n",
      "930:\tlearn: 0.9257198\ttotal: 2.53s\tremaining: 188ms\n",
      "931:\tlearn: 0.9256681\ttotal: 2.54s\tremaining: 185ms\n",
      "932:\tlearn: 0.9255762\ttotal: 2.54s\tremaining: 182ms\n",
      "933:\tlearn: 0.9255362\ttotal: 2.54s\tremaining: 180ms\n",
      "934:\tlearn: 0.9254000\ttotal: 2.54s\tremaining: 177ms\n",
      "935:\tlearn: 0.9253559\ttotal: 2.55s\tremaining: 174ms\n",
      "936:\tlearn: 0.9252162\ttotal: 2.55s\tremaining: 171ms\n",
      "937:\tlearn: 0.9251593\ttotal: 2.55s\tremaining: 169ms\n",
      "938:\tlearn: 0.9250344\ttotal: 2.55s\tremaining: 166ms\n",
      "939:\tlearn: 0.9248567\ttotal: 2.56s\tremaining: 163ms\n",
      "940:\tlearn: 0.9247089\ttotal: 2.56s\tremaining: 160ms\n",
      "941:\tlearn: 0.9244825\ttotal: 2.56s\tremaining: 158ms\n",
      "942:\tlearn: 0.9243479\ttotal: 2.56s\tremaining: 155ms\n",
      "943:\tlearn: 0.9242809\ttotal: 2.57s\tremaining: 152ms\n",
      "944:\tlearn: 0.9241583\ttotal: 2.57s\tremaining: 150ms\n",
      "945:\tlearn: 0.9240801\ttotal: 2.57s\tremaining: 147ms\n",
      "946:\tlearn: 0.9239647\ttotal: 2.57s\tremaining: 144ms\n",
      "947:\tlearn: 0.9237311\ttotal: 2.58s\tremaining: 141ms\n",
      "948:\tlearn: 0.9237285\ttotal: 2.58s\tremaining: 139ms\n",
      "949:\tlearn: 0.9237220\ttotal: 2.58s\tremaining: 136ms\n",
      "950:\tlearn: 0.9236261\ttotal: 2.58s\tremaining: 133ms\n",
      "951:\tlearn: 0.9236191\ttotal: 2.58s\tremaining: 130ms\n",
      "952:\tlearn: 0.9235365\ttotal: 2.59s\tremaining: 128ms\n",
      "953:\tlearn: 0.9235305\ttotal: 2.59s\tremaining: 125ms\n",
      "954:\tlearn: 0.9233817\ttotal: 2.59s\tremaining: 122ms\n",
      "955:\tlearn: 0.9233026\ttotal: 2.59s\tremaining: 119ms\n",
      "956:\tlearn: 0.9231866\ttotal: 2.6s\tremaining: 117ms\n",
      "957:\tlearn: 0.9230370\ttotal: 2.6s\tremaining: 114ms\n",
      "958:\tlearn: 0.9228781\ttotal: 2.6s\tremaining: 111ms\n",
      "959:\tlearn: 0.9228117\ttotal: 2.6s\tremaining: 108ms\n",
      "960:\tlearn: 0.9228067\ttotal: 2.6s\tremaining: 106ms\n",
      "961:\tlearn: 0.9227077\ttotal: 2.61s\tremaining: 103ms\n",
      "962:\tlearn: 0.9226747\ttotal: 2.61s\tremaining: 100ms\n",
      "963:\tlearn: 0.9225899\ttotal: 2.61s\tremaining: 97.5ms\n",
      "964:\tlearn: 0.9224396\ttotal: 2.61s\tremaining: 94.8ms\n",
      "965:\tlearn: 0.9223924\ttotal: 2.62s\tremaining: 92.1ms\n",
      "966:\tlearn: 0.9223438\ttotal: 2.62s\tremaining: 89.3ms\n",
      "967:\tlearn: 0.9222053\ttotal: 2.62s\tremaining: 86.6ms\n",
      "968:\tlearn: 0.9221687\ttotal: 2.62s\tremaining: 83.9ms\n",
      "969:\tlearn: 0.9220973\ttotal: 2.62s\tremaining: 81.2ms\n",
      "970:\tlearn: 0.9220332\ttotal: 2.63s\tremaining: 78.4ms\n",
      "971:\tlearn: 0.9220067\ttotal: 2.63s\tremaining: 75.7ms\n",
      "972:\tlearn: 0.9219266\ttotal: 2.63s\tremaining: 73ms\n",
      "973:\tlearn: 0.9218290\ttotal: 2.63s\tremaining: 70.3ms\n",
      "974:\tlearn: 0.9217245\ttotal: 2.63s\tremaining: 67.6ms\n",
      "975:\tlearn: 0.9216186\ttotal: 2.64s\tremaining: 64.9ms\n",
      "976:\tlearn: 0.9215476\ttotal: 2.64s\tremaining: 62.1ms\n",
      "977:\tlearn: 0.9214932\ttotal: 2.64s\tremaining: 59.4ms\n",
      "978:\tlearn: 0.9213659\ttotal: 2.64s\tremaining: 56.7ms\n",
      "979:\tlearn: 0.9212887\ttotal: 2.65s\tremaining: 54ms\n",
      "980:\tlearn: 0.9211613\ttotal: 2.65s\tremaining: 51.3ms\n",
      "981:\tlearn: 0.9210823\ttotal: 2.65s\tremaining: 48.6ms\n",
      "982:\tlearn: 0.9210178\ttotal: 2.65s\tremaining: 45.9ms\n",
      "983:\tlearn: 0.9209829\ttotal: 2.66s\tremaining: 43.2ms\n",
      "984:\tlearn: 0.9209033\ttotal: 2.66s\tremaining: 40.5ms\n",
      "985:\tlearn: 0.9207721\ttotal: 2.66s\tremaining: 37.8ms\n",
      "986:\tlearn: 0.9207183\ttotal: 2.66s\tremaining: 35.1ms\n",
      "987:\tlearn: 0.9206470\ttotal: 2.67s\tremaining: 32.4ms\n",
      "988:\tlearn: 0.9205062\ttotal: 2.67s\tremaining: 29.7ms\n",
      "989:\tlearn: 0.9203563\ttotal: 2.67s\tremaining: 27ms\n",
      "990:\tlearn: 0.9202407\ttotal: 2.67s\tremaining: 24.3ms\n",
      "991:\tlearn: 0.9201534\ttotal: 2.68s\tremaining: 21.6ms\n",
      "992:\tlearn: 0.9200468\ttotal: 2.68s\tremaining: 18.9ms\n",
      "993:\tlearn: 0.9199419\ttotal: 2.68s\tremaining: 16.2ms\n",
      "994:\tlearn: 0.9198594\ttotal: 2.68s\tremaining: 13.5ms\n",
      "995:\tlearn: 0.9197622\ttotal: 2.69s\tremaining: 10.8ms\n",
      "996:\tlearn: 0.9196109\ttotal: 2.69s\tremaining: 8.09ms\n",
      "997:\tlearn: 0.9195694\ttotal: 2.69s\tremaining: 5.39ms\n",
      "998:\tlearn: 0.9195032\ttotal: 2.69s\tremaining: 2.7ms\n",
      "999:\tlearn: 0.9194296\ttotal: 2.7s\tremaining: 0us\n"
     ]
    },
    {
     "data": {
      "text/plain": [
       "<catboost.core.CatBoostRegressor at 0x20169b109c8>"
      ]
     },
     "execution_count": 40,
     "metadata": {},
     "output_type": "execute_result"
    }
   ],
   "source": [
    "model = CatBoostRegressor()\n",
    "model.fit(X_train,y_train)"
   ]
  },
  {
   "cell_type": "code",
   "execution_count": 41,
   "metadata": {},
   "outputs": [],
   "source": [
    "pred = model.predict(X_test)"
   ]
  },
  {
   "cell_type": "code",
   "execution_count": 42,
   "metadata": {},
   "outputs": [],
   "source": [
    "pred = np.e**pred"
   ]
  },
  {
   "cell_type": "code",
   "execution_count": 43,
   "metadata": {},
   "outputs": [],
   "source": [
    "score = r2_score(y_test, pred)"
   ]
  },
  {
   "cell_type": "code",
   "execution_count": 44,
   "metadata": {},
   "outputs": [
    {
     "data": {
      "text/plain": [
       "0.012330005715776915"
      ]
     },
     "execution_count": 44,
     "metadata": {},
     "output_type": "execute_result"
    }
   ],
   "source": [
    "score"
   ]
  },
  {
   "cell_type": "code",
   "execution_count": null,
   "metadata": {},
   "outputs": [],
   "source": []
  },
  {
   "cell_type": "code",
   "execution_count": null,
   "metadata": {},
   "outputs": [],
   "source": []
  },
  {
   "cell_type": "code",
   "execution_count": null,
   "metadata": {},
   "outputs": [],
   "source": []
  },
  {
   "cell_type": "code",
   "execution_count": 45,
   "metadata": {},
   "outputs": [],
   "source": [
    "df_issues_test = pd.read_csv(\"test_issues.csv\")\n",
    "df_comment_test = pd.read_csv(\"test_comments.csv\")"
   ]
  },
  {
   "cell_type": "code",
   "execution_count": 46,
   "metadata": {},
   "outputs": [],
   "source": [
    "df_issues_test['assignee_creator'] = df_issues_test['assignee_id'] == df_issues_test['creator_id']"
   ]
  },
  {
   "cell_type": "code",
   "execution_count": 47,
   "metadata": {},
   "outputs": [],
   "source": [
    "df_issues_test['count_comments'] = df_issues_test['id'].apply(count_comments)"
   ]
  },
  {
   "cell_type": "code",
   "execution_count": 48,
   "metadata": {
    "id": "wCYjC2L7li70"
   },
   "outputs": [],
   "source": [
    "df_issues_test[\"mounth\"] = df_issues_test.created.map(lambda x : int(x.split(\"-\")[1]))\n",
    "df_issues_test[\"day\"] = df_issues_test.created.map(lambda x : int(x.split(\"-\")[2].split()[0]))"
   ]
  },
  {
   "cell_type": "code",
   "execution_count": 49,
   "metadata": {
    "id": "quZc_K-nmmLP"
   },
   "outputs": [],
   "source": [
    "df_test = pd.merge(df_issues_test, df_emp, left_on=\"assignee_id\", right_on=\"id\", how='inner')"
   ]
  },
  {
   "cell_type": "code",
   "execution_count": 50,
   "metadata": {
    "id": "7ea7SamJqJv6"
   },
   "outputs": [],
   "source": [
    "df_test[\"payment_type\"] = pd.Categorical(df_test[\"payment_type\"])\n",
    "df_test[\"payment_type\"].astype('category').cat.codes\n",
    "df_test[\"payment_type\"] = df_test[\"payment_type\"].cat.codes"
   ]
  },
  {
   "cell_type": "code",
   "execution_count": 51,
   "metadata": {
    "id": "vyl7vklEqtyS"
   },
   "outputs": [],
   "source": [
    "df_test[\"hiring_type\"] = pd.Categorical(df_test[\"hiring_type\"])\n",
    "df_test[\"hiring_type\"].astype('category').cat.codes\n",
    "df_test[\"hiring_type\"] = df_test[\"hiring_type\"].cat.codes"
   ]
  },
  {
   "cell_type": "code",
   "execution_count": 52,
   "metadata": {
    "id": "c2GS8Ad5q0mh"
   },
   "outputs": [],
   "source": [
    "df_test[\"english_level\"] = pd.Categorical(df_test[\"english_level\"])\n",
    "df_test[\"english_level\"].astype('category').cat.codes\n",
    "df_test[\"english_level\"] = df_test[\"english_level\"].cat.codes"
   ]
  },
  {
   "cell_type": "code",
   "execution_count": 53,
   "metadata": {
    "id": "4iEbKu75_WS5"
   },
   "outputs": [],
   "source": [
    "mass_object_test = df_test.dtypes[df_test.dtypes == \"object\"].index.values"
   ]
  },
  {
   "cell_type": "code",
   "execution_count": null,
   "metadata": {},
   "outputs": [],
   "source": []
  },
  {
   "cell_type": "code",
   "execution_count": 54,
   "metadata": {
    "id": "EdTqs5ixsOkp"
   },
   "outputs": [],
   "source": [
    "stuff = [\"id_x\",\"id_y\", 'is_labor_contract_signed', 'is_nda_signed', \n",
    "         'is_added_to_internal_chats']\n",
    "\n",
    "mass_object_test = np.append(mass_object_test, stuff)"
   ]
  },
  {
   "cell_type": "code",
   "execution_count": 55,
   "metadata": {
    "id": "czsoZexkyyTw"
   },
   "outputs": [],
   "source": [
    "X_test = df_test.drop(mass_object_test, axis = 1)"
   ]
  },
  {
   "cell_type": "code",
   "execution_count": 56,
   "metadata": {},
   "outputs": [
    {
     "data": {
      "text/html": [
       "<div>\n",
       "<style scoped>\n",
       "    .dataframe tbody tr th:only-of-type {\n",
       "        vertical-align: middle;\n",
       "    }\n",
       "\n",
       "    .dataframe tbody tr th {\n",
       "        vertical-align: top;\n",
       "    }\n",
       "\n",
       "    .dataframe thead th {\n",
       "        text-align: right;\n",
       "    }\n",
       "</style>\n",
       "<table border=\"1\" class=\"dataframe\">\n",
       "  <thead>\n",
       "    <tr style=\"text-align: right;\">\n",
       "      <th></th>\n",
       "      <th>project_id</th>\n",
       "      <th>assignee_id</th>\n",
       "      <th>creator_id</th>\n",
       "      <th>assignee_creator</th>\n",
       "      <th>count_comments</th>\n",
       "      <th>mounth</th>\n",
       "      <th>day</th>\n",
       "      <th>hiring_type</th>\n",
       "      <th>payment_type</th>\n",
       "      <th>english_level</th>\n",
       "      <th>is_added_one_to_one</th>\n",
       "    </tr>\n",
       "  </thead>\n",
       "  <tbody>\n",
       "    <tr>\n",
       "      <th>0</th>\n",
       "      <td>5</td>\n",
       "      <td>112</td>\n",
       "      <td>112</td>\n",
       "      <td>True</td>\n",
       "      <td>0</td>\n",
       "      <td>1</td>\n",
       "      <td>15</td>\n",
       "      <td>1</td>\n",
       "      <td>0</td>\n",
       "      <td>-1</td>\n",
       "      <td>0</td>\n",
       "    </tr>\n",
       "    <tr>\n",
       "      <th>1</th>\n",
       "      <td>5</td>\n",
       "      <td>112</td>\n",
       "      <td>112</td>\n",
       "      <td>True</td>\n",
       "      <td>0</td>\n",
       "      <td>1</td>\n",
       "      <td>15</td>\n",
       "      <td>1</td>\n",
       "      <td>0</td>\n",
       "      <td>-1</td>\n",
       "      <td>0</td>\n",
       "    </tr>\n",
       "    <tr>\n",
       "      <th>2</th>\n",
       "      <td>5</td>\n",
       "      <td>112</td>\n",
       "      <td>1</td>\n",
       "      <td>False</td>\n",
       "      <td>0</td>\n",
       "      <td>2</td>\n",
       "      <td>1</td>\n",
       "      <td>1</td>\n",
       "      <td>0</td>\n",
       "      <td>-1</td>\n",
       "      <td>0</td>\n",
       "    </tr>\n",
       "  </tbody>\n",
       "</table>\n",
       "</div>"
      ],
      "text/plain": [
       "   project_id  assignee_id  creator_id  assignee_creator  count_comments  \\\n",
       "0           5          112         112              True               0   \n",
       "1           5          112         112              True               0   \n",
       "2           5          112           1             False               0   \n",
       "\n",
       "   mounth  day  hiring_type  payment_type  english_level  is_added_one_to_one  \n",
       "0       1   15            1             0             -1                    0  \n",
       "1       1   15            1             0             -1                    0  \n",
       "2       2    1            1             0             -1                    0  "
      ]
     },
     "execution_count": 56,
     "metadata": {},
     "output_type": "execute_result"
    }
   ],
   "source": [
    "X_test.head(3)"
   ]
  },
  {
   "cell_type": "code",
   "execution_count": 57,
   "metadata": {},
   "outputs": [
    {
     "data": {
      "text/html": [
       "<div>\n",
       "<style scoped>\n",
       "    .dataframe tbody tr th:only-of-type {\n",
       "        vertical-align: middle;\n",
       "    }\n",
       "\n",
       "    .dataframe tbody tr th {\n",
       "        vertical-align: top;\n",
       "    }\n",
       "\n",
       "    .dataframe thead th {\n",
       "        text-align: right;\n",
       "    }\n",
       "</style>\n",
       "<table border=\"1\" class=\"dataframe\">\n",
       "  <thead>\n",
       "    <tr style=\"text-align: right;\">\n",
       "      <th></th>\n",
       "      <th>id_x</th>\n",
       "      <th>created</th>\n",
       "      <th>key</th>\n",
       "      <th>summary</th>\n",
       "      <th>project_id</th>\n",
       "      <th>assignee_id</th>\n",
       "      <th>creator_id</th>\n",
       "      <th>assignee_creator</th>\n",
       "      <th>count_comments</th>\n",
       "      <th>mounth</th>\n",
       "      <th>day</th>\n",
       "      <th>id_y</th>\n",
       "      <th>position</th>\n",
       "      <th>hiring_type</th>\n",
       "      <th>payment_type</th>\n",
       "      <th>english_level</th>\n",
       "      <th>is_nda_signed</th>\n",
       "      <th>is_labor_contract_signed</th>\n",
       "      <th>is_added_to_internal_chats</th>\n",
       "      <th>is_added_one_to_one</th>\n",
       "    </tr>\n",
       "  </thead>\n",
       "  <tbody>\n",
       "    <tr>\n",
       "      <th>0</th>\n",
       "      <td>675975</td>\n",
       "      <td>2020-01-15 09:52:57.000</td>\n",
       "      <td>SM-11140</td>\n",
       "      <td>Выгрузить все mp3 файлы звонков на диск</td>\n",
       "      <td>5</td>\n",
       "      <td>112</td>\n",
       "      <td>112</td>\n",
       "      <td>True</td>\n",
       "      <td>0</td>\n",
       "      <td>1</td>\n",
       "      <td>15</td>\n",
       "      <td>112</td>\n",
       "      <td>DevOps инженер</td>\n",
       "      <td>1</td>\n",
       "      <td>0</td>\n",
       "      <td>-1</td>\n",
       "      <td>0</td>\n",
       "      <td>0</td>\n",
       "      <td>0</td>\n",
       "      <td>0</td>\n",
       "    </tr>\n",
       "    <tr>\n",
       "      <th>1</th>\n",
       "      <td>675972</td>\n",
       "      <td>2020-01-15 09:54:35.000</td>\n",
       "      <td>SM-11141</td>\n",
       "      <td>Удалить файлы mp3 звонков с сервера до 01.01.2019</td>\n",
       "      <td>5</td>\n",
       "      <td>112</td>\n",
       "      <td>112</td>\n",
       "      <td>True</td>\n",
       "      <td>0</td>\n",
       "      <td>1</td>\n",
       "      <td>15</td>\n",
       "      <td>112</td>\n",
       "      <td>DevOps инженер</td>\n",
       "      <td>1</td>\n",
       "      <td>0</td>\n",
       "      <td>-1</td>\n",
       "      <td>0</td>\n",
       "      <td>0</td>\n",
       "      <td>0</td>\n",
       "      <td>0</td>\n",
       "    </tr>\n",
       "    <tr>\n",
       "      <th>2</th>\n",
       "      <td>675917</td>\n",
       "      <td>2020-02-01 02:24:11.000</td>\n",
       "      <td>SM-11174</td>\n",
       "      <td>Водители не могут нажать на кнопку «на месте» ...</td>\n",
       "      <td>5</td>\n",
       "      <td>112</td>\n",
       "      <td>1</td>\n",
       "      <td>False</td>\n",
       "      <td>0</td>\n",
       "      <td>2</td>\n",
       "      <td>1</td>\n",
       "      <td>112</td>\n",
       "      <td>DevOps инженер</td>\n",
       "      <td>1</td>\n",
       "      <td>0</td>\n",
       "      <td>-1</td>\n",
       "      <td>0</td>\n",
       "      <td>0</td>\n",
       "      <td>0</td>\n",
       "      <td>0</td>\n",
       "    </tr>\n",
       "  </tbody>\n",
       "</table>\n",
       "</div>"
      ],
      "text/plain": [
       "     id_x                  created       key  \\\n",
       "0  675975  2020-01-15 09:52:57.000  SM-11140   \n",
       "1  675972  2020-01-15 09:54:35.000  SM-11141   \n",
       "2  675917  2020-02-01 02:24:11.000  SM-11174   \n",
       "\n",
       "                                             summary  project_id  assignee_id  \\\n",
       "0            Выгрузить все mp3 файлы звонков на диск           5          112   \n",
       "1  Удалить файлы mp3 звонков с сервера до 01.01.2019           5          112   \n",
       "2  Водители не могут нажать на кнопку «на месте» ...           5          112   \n",
       "\n",
       "   creator_id  assignee_creator  count_comments  mounth  day  id_y  \\\n",
       "0         112              True               0       1   15   112   \n",
       "1         112              True               0       1   15   112   \n",
       "2           1             False               0       2    1   112   \n",
       "\n",
       "         position  hiring_type  payment_type  english_level  is_nda_signed  \\\n",
       "0  DevOps инженер            1             0             -1              0   \n",
       "1  DevOps инженер            1             0             -1              0   \n",
       "2  DevOps инженер            1             0             -1              0   \n",
       "\n",
       "   is_labor_contract_signed  is_added_to_internal_chats  is_added_one_to_one  \n",
       "0                         0                           0                    0  \n",
       "1                         0                           0                    0  \n",
       "2                         0                           0                    0  "
      ]
     },
     "execution_count": 57,
     "metadata": {},
     "output_type": "execute_result"
    }
   ],
   "source": [
    "df_test.head(3)"
   ]
  },
  {
   "cell_type": "code",
   "execution_count": 58,
   "metadata": {},
   "outputs": [],
   "source": [
    "result = pd.DataFrame(df_test['id_x'].rename('id'))"
   ]
  },
  {
   "cell_type": "code",
   "execution_count": 59,
   "metadata": {},
   "outputs": [
    {
     "data": {
      "text/html": [
       "<div>\n",
       "<style scoped>\n",
       "    .dataframe tbody tr th:only-of-type {\n",
       "        vertical-align: middle;\n",
       "    }\n",
       "\n",
       "    .dataframe tbody tr th {\n",
       "        vertical-align: top;\n",
       "    }\n",
       "\n",
       "    .dataframe thead th {\n",
       "        text-align: right;\n",
       "    }\n",
       "</style>\n",
       "<table border=\"1\" class=\"dataframe\">\n",
       "  <thead>\n",
       "    <tr style=\"text-align: right;\">\n",
       "      <th></th>\n",
       "      <th>id</th>\n",
       "    </tr>\n",
       "  </thead>\n",
       "  <tbody>\n",
       "    <tr>\n",
       "      <th>0</th>\n",
       "      <td>675975</td>\n",
       "    </tr>\n",
       "    <tr>\n",
       "      <th>1</th>\n",
       "      <td>675972</td>\n",
       "    </tr>\n",
       "    <tr>\n",
       "      <th>2</th>\n",
       "      <td>675917</td>\n",
       "    </tr>\n",
       "  </tbody>\n",
       "</table>\n",
       "</div>"
      ],
      "text/plain": [
       "       id\n",
       "0  675975\n",
       "1  675972\n",
       "2  675917"
      ]
     },
     "execution_count": 59,
     "metadata": {},
     "output_type": "execute_result"
    }
   ],
   "source": [
    "result.head(3)"
   ]
  },
  {
   "cell_type": "code",
   "execution_count": 60,
   "metadata": {},
   "outputs": [],
   "source": [
    "pred_test = model.predict(X_test)"
   ]
  },
  {
   "cell_type": "code",
   "execution_count": 61,
   "metadata": {},
   "outputs": [],
   "source": [
    "pred_test = np.e**pred_test"
   ]
  },
  {
   "cell_type": "code",
   "execution_count": 62,
   "metadata": {},
   "outputs": [],
   "source": [
    "result['overall_worklogs'] = pred_test"
   ]
  },
  {
   "cell_type": "code",
   "execution_count": 63,
   "metadata": {},
   "outputs": [
    {
     "data": {
      "text/html": [
       "<div>\n",
       "<style scoped>\n",
       "    .dataframe tbody tr th:only-of-type {\n",
       "        vertical-align: middle;\n",
       "    }\n",
       "\n",
       "    .dataframe tbody tr th {\n",
       "        vertical-align: top;\n",
       "    }\n",
       "\n",
       "    .dataframe thead th {\n",
       "        text-align: right;\n",
       "    }\n",
       "</style>\n",
       "<table border=\"1\" class=\"dataframe\">\n",
       "  <thead>\n",
       "    <tr style=\"text-align: right;\">\n",
       "      <th></th>\n",
       "      <th>id</th>\n",
       "      <th>overall_worklogs</th>\n",
       "    </tr>\n",
       "  </thead>\n",
       "  <tbody>\n",
       "    <tr>\n",
       "      <th>0</th>\n",
       "      <td>675975</td>\n",
       "      <td>11944.441646</td>\n",
       "    </tr>\n",
       "    <tr>\n",
       "      <th>1</th>\n",
       "      <td>675972</td>\n",
       "      <td>11944.441646</td>\n",
       "    </tr>\n",
       "    <tr>\n",
       "      <th>2</th>\n",
       "      <td>675917</td>\n",
       "      <td>5972.584452</td>\n",
       "    </tr>\n",
       "  </tbody>\n",
       "</table>\n",
       "</div>"
      ],
      "text/plain": [
       "       id  overall_worklogs\n",
       "0  675975      11944.441646\n",
       "1  675972      11944.441646\n",
       "2  675917       5972.584452"
      ]
     },
     "execution_count": 63,
     "metadata": {},
     "output_type": "execute_result"
    }
   ],
   "source": [
    "result.head(3)"
   ]
  },
  {
   "cell_type": "code",
   "execution_count": 64,
   "metadata": {},
   "outputs": [],
   "source": [
    "result['overall_worklogs'] = result['overall_worklogs'].astype(int)"
   ]
  },
  {
   "cell_type": "code",
   "execution_count": 65,
   "metadata": {},
   "outputs": [
    {
     "data": {
      "text/html": [
       "<div>\n",
       "<style scoped>\n",
       "    .dataframe tbody tr th:only-of-type {\n",
       "        vertical-align: middle;\n",
       "    }\n",
       "\n",
       "    .dataframe tbody tr th {\n",
       "        vertical-align: top;\n",
       "    }\n",
       "\n",
       "    .dataframe thead th {\n",
       "        text-align: right;\n",
       "    }\n",
       "</style>\n",
       "<table border=\"1\" class=\"dataframe\">\n",
       "  <thead>\n",
       "    <tr style=\"text-align: right;\">\n",
       "      <th></th>\n",
       "      <th>id</th>\n",
       "      <th>overall_worklogs</th>\n",
       "    </tr>\n",
       "  </thead>\n",
       "  <tbody>\n",
       "    <tr>\n",
       "      <th>0</th>\n",
       "      <td>675975</td>\n",
       "      <td>11944</td>\n",
       "    </tr>\n",
       "    <tr>\n",
       "      <th>1</th>\n",
       "      <td>675972</td>\n",
       "      <td>11944</td>\n",
       "    </tr>\n",
       "    <tr>\n",
       "      <th>2</th>\n",
       "      <td>675917</td>\n",
       "      <td>5972</td>\n",
       "    </tr>\n",
       "    <tr>\n",
       "      <th>3</th>\n",
       "      <td>675915</td>\n",
       "      <td>5972</td>\n",
       "    </tr>\n",
       "    <tr>\n",
       "      <th>4</th>\n",
       "      <td>675912</td>\n",
       "      <td>8980</td>\n",
       "    </tr>\n",
       "    <tr>\n",
       "      <th>...</th>\n",
       "      <td>...</td>\n",
       "      <td>...</td>\n",
       "    </tr>\n",
       "    <tr>\n",
       "      <th>1065</th>\n",
       "      <td>2176348</td>\n",
       "      <td>77323</td>\n",
       "    </tr>\n",
       "    <tr>\n",
       "      <th>1066</th>\n",
       "      <td>2176673</td>\n",
       "      <td>59918</td>\n",
       "    </tr>\n",
       "    <tr>\n",
       "      <th>1067</th>\n",
       "      <td>686533</td>\n",
       "      <td>11320</td>\n",
       "    </tr>\n",
       "    <tr>\n",
       "      <th>1068</th>\n",
       "      <td>686395</td>\n",
       "      <td>15090</td>\n",
       "    </tr>\n",
       "    <tr>\n",
       "      <th>1069</th>\n",
       "      <td>670929</td>\n",
       "      <td>4517</td>\n",
       "    </tr>\n",
       "  </tbody>\n",
       "</table>\n",
       "<p>1070 rows × 2 columns</p>\n",
       "</div>"
      ],
      "text/plain": [
       "           id  overall_worklogs\n",
       "0      675975             11944\n",
       "1      675972             11944\n",
       "2      675917              5972\n",
       "3      675915              5972\n",
       "4      675912              8980\n",
       "...       ...               ...\n",
       "1065  2176348             77323\n",
       "1066  2176673             59918\n",
       "1067   686533             11320\n",
       "1068   686395             15090\n",
       "1069   670929              4517\n",
       "\n",
       "[1070 rows x 2 columns]"
      ]
     },
     "execution_count": 65,
     "metadata": {},
     "output_type": "execute_result"
    }
   ],
   "source": [
    "result"
   ]
  },
  {
   "cell_type": "code",
   "execution_count": 66,
   "metadata": {},
   "outputs": [],
   "source": [
    "result.to_csv('final.csv', index=False) "
   ]
  },
  {
   "cell_type": "code",
   "execution_count": null,
   "metadata": {},
   "outputs": [],
   "source": []
  }
 ],
 "metadata": {
  "colab": {
   "provenance": []
  },
  "kernelspec": {
   "display_name": "Python 3",
   "language": "python",
   "name": "python3"
  },
  "language_info": {
   "codemirror_mode": {
    "name": "ipython",
    "version": 3
   },
   "file_extension": ".py",
   "mimetype": "text/x-python",
   "name": "python",
   "nbconvert_exporter": "python",
   "pygments_lexer": "ipython3",
   "version": "3.7.6"
  }
 },
 "nbformat": 4,
 "nbformat_minor": 1
}
